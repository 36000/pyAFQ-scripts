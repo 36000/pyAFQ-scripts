{
 "cells": [
  {
   "cell_type": "code",
   "execution_count": 2,
   "metadata": {},
   "outputs": [
    {
     "name": "stderr",
     "output_type": "stream",
     "text": [
      "/Users/john/miniconda3/envs/afq/lib/python3.7/site-packages/distributed/dashboard/core.py:72: UserWarning: \n",
      "Port 8787 is already in use. \n",
      "Perhaps you already have a cluster running?\n",
      "Hosting the diagnostics dashboard on a random port instead.\n",
      "  warnings.warn(\"\\n\" + msg)\n"
     ]
    },
    {
     "data": {
      "text/html": [
       "<table style=\"border: 2px solid white;\">\n",
       "<tr>\n",
       "<td style=\"vertical-align: top; border: 0px solid white\">\n",
       "<h3 style=\"text-align: left;\">Client</h3>\n",
       "<ul style=\"text-align: left; list-style: none; margin: 0; padding: 0;\">\n",
       "  <li><b>Scheduler: </b>tcp://127.0.0.1:58776</li>\n",
       "  <li><b>Dashboard: </b><a href='http://127.0.0.1:58777/status' target='_blank'>http://127.0.0.1:58777/status</a>\n",
       "</ul>\n",
       "</td>\n",
       "<td style=\"vertical-align: top; border: 0px solid white\">\n",
       "<h3 style=\"text-align: left;\">Cluster</h3>\n",
       "<ul style=\"text-align: left; list-style:none; margin: 0; padding: 0;\">\n",
       "  <li><b>Workers: </b>4</li>\n",
       "  <li><b>Cores: </b>4</li>\n",
       "  <li><b>Memory: </b>8.59 GB</li>\n",
       "</ul>\n",
       "</td>\n",
       "</tr>\n",
       "</table>"
      ],
      "text/plain": [
       "<Client: 'tcp://127.0.0.1:58776' processes=4 threads=4, memory=8.59 GB>"
      ]
     },
     "execution_count": 2,
     "metadata": {},
     "output_type": "execute_result"
    }
   ],
   "source": [
    "from dask.distributed import Client\n",
    "client = Client()\n",
    "client"
   ]
  },
  {
   "cell_type": "code",
   "execution_count": 3,
   "metadata": {},
   "outputs": [],
   "source": [
    "import dask.dataframe as dd\n",
    "import s3fs\n",
    "import boto3"
   ]
  },
  {
   "cell_type": "code",
   "execution_count": 9,
   "metadata": {},
   "outputs": [],
   "source": [
    "subs = [100408,\n",
    "        100610,\n",
    "        101006,\n",
    "        101107,\n",
    "        101309,\n",
    "        101410,\n",
    "        101915,\n",
    "        102008,\n",
    "        102109,\n",
    "        102311,\n",
    "        102513]\n",
    "bundle_names_afq = [\"ATR\", \"CGC\", \"CST\", \"HCC\", \"IFO\", \"ILF\", \"SLF\", \"ARC\", \"UNC\", \"FA\", \"FP\"]\n",
    "bundle_names_reco =['CST',\n",
    "                    'C',\n",
    "                    'F',\n",
    "                    'UF',\n",
    "                    'MCP',\n",
    "                    'AF',\n",
    "                    'CCMid',\n",
    "                    'AF',\n",
    "                    'CC_ForcepsMajor',\n",
    "                    'CC_ForcepsMinor',\n",
    "                    'IFOF'] "
   ]
  },
  {
   "cell_type": "code",
   "execution_count": 8,
   "metadata": {},
   "outputs": [
    {
     "name": "stdout",
     "output_type": "stream",
     "text": [
      "100610 not found\n",
      "101006 not found\n",
      "101915 not found\n"
     ]
    }
   ],
   "source": [
    "s3 = s3fs.S3FileSystem(anon=False)\n",
    "\n",
    "for subject in subs:\n",
    "    try:\n",
    "        profiles_afq = dd.read_csv(f's3://hcp.afq/sub-{subject}/sub-{subject}_model-csd_track-det_segment-afq_profiles.csv')\n",
    "    except FileNotFoundError:\n",
    "        print(f'subject {subject} profile not found')\n",
    "    \n",
    "    # iterate over nodes for each bundle, calculate\n",
    "    # abs(profiles_afq - profiles_reco / profiles_afq)\n",
    "    \n",
    "    for bundle in bundle_names_afq:\n",
    "        try:\n",
    "            \n",
    "        except FileNotFoundError:\n",
    "            print(f'subject {subject}, bundle {bundle} idx not found')\n",
    "    \n",
    "    "
   ]
  },
  {
   "cell_type": "code",
   "execution_count": null,
   "metadata": {},
   "outputs": [],
   "source": []
  }
 ],
 "metadata": {
  "kernelspec": {
   "display_name": "Python 3",
   "language": "python",
   "name": "python3"
  },
  "language_info": {
   "codemirror_mode": {
    "name": "ipython",
    "version": 3
   },
   "file_extension": ".py",
   "mimetype": "text/x-python",
   "name": "python",
   "nbconvert_exporter": "python",
   "pygments_lexer": "ipython3",
   "version": "3.7.0"
  }
 },
 "nbformat": 4,
 "nbformat_minor": 2
}
