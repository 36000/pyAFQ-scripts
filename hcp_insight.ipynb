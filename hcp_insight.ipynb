{
 "cells": [
  {
   "cell_type": "code",
   "execution_count": 1,
   "metadata": {},
   "outputs": [
    {
     "name": "stderr",
     "output_type": "stream",
     "text": [
      "/Users/john/opt/miniconda3/envs/afq/lib/python3.7/site-packages/sklearn/utils/deprecation.py:144: FutureWarning: The sklearn.datasets.samples_generator module is  deprecated in version 0.22 and will be removed in version 0.24. The corresponding classes / functions should instead be imported from sklearn.datasets. Anything that cannot be imported from sklearn.datasets is now part of the private API.\n",
      "  warnings.warn(message, FutureWarning)\n"
     ]
    }
   ],
   "source": [
    "import s3fs\n",
    "import os\n",
    "import os.path as op\n",
    "import pandas as pd\n",
    "import numpy as np\n",
    "\n",
    "import afqinsight as afqi"
   ]
  },
  {
   "cell_type": "code",
   "execution_count": 2,
   "metadata": {},
   "outputs": [],
   "source": [
    "subjects = [\"100206\", \"162228\", \"175540\"]"
   ]
  },
  {
   "cell_type": "code",
   "execution_count": 5,
   "metadata": {},
   "outputs": [],
   "source": [
    "# download profiles\n",
    "fs = s3fs.S3FileSystem()\n",
    "\n",
    "if not op.exists('hcp_data'):\n",
    "    os.mkdir('hcp_data')\n",
    "\n",
    "for subject in subjects:\n",
    "    if not op.exists(f'hcp_data/sub-{subject}'):\n",
    "        os.mkdir(f'hcp_data/sub-{subject}')\n",
    "    try:\n",
    "        fs.get(f'profile-hcp/afq/afq/sub-{subject}/sess-01/sub-{subject}_dwi_profiles.csv', f'hcp_data/sub-{subject}/nodes.csv')\n",
    "    except FileNotFoundError:\n",
    "        print(f'subject {subject} profiles not found')"
   ]
  },
  {
   "cell_type": "code",
   "execution_count": null,
   "metadata": {},
   "outputs": [],
   "source": [
    "# organize profiles\n",
    "profile_all = pd.DataFrame(columns=['subjectID', 'tractID', 'nodeID', 'fa' , 'md'])\n",
    "for subject in subjects:\n",
    "    profile_curr = pd.read_csv(f'hcp_data/sub-{subject}/nodes.csv')\n",
    "    for index, row in profile_curr[profile_curr['scalar'] == 'dti_fa'].iterrows():\n",
    "        md = profile_curr[(profile_curr['scalar'] == 'dti_md') &\n",
    "                         (profile_curr['bundle'] == row['bundle']) &\n",
    "                         (profile_curr['node'] == row['node'])]['profiles']\n",
    "        profile_all = profile_all.append({'subjectID':subject,\n",
    "                            'tractID':row['bundle'],\n",
    "                            'nodeID':row['node'],\n",
    "                            'fa':row['profiles'],\n",
    "                            'md':md.to_numpy()[0]}, ignore_index=True)\n",
    "profile_all.to_csv(f'hcp_data/nodes.csv', index=False)\n",
    "     "
   ]
  },
  {
   "cell_type": "code",
   "execution_count": 10,
   "metadata": {},
   "outputs": [],
   "source": [
    "# organize subjects\n",
    "subjects_pd = pd.read_csv('hcp_data/subjects.csv')\n",
    "columns = subjects_pd.columns.values\n",
    "if 'subjectID' not in columns:\n",
    "    columns[0] = 'subjectID'\n",
    "    subjects_pd.columns = columns\n",
    "    subjects_pd.to_csv('hcp_data/subjects.csv', index=True)"
   ]
  },
  {
   "cell_type": "code",
   "execution_count": null,
   "metadata": {},
   "outputs": [],
   "source": [
    "\n",
    "\n"
   ]
  },
  {
   "cell_type": "code",
   "execution_count": 12,
   "metadata": {},
   "outputs": [],
   "source": [
    "subjects_pd = pd.read_csv('hcp_data/subjects.csv', index_col=\"subjectID\").drop(\n",
    "        [\"Unnamed: 0\"], axis=\"columns\"\n",
    "    )\n",
    "mat = afqi.load_afq_data('hcp_data', subjects_pd.columns)"
   ]
  },
  {
   "cell_type": "code",
   "execution_count": null,
   "metadata": {},
   "outputs": [],
   "source": []
  }
 ],
 "metadata": {
  "kernelspec": {
   "display_name": "Python 3",
   "language": "python",
   "name": "python3"
  },
  "language_info": {
   "codemirror_mode": {
    "name": "ipython",
    "version": 3
   },
   "file_extension": ".py",
   "mimetype": "text/x-python",
   "name": "python",
   "nbconvert_exporter": "python",
   "pygments_lexer": "ipython3",
   "version": "3.7.0"
  }
 },
 "nbformat": 4,
 "nbformat_minor": 4
}
