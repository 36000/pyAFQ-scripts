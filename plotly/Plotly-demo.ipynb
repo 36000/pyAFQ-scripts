{
 "cells": [
  {
   "cell_type": "code",
   "execution_count": 1,
   "metadata": {},
   "outputs": [],
   "source": [
    "from IPython.core.display import display, HTML"
   ]
  },
  {
   "cell_type": "code",
   "execution_count": 2,
   "metadata": {},
   "outputs": [
    {
     "name": "stdout",
     "output_type": "stream",
     "text": [
      "If you want to follow along, checkout this pull request:\n"
     ]
    },
    {
     "data": {
      "text/html": [
       "<a href=\"https://github.com/yeatmanlab/pyAFQ/pull/289\">https://github.com/yeatmanlab/pyAFQ/pull/289</a>"
      ],
      "text/plain": [
       "<IPython.core.display.HTML object>"
      ]
     },
     "metadata": {},
     "output_type": "display_data"
    },
    {
     "name": "stdout",
     "output_type": "stream",
     "text": [
      "To use checkout pull request, run the following commands in your pyAFQ folder:\n",
      "    git checkout -b 36000-plotly master\n",
      "    git pull https://github.com/36000/pyAFQ.git plotly\n",
      "\n",
      "This jupyter notebook script is saved here: \n"
     ]
    },
    {
     "data": {
      "text/html": [
       "<a href=\"https://github.com/36000/pyAFQ-scripts/blob/master/plotly/Plotly-demo.ipynb\">https://github.com/36000/pyAFQ-scripts/blob/master/plotly/Plotly-demo.ipynb</a>"
      ],
      "text/plain": [
       "<IPython.core.display.HTML object>"
      ]
     },
     "metadata": {},
     "output_type": "display_data"
    }
   ],
   "source": [
    "print(\"If you want to follow along, checkout this pull request:\")\n",
    "display(HTML(\"\"\"<a href=\"https://github.com/yeatmanlab/pyAFQ/pull/289\">https://github.com/yeatmanlab/pyAFQ/pull/289</a>\"\"\"))\n",
    "print(\"To use checkout pull request, run the following commands in your pyAFQ folder:\")\n",
    "print(\"    git checkout -b 36000-plotly master\")\n",
    "print(\"    git pull https://github.com/36000/pyAFQ.git plotly\")\n",
    "print(\"\\nThis jupyter notebook script is saved here: \")\n",
    "display(HTML(\"\"\"<a href=\"https://github.com/36000/pyAFQ-scripts/blob/master/plotly/Plotly-demo.ipynb\">https://github.com/36000/pyAFQ-scripts/blob/master/plotly/Plotly-demo.ipynb</a>\"\"\"))"
   ]
  },
  {
   "cell_type": "code",
   "execution_count": 1,
   "metadata": {},
   "outputs": [
    {
     "name": "stderr",
     "output_type": "stream",
     "text": [
      "/Users/john/opt/miniconda3/envs/afq/lib/python3.7/site-packages/dask/config.py:168: YAMLLoadWarning: calling yaml.load() without Loader=... is deprecated, as the default Loader is unsafe. Please read https://msg.pyyaml.org/load for full details.\n",
      "  data = yaml.load(f.read()) or {}\n",
      "/Users/john/opt/miniconda3/envs/afq/lib/python3.7/site-packages/dask/dataframe/utils.py:13: FutureWarning: pandas.util.testing is deprecated. Use the functions in the public API at pandas.testing instead.\n",
      "  import pandas.util.testing as tm\n",
      "/Users/john/opt/miniconda3/envs/afq/lib/python3.7/site-packages/dipy/stats/__init__.py:7: UserWarning: The `dipy.stats` module is still under heavy development and functionality, as well as the API is likely to change in future versions of the software\n",
      "  warnings.warn(w_string)\n"
     ]
    }
   ],
   "source": [
    "# The next few cells pertain to setting up an afq object using prek data from s3\n",
    "# If you have access to our amazon s3, you can try running this with the sample prek subject\n",
    "# Otherwise, follow along with the parts of the example that do not require this data\n",
    "\n",
    "import logging\n",
    "import s3fs\n",
    "import os.path as op\n",
    "import os\n",
    "import AFQ.api as api"
   ]
  },
  {
   "cell_type": "code",
   "execution_count": 2,
   "metadata": {},
   "outputs": [],
   "source": [
    "# set up AFQ api object\n",
    "def afq_prek_api(subject):    \n",
    "    logging.basicConfig(level=logging.INFO)\n",
    "    log = logging.getLogger(__name__)  \n",
    "\n",
    "    fs = s3fs.S3FileSystem()\n",
    "    \n",
    "    sub_prefix = f\"sub-\"\n",
    "        \n",
    "    dwi_dir = f'prek-diffusion/derivatives/sub-{subject}/dtiInit_ses-pre'\n",
    "    dmri_prep_dir = op.join(op.expanduser('~'), 'AFQ_data', 'prek-diffusion/dmri_prep')\n",
    "\n",
    "    prek_fdata_src = op.join(dwi_dir, f\"sub-{subject}_ses-pre_acq-b1500_dwi_aligned_trilin.nii.gz\")\n",
    "    prek_fbval_src = op.join(dwi_dir, f\"sub-{subject}_ses-pre_acq-b1500_dwi_aligned_trilin.bvals\")\n",
    "    prek_fbvec_src = op.join(dwi_dir, f\"sub-{subject}_ses-pre_acq-b1500_dwi_aligned_trilin.bvecs\")\n",
    "    \n",
    "    prek_fdata = f\"{dmri_prep_dir}/sub-{subject}/dtiInit_ses-pre/dwi/dwi_aligned_trilin.nii.gz\"\n",
    "    prek_fbval = f\"{dmri_prep_dir}/sub-{subject}/dtiInit_ses-pre/dwi/dwi_aligned_trilin.bvals\"\n",
    "    prek_fbvec = f\"{dmri_prep_dir}/sub-{subject}/dtiInit_ses-pre/dwi/dwi_aligned_trilin.bvecs\"\n",
    "    \n",
    "    anat_dir = f'prek-diffusion/derivatives/sub-{subject}/freesurfer/mri'\n",
    "\n",
    "    if not op.exists(prek_fdata):\n",
    "        fs.get(prek_fdata_src, prek_fdata)\n",
    "        fs.get(prek_fbval_src, prek_fbval)\n",
    "        fs.get(prek_fbvec_src, prek_fbvec)\n",
    "\n",
    "        fs.get(op.join(anat_dir, f\"aparc+aseg.nii.gz\"), f\"{dmri_prep_dir}/sub-{subject}/dtiInit_ses-pre/anat/aparc+aseg.nii.gz\")\n",
    "\n",
    "    b0_threshold = 50\n",
    "\n",
    "    tracking_params = {\"n_seeds\": 2, \"directions\": 'det', \"stop_threshold\": 0.2}\n",
    "    segmentation_params = {\"prob_threshold\": 10, \"b0_threshold\": b0_threshold}\n",
    "    clean_params = {\"clean_rounds\": 1}\n",
    "    \n",
    "    # uncomment this to download relevant files instead of generating them\n",
    "    # fs.get(\"prek-diffusion/derivatives_fa/afq/sub1110/sess\", op.join(op.expanduser('~'), 'AFQ_data/prek-diffusion/afq/sub-1110/dtiInit_ses-pre'), recursive=True)\n",
    "\n",
    "    myafq = api.AFQ(dmri_prep_dir,\n",
    "                    dwi_folder=\"dwi\",\n",
    "                    dwi_file=\"dwi*\", \n",
    "                    anat_folder=\"anat\",\n",
    "                    sub_prefix=sub_prefix,\n",
    "                    b0_threshold=b0_threshold,\n",
    "                    viz_library=\"plotly\",\n",
    "\n",
    "                    tracking_params=tracking_params,\n",
    "                    segmentation_params=segmentation_params,\n",
    "                    clean_params=clean_params)\n",
    "\n",
    "    myafq.export_bundles()\n",
    "    return myafq"
   ]
  },
  {
   "cell_type": "code",
   "execution_count": 3,
   "metadata": {},
   "outputs": [
    {
     "name": "stderr",
     "output_type": "stream",
     "text": [
      "INFO:botocore.credentials:Found credentials in shared credentials file: ~/.aws/credentials\n",
      "INFO:dipy.data.fetcher:Dataset is already in place. If you want to fetch it again please first remove the folder /Users/john/AFQ_data/templates \n",
      "INFO:dipy.data.fetcher:Dataset is already in place. If you want to fetch it again please first remove the folder /Users/john/AFQ_data/callosum_templates \n",
      "INFO:AFQ.api:Saving /Users/john/AFQ_data/prek-diffusion/afq/sub-1110/dtiInit_ses-pre/clean_bundles/dwi_aligned_trilin_space-RASMM_model-DTI_desc-det-AFQ-ATR_R_tractography.trk\n",
      "INFO:AFQ.api:Saving /Users/john/AFQ_data/prek-diffusion/afq/sub-1110/dtiInit_ses-pre/clean_bundles/dwi_aligned_trilin_space-RASMM_model-DTI_desc-det-AFQ-ATR_L_tractography.trk\n",
      "INFO:AFQ.api:Saving /Users/john/AFQ_data/prek-diffusion/afq/sub-1110/dtiInit_ses-pre/clean_bundles/dwi_aligned_trilin_space-RASMM_model-DTI_desc-det-AFQ-CGC_R_tractography.trk\n",
      "INFO:AFQ.api:Saving /Users/john/AFQ_data/prek-diffusion/afq/sub-1110/dtiInit_ses-pre/clean_bundles/dwi_aligned_trilin_space-RASMM_model-DTI_desc-det-AFQ-CGC_L_tractography.trk\n",
      "INFO:AFQ.api:Saving /Users/john/AFQ_data/prek-diffusion/afq/sub-1110/dtiInit_ses-pre/clean_bundles/dwi_aligned_trilin_space-RASMM_model-DTI_desc-det-AFQ-CST_R_tractography.trk\n",
      "INFO:AFQ.api:Saving /Users/john/AFQ_data/prek-diffusion/afq/sub-1110/dtiInit_ses-pre/clean_bundles/dwi_aligned_trilin_space-RASMM_model-DTI_desc-det-AFQ-CST_L_tractography.trk\n",
      "INFO:AFQ.api:Saving /Users/john/AFQ_data/prek-diffusion/afq/sub-1110/dtiInit_ses-pre/clean_bundles/dwi_aligned_trilin_space-RASMM_model-DTI_desc-det-AFQ-HCC_R_tractography.trk\n",
      "INFO:AFQ.api:Saving /Users/john/AFQ_data/prek-diffusion/afq/sub-1110/dtiInit_ses-pre/clean_bundles/dwi_aligned_trilin_space-RASMM_model-DTI_desc-det-AFQ-HCC_L_tractography.trk\n",
      "INFO:AFQ.api:Saving /Users/john/AFQ_data/prek-diffusion/afq/sub-1110/dtiInit_ses-pre/clean_bundles/dwi_aligned_trilin_space-RASMM_model-DTI_desc-det-AFQ-IFO_R_tractography.trk\n",
      "INFO:AFQ.api:Saving /Users/john/AFQ_data/prek-diffusion/afq/sub-1110/dtiInit_ses-pre/clean_bundles/dwi_aligned_trilin_space-RASMM_model-DTI_desc-det-AFQ-IFO_L_tractography.trk\n",
      "INFO:AFQ.api:Saving /Users/john/AFQ_data/prek-diffusion/afq/sub-1110/dtiInit_ses-pre/clean_bundles/dwi_aligned_trilin_space-RASMM_model-DTI_desc-det-AFQ-ILF_R_tractography.trk\n",
      "INFO:AFQ.api:Saving /Users/john/AFQ_data/prek-diffusion/afq/sub-1110/dtiInit_ses-pre/clean_bundles/dwi_aligned_trilin_space-RASMM_model-DTI_desc-det-AFQ-ILF_L_tractography.trk\n",
      "INFO:AFQ.api:Saving /Users/john/AFQ_data/prek-diffusion/afq/sub-1110/dtiInit_ses-pre/clean_bundles/dwi_aligned_trilin_space-RASMM_model-DTI_desc-det-AFQ-SLF_R_tractography.trk\n",
      "INFO:AFQ.api:Saving /Users/john/AFQ_data/prek-diffusion/afq/sub-1110/dtiInit_ses-pre/clean_bundles/dwi_aligned_trilin_space-RASMM_model-DTI_desc-det-AFQ-SLF_L_tractography.trk\n",
      "INFO:AFQ.api:Saving /Users/john/AFQ_data/prek-diffusion/afq/sub-1110/dtiInit_ses-pre/clean_bundles/dwi_aligned_trilin_space-RASMM_model-DTI_desc-det-AFQ-ARC_R_tractography.trk\n",
      "INFO:AFQ.api:Saving /Users/john/AFQ_data/prek-diffusion/afq/sub-1110/dtiInit_ses-pre/clean_bundles/dwi_aligned_trilin_space-RASMM_model-DTI_desc-det-AFQ-ARC_L_tractography.trk\n",
      "INFO:AFQ.api:Saving /Users/john/AFQ_data/prek-diffusion/afq/sub-1110/dtiInit_ses-pre/clean_bundles/dwi_aligned_trilin_space-RASMM_model-DTI_desc-det-AFQ-UNC_R_tractography.trk\n",
      "INFO:AFQ.api:Saving /Users/john/AFQ_data/prek-diffusion/afq/sub-1110/dtiInit_ses-pre/clean_bundles/dwi_aligned_trilin_space-RASMM_model-DTI_desc-det-AFQ-UNC_L_tractography.trk\n",
      "INFO:AFQ.api:Saving /Users/john/AFQ_data/prek-diffusion/afq/sub-1110/dtiInit_ses-pre/clean_bundles/dwi_aligned_trilin_space-RASMM_model-DTI_desc-det-AFQ-FA_tractography.trk\n",
      "INFO:AFQ.api:Saving /Users/john/AFQ_data/prek-diffusion/afq/sub-1110/dtiInit_ses-pre/clean_bundles/dwi_aligned_trilin_space-RASMM_model-DTI_desc-det-AFQ-FP_tractography.trk\n",
      "INFO:AFQ.api:Saving /Users/john/AFQ_data/prek-diffusion/afq/sub-1110/dtiInit_ses-pre/bundles/dwi_aligned_trilin_space-RASMM_model-DTI_desc-det-AFQ-ATR_R_tractography.trk\n",
      "INFO:AFQ.api:Saving /Users/john/AFQ_data/prek-diffusion/afq/sub-1110/dtiInit_ses-pre/bundles/dwi_aligned_trilin_space-RASMM_model-DTI_desc-det-AFQ-ATR_L_tractography.trk\n",
      "INFO:AFQ.api:Saving /Users/john/AFQ_data/prek-diffusion/afq/sub-1110/dtiInit_ses-pre/bundles/dwi_aligned_trilin_space-RASMM_model-DTI_desc-det-AFQ-CGC_R_tractography.trk\n",
      "INFO:AFQ.api:Saving /Users/john/AFQ_data/prek-diffusion/afq/sub-1110/dtiInit_ses-pre/bundles/dwi_aligned_trilin_space-RASMM_model-DTI_desc-det-AFQ-CGC_L_tractography.trk\n",
      "INFO:AFQ.api:Saving /Users/john/AFQ_data/prek-diffusion/afq/sub-1110/dtiInit_ses-pre/bundles/dwi_aligned_trilin_space-RASMM_model-DTI_desc-det-AFQ-CST_R_tractography.trk\n",
      "INFO:AFQ.api:Saving /Users/john/AFQ_data/prek-diffusion/afq/sub-1110/dtiInit_ses-pre/bundles/dwi_aligned_trilin_space-RASMM_model-DTI_desc-det-AFQ-CST_L_tractography.trk\n",
      "INFO:AFQ.api:Saving /Users/john/AFQ_data/prek-diffusion/afq/sub-1110/dtiInit_ses-pre/bundles/dwi_aligned_trilin_space-RASMM_model-DTI_desc-det-AFQ-HCC_R_tractography.trk\n",
      "INFO:AFQ.api:Saving /Users/john/AFQ_data/prek-diffusion/afq/sub-1110/dtiInit_ses-pre/bundles/dwi_aligned_trilin_space-RASMM_model-DTI_desc-det-AFQ-HCC_L_tractography.trk\n",
      "INFO:AFQ.api:Saving /Users/john/AFQ_data/prek-diffusion/afq/sub-1110/dtiInit_ses-pre/bundles/dwi_aligned_trilin_space-RASMM_model-DTI_desc-det-AFQ-IFO_R_tractography.trk\n",
      "INFO:AFQ.api:Saving /Users/john/AFQ_data/prek-diffusion/afq/sub-1110/dtiInit_ses-pre/bundles/dwi_aligned_trilin_space-RASMM_model-DTI_desc-det-AFQ-IFO_L_tractography.trk\n",
      "INFO:AFQ.api:Saving /Users/john/AFQ_data/prek-diffusion/afq/sub-1110/dtiInit_ses-pre/bundles/dwi_aligned_trilin_space-RASMM_model-DTI_desc-det-AFQ-ILF_R_tractography.trk\n",
      "INFO:AFQ.api:Saving /Users/john/AFQ_data/prek-diffusion/afq/sub-1110/dtiInit_ses-pre/bundles/dwi_aligned_trilin_space-RASMM_model-DTI_desc-det-AFQ-ILF_L_tractography.trk\n",
      "INFO:AFQ.api:Saving /Users/john/AFQ_data/prek-diffusion/afq/sub-1110/dtiInit_ses-pre/bundles/dwi_aligned_trilin_space-RASMM_model-DTI_desc-det-AFQ-SLF_R_tractography.trk\n",
      "INFO:AFQ.api:Saving /Users/john/AFQ_data/prek-diffusion/afq/sub-1110/dtiInit_ses-pre/bundles/dwi_aligned_trilin_space-RASMM_model-DTI_desc-det-AFQ-SLF_L_tractography.trk\n",
      "INFO:AFQ.api:Saving /Users/john/AFQ_data/prek-diffusion/afq/sub-1110/dtiInit_ses-pre/bundles/dwi_aligned_trilin_space-RASMM_model-DTI_desc-det-AFQ-ARC_R_tractography.trk\n",
      "INFO:AFQ.api:Saving /Users/john/AFQ_data/prek-diffusion/afq/sub-1110/dtiInit_ses-pre/bundles/dwi_aligned_trilin_space-RASMM_model-DTI_desc-det-AFQ-ARC_L_tractography.trk\n",
      "INFO:AFQ.api:Saving /Users/john/AFQ_data/prek-diffusion/afq/sub-1110/dtiInit_ses-pre/bundles/dwi_aligned_trilin_space-RASMM_model-DTI_desc-det-AFQ-UNC_R_tractography.trk\n",
      "INFO:AFQ.api:Saving /Users/john/AFQ_data/prek-diffusion/afq/sub-1110/dtiInit_ses-pre/bundles/dwi_aligned_trilin_space-RASMM_model-DTI_desc-det-AFQ-UNC_L_tractography.trk\n",
      "INFO:AFQ.api:Saving /Users/john/AFQ_data/prek-diffusion/afq/sub-1110/dtiInit_ses-pre/bundles/dwi_aligned_trilin_space-RASMM_model-DTI_desc-det-AFQ-FA_tractography.trk\n",
      "INFO:AFQ.api:Saving /Users/john/AFQ_data/prek-diffusion/afq/sub-1110/dtiInit_ses-pre/bundles/dwi_aligned_trilin_space-RASMM_model-DTI_desc-det-AFQ-FP_tractography.trk\n"
     ]
    }
   ],
   "source": [
    "myafq = afq_prek_api(1110) # run on example subject"
   ]
  },
  {
   "cell_type": "code",
   "execution_count": 4,
   "metadata": {},
   "outputs": [],
   "source": [
    "# after afq api is setup, we can look at plotting"
   ]
  },
  {
   "cell_type": "code",
   "execution_count": 25,
   "metadata": {},
   "outputs": [],
   "source": [
    "import plotly.graph_objects as go\n",
    "from plotly.offline import iplot\n",
    "import numpy as np"
   ]
  },
  {
   "cell_type": "code",
   "execution_count": 26,
   "metadata": {},
   "outputs": [
    {
     "data": {
      "application/vnd.plotly.v1+json": {
       "config": {
        "linkText": "Export to plot.ly",
        "plotlyServerURL": "https://plot.ly",
        "showLink": false
       },
       "data": [
        {
         "type": "bar",
         "y": [
          97,
          102,
          113
         ]
        }
       ],
       "layout": {
        "template": {
         "data": {
          "bar": [
           {
            "error_x": {
             "color": "#2a3f5f"
            },
            "error_y": {
             "color": "#2a3f5f"
            },
            "marker": {
             "line": {
              "color": "#E5ECF6",
              "width": 0.5
             }
            },
            "type": "bar"
           }
          ],
          "barpolar": [
           {
            "marker": {
             "line": {
              "color": "#E5ECF6",
              "width": 0.5
             }
            },
            "type": "barpolar"
           }
          ],
          "carpet": [
           {
            "aaxis": {
             "endlinecolor": "#2a3f5f",
             "gridcolor": "white",
             "linecolor": "white",
             "minorgridcolor": "white",
             "startlinecolor": "#2a3f5f"
            },
            "baxis": {
             "endlinecolor": "#2a3f5f",
             "gridcolor": "white",
             "linecolor": "white",
             "minorgridcolor": "white",
             "startlinecolor": "#2a3f5f"
            },
            "type": "carpet"
           }
          ],
          "choropleth": [
           {
            "colorbar": {
             "outlinewidth": 0,
             "ticks": ""
            },
            "type": "choropleth"
           }
          ],
          "contour": [
           {
            "colorbar": {
             "outlinewidth": 0,
             "ticks": ""
            },
            "colorscale": [
             [
              0,
              "#0d0887"
             ],
             [
              0.1111111111111111,
              "#46039f"
             ],
             [
              0.2222222222222222,
              "#7201a8"
             ],
             [
              0.3333333333333333,
              "#9c179e"
             ],
             [
              0.4444444444444444,
              "#bd3786"
             ],
             [
              0.5555555555555556,
              "#d8576b"
             ],
             [
              0.6666666666666666,
              "#ed7953"
             ],
             [
              0.7777777777777778,
              "#fb9f3a"
             ],
             [
              0.8888888888888888,
              "#fdca26"
             ],
             [
              1,
              "#f0f921"
             ]
            ],
            "type": "contour"
           }
          ],
          "contourcarpet": [
           {
            "colorbar": {
             "outlinewidth": 0,
             "ticks": ""
            },
            "type": "contourcarpet"
           }
          ],
          "heatmap": [
           {
            "colorbar": {
             "outlinewidth": 0,
             "ticks": ""
            },
            "colorscale": [
             [
              0,
              "#0d0887"
             ],
             [
              0.1111111111111111,
              "#46039f"
             ],
             [
              0.2222222222222222,
              "#7201a8"
             ],
             [
              0.3333333333333333,
              "#9c179e"
             ],
             [
              0.4444444444444444,
              "#bd3786"
             ],
             [
              0.5555555555555556,
              "#d8576b"
             ],
             [
              0.6666666666666666,
              "#ed7953"
             ],
             [
              0.7777777777777778,
              "#fb9f3a"
             ],
             [
              0.8888888888888888,
              "#fdca26"
             ],
             [
              1,
              "#f0f921"
             ]
            ],
            "type": "heatmap"
           }
          ],
          "heatmapgl": [
           {
            "colorbar": {
             "outlinewidth": 0,
             "ticks": ""
            },
            "colorscale": [
             [
              0,
              "#0d0887"
             ],
             [
              0.1111111111111111,
              "#46039f"
             ],
             [
              0.2222222222222222,
              "#7201a8"
             ],
             [
              0.3333333333333333,
              "#9c179e"
             ],
             [
              0.4444444444444444,
              "#bd3786"
             ],
             [
              0.5555555555555556,
              "#d8576b"
             ],
             [
              0.6666666666666666,
              "#ed7953"
             ],
             [
              0.7777777777777778,
              "#fb9f3a"
             ],
             [
              0.8888888888888888,
              "#fdca26"
             ],
             [
              1,
              "#f0f921"
             ]
            ],
            "type": "heatmapgl"
           }
          ],
          "histogram": [
           {
            "marker": {
             "colorbar": {
              "outlinewidth": 0,
              "ticks": ""
             }
            },
            "type": "histogram"
           }
          ],
          "histogram2d": [
           {
            "colorbar": {
             "outlinewidth": 0,
             "ticks": ""
            },
            "colorscale": [
             [
              0,
              "#0d0887"
             ],
             [
              0.1111111111111111,
              "#46039f"
             ],
             [
              0.2222222222222222,
              "#7201a8"
             ],
             [
              0.3333333333333333,
              "#9c179e"
             ],
             [
              0.4444444444444444,
              "#bd3786"
             ],
             [
              0.5555555555555556,
              "#d8576b"
             ],
             [
              0.6666666666666666,
              "#ed7953"
             ],
             [
              0.7777777777777778,
              "#fb9f3a"
             ],
             [
              0.8888888888888888,
              "#fdca26"
             ],
             [
              1,
              "#f0f921"
             ]
            ],
            "type": "histogram2d"
           }
          ],
          "histogram2dcontour": [
           {
            "colorbar": {
             "outlinewidth": 0,
             "ticks": ""
            },
            "colorscale": [
             [
              0,
              "#0d0887"
             ],
             [
              0.1111111111111111,
              "#46039f"
             ],
             [
              0.2222222222222222,
              "#7201a8"
             ],
             [
              0.3333333333333333,
              "#9c179e"
             ],
             [
              0.4444444444444444,
              "#bd3786"
             ],
             [
              0.5555555555555556,
              "#d8576b"
             ],
             [
              0.6666666666666666,
              "#ed7953"
             ],
             [
              0.7777777777777778,
              "#fb9f3a"
             ],
             [
              0.8888888888888888,
              "#fdca26"
             ],
             [
              1,
              "#f0f921"
             ]
            ],
            "type": "histogram2dcontour"
           }
          ],
          "mesh3d": [
           {
            "colorbar": {
             "outlinewidth": 0,
             "ticks": ""
            },
            "type": "mesh3d"
           }
          ],
          "parcoords": [
           {
            "line": {
             "colorbar": {
              "outlinewidth": 0,
              "ticks": ""
             }
            },
            "type": "parcoords"
           }
          ],
          "pie": [
           {
            "automargin": true,
            "type": "pie"
           }
          ],
          "scatter": [
           {
            "marker": {
             "colorbar": {
              "outlinewidth": 0,
              "ticks": ""
             }
            },
            "type": "scatter"
           }
          ],
          "scatter3d": [
           {
            "line": {
             "colorbar": {
              "outlinewidth": 0,
              "ticks": ""
             }
            },
            "marker": {
             "colorbar": {
              "outlinewidth": 0,
              "ticks": ""
             }
            },
            "type": "scatter3d"
           }
          ],
          "scattercarpet": [
           {
            "marker": {
             "colorbar": {
              "outlinewidth": 0,
              "ticks": ""
             }
            },
            "type": "scattercarpet"
           }
          ],
          "scattergeo": [
           {
            "marker": {
             "colorbar": {
              "outlinewidth": 0,
              "ticks": ""
             }
            },
            "type": "scattergeo"
           }
          ],
          "scattergl": [
           {
            "marker": {
             "colorbar": {
              "outlinewidth": 0,
              "ticks": ""
             }
            },
            "type": "scattergl"
           }
          ],
          "scattermapbox": [
           {
            "marker": {
             "colorbar": {
              "outlinewidth": 0,
              "ticks": ""
             }
            },
            "type": "scattermapbox"
           }
          ],
          "scatterpolar": [
           {
            "marker": {
             "colorbar": {
              "outlinewidth": 0,
              "ticks": ""
             }
            },
            "type": "scatterpolar"
           }
          ],
          "scatterpolargl": [
           {
            "marker": {
             "colorbar": {
              "outlinewidth": 0,
              "ticks": ""
             }
            },
            "type": "scatterpolargl"
           }
          ],
          "scatterternary": [
           {
            "marker": {
             "colorbar": {
              "outlinewidth": 0,
              "ticks": ""
             }
            },
            "type": "scatterternary"
           }
          ],
          "surface": [
           {
            "colorbar": {
             "outlinewidth": 0,
             "ticks": ""
            },
            "colorscale": [
             [
              0,
              "#0d0887"
             ],
             [
              0.1111111111111111,
              "#46039f"
             ],
             [
              0.2222222222222222,
              "#7201a8"
             ],
             [
              0.3333333333333333,
              "#9c179e"
             ],
             [
              0.4444444444444444,
              "#bd3786"
             ],
             [
              0.5555555555555556,
              "#d8576b"
             ],
             [
              0.6666666666666666,
              "#ed7953"
             ],
             [
              0.7777777777777778,
              "#fb9f3a"
             ],
             [
              0.8888888888888888,
              "#fdca26"
             ],
             [
              1,
              "#f0f921"
             ]
            ],
            "type": "surface"
           }
          ],
          "table": [
           {
            "cells": {
             "fill": {
              "color": "#EBF0F8"
             },
             "line": {
              "color": "white"
             }
            },
            "header": {
             "fill": {
              "color": "#C8D4E3"
             },
             "line": {
              "color": "white"
             }
            },
            "type": "table"
           }
          ]
         },
         "layout": {
          "annotationdefaults": {
           "arrowcolor": "#2a3f5f",
           "arrowhead": 0,
           "arrowwidth": 1
          },
          "coloraxis": {
           "colorbar": {
            "outlinewidth": 0,
            "ticks": ""
           }
          },
          "colorscale": {
           "diverging": [
            [
             0,
             "#8e0152"
            ],
            [
             0.1,
             "#c51b7d"
            ],
            [
             0.2,
             "#de77ae"
            ],
            [
             0.3,
             "#f1b6da"
            ],
            [
             0.4,
             "#fde0ef"
            ],
            [
             0.5,
             "#f7f7f7"
            ],
            [
             0.6,
             "#e6f5d0"
            ],
            [
             0.7,
             "#b8e186"
            ],
            [
             0.8,
             "#7fbc41"
            ],
            [
             0.9,
             "#4d9221"
            ],
            [
             1,
             "#276419"
            ]
           ],
           "sequential": [
            [
             0,
             "#0d0887"
            ],
            [
             0.1111111111111111,
             "#46039f"
            ],
            [
             0.2222222222222222,
             "#7201a8"
            ],
            [
             0.3333333333333333,
             "#9c179e"
            ],
            [
             0.4444444444444444,
             "#bd3786"
            ],
            [
             0.5555555555555556,
             "#d8576b"
            ],
            [
             0.6666666666666666,
             "#ed7953"
            ],
            [
             0.7777777777777778,
             "#fb9f3a"
            ],
            [
             0.8888888888888888,
             "#fdca26"
            ],
            [
             1,
             "#f0f921"
            ]
           ],
           "sequentialminus": [
            [
             0,
             "#0d0887"
            ],
            [
             0.1111111111111111,
             "#46039f"
            ],
            [
             0.2222222222222222,
             "#7201a8"
            ],
            [
             0.3333333333333333,
             "#9c179e"
            ],
            [
             0.4444444444444444,
             "#bd3786"
            ],
            [
             0.5555555555555556,
             "#d8576b"
            ],
            [
             0.6666666666666666,
             "#ed7953"
            ],
            [
             0.7777777777777778,
             "#fb9f3a"
            ],
            [
             0.8888888888888888,
             "#fdca26"
            ],
            [
             1,
             "#f0f921"
            ]
           ]
          },
          "colorway": [
           "#636efa",
           "#EF553B",
           "#00cc96",
           "#ab63fa",
           "#FFA15A",
           "#19d3f3",
           "#FF6692",
           "#B6E880",
           "#FF97FF",
           "#FECB52"
          ],
          "font": {
           "color": "#2a3f5f"
          },
          "geo": {
           "bgcolor": "white",
           "lakecolor": "white",
           "landcolor": "#E5ECF6",
           "showlakes": true,
           "showland": true,
           "subunitcolor": "white"
          },
          "hoverlabel": {
           "align": "left"
          },
          "hovermode": "closest",
          "mapbox": {
           "style": "light"
          },
          "paper_bgcolor": "white",
          "plot_bgcolor": "#E5ECF6",
          "polar": {
           "angularaxis": {
            "gridcolor": "white",
            "linecolor": "white",
            "ticks": ""
           },
           "bgcolor": "#E5ECF6",
           "radialaxis": {
            "gridcolor": "white",
            "linecolor": "white",
            "ticks": ""
           }
          },
          "scene": {
           "xaxis": {
            "backgroundcolor": "#E5ECF6",
            "gridcolor": "white",
            "gridwidth": 2,
            "linecolor": "white",
            "showbackground": true,
            "ticks": "",
            "zerolinecolor": "white"
           },
           "yaxis": {
            "backgroundcolor": "#E5ECF6",
            "gridcolor": "white",
            "gridwidth": 2,
            "linecolor": "white",
            "showbackground": true,
            "ticks": "",
            "zerolinecolor": "white"
           },
           "zaxis": {
            "backgroundcolor": "#E5ECF6",
            "gridcolor": "white",
            "gridwidth": 2,
            "linecolor": "white",
            "showbackground": true,
            "ticks": "",
            "zerolinecolor": "white"
           }
          },
          "shapedefaults": {
           "line": {
            "color": "#2a3f5f"
           }
          },
          "ternary": {
           "aaxis": {
            "gridcolor": "white",
            "linecolor": "white",
            "ticks": ""
           },
           "baxis": {
            "gridcolor": "white",
            "linecolor": "white",
            "ticks": ""
           },
           "bgcolor": "#E5ECF6",
           "caxis": {
            "gridcolor": "white",
            "linecolor": "white",
            "ticks": ""
           }
          },
          "title": {
           "x": 0.05
          },
          "xaxis": {
           "automargin": true,
           "gridcolor": "white",
           "linecolor": "white",
           "ticks": "",
           "title": {
            "standoff": 15
           },
           "zerolinecolor": "white",
           "zerolinewidth": 2
          },
          "yaxis": {
           "automargin": true,
           "gridcolor": "white",
           "linecolor": "white",
           "ticks": "",
           "title": {
            "standoff": 15
           },
           "zerolinecolor": "white",
           "zerolinewidth": 2
          }
         }
        }
       }
      },
      "text/html": [
       "<div>\n",
       "        \n",
       "        \n",
       "            <div id=\"9bfed93c-2294-4e30-bbfa-e84ca543b43c\" class=\"plotly-graph-div\" style=\"height:525px; width:100%;\"></div>\n",
       "            <script type=\"text/javascript\">\n",
       "                require([\"plotly\"], function(Plotly) {\n",
       "                    window.PLOTLYENV=window.PLOTLYENV || {};\n",
       "                    \n",
       "                if (document.getElementById(\"9bfed93c-2294-4e30-bbfa-e84ca543b43c\")) {\n",
       "                    Plotly.newPlot(\n",
       "                        '9bfed93c-2294-4e30-bbfa-e84ca543b43c',\n",
       "                        [{\"type\": \"bar\", \"y\": [97, 102, 113]}],\n",
       "                        {\"template\": {\"data\": {\"bar\": [{\"error_x\": {\"color\": \"#2a3f5f\"}, \"error_y\": {\"color\": \"#2a3f5f\"}, \"marker\": {\"line\": {\"color\": \"#E5ECF6\", \"width\": 0.5}}, \"type\": \"bar\"}], \"barpolar\": [{\"marker\": {\"line\": {\"color\": \"#E5ECF6\", \"width\": 0.5}}, \"type\": \"barpolar\"}], \"carpet\": [{\"aaxis\": {\"endlinecolor\": \"#2a3f5f\", \"gridcolor\": \"white\", \"linecolor\": \"white\", \"minorgridcolor\": \"white\", \"startlinecolor\": \"#2a3f5f\"}, \"baxis\": {\"endlinecolor\": \"#2a3f5f\", \"gridcolor\": \"white\", \"linecolor\": \"white\", \"minorgridcolor\": \"white\", \"startlinecolor\": \"#2a3f5f\"}, \"type\": \"carpet\"}], \"choropleth\": [{\"colorbar\": {\"outlinewidth\": 0, \"ticks\": \"\"}, \"type\": \"choropleth\"}], \"contour\": [{\"colorbar\": {\"outlinewidth\": 0, \"ticks\": \"\"}, \"colorscale\": [[0.0, \"#0d0887\"], [0.1111111111111111, \"#46039f\"], [0.2222222222222222, \"#7201a8\"], [0.3333333333333333, \"#9c179e\"], [0.4444444444444444, \"#bd3786\"], [0.5555555555555556, \"#d8576b\"], [0.6666666666666666, \"#ed7953\"], [0.7777777777777778, \"#fb9f3a\"], [0.8888888888888888, \"#fdca26\"], [1.0, \"#f0f921\"]], \"type\": \"contour\"}], \"contourcarpet\": [{\"colorbar\": {\"outlinewidth\": 0, \"ticks\": \"\"}, \"type\": \"contourcarpet\"}], \"heatmap\": [{\"colorbar\": {\"outlinewidth\": 0, \"ticks\": \"\"}, \"colorscale\": [[0.0, \"#0d0887\"], [0.1111111111111111, \"#46039f\"], [0.2222222222222222, \"#7201a8\"], [0.3333333333333333, \"#9c179e\"], [0.4444444444444444, \"#bd3786\"], [0.5555555555555556, \"#d8576b\"], [0.6666666666666666, \"#ed7953\"], [0.7777777777777778, \"#fb9f3a\"], [0.8888888888888888, \"#fdca26\"], [1.0, \"#f0f921\"]], \"type\": \"heatmap\"}], \"heatmapgl\": [{\"colorbar\": {\"outlinewidth\": 0, \"ticks\": \"\"}, \"colorscale\": [[0.0, \"#0d0887\"], [0.1111111111111111, \"#46039f\"], [0.2222222222222222, \"#7201a8\"], [0.3333333333333333, \"#9c179e\"], [0.4444444444444444, \"#bd3786\"], [0.5555555555555556, \"#d8576b\"], [0.6666666666666666, \"#ed7953\"], [0.7777777777777778, \"#fb9f3a\"], [0.8888888888888888, \"#fdca26\"], [1.0, \"#f0f921\"]], \"type\": \"heatmapgl\"}], \"histogram\": [{\"marker\": {\"colorbar\": {\"outlinewidth\": 0, \"ticks\": \"\"}}, \"type\": \"histogram\"}], \"histogram2d\": [{\"colorbar\": {\"outlinewidth\": 0, \"ticks\": \"\"}, \"colorscale\": [[0.0, \"#0d0887\"], [0.1111111111111111, \"#46039f\"], [0.2222222222222222, \"#7201a8\"], [0.3333333333333333, \"#9c179e\"], [0.4444444444444444, \"#bd3786\"], [0.5555555555555556, \"#d8576b\"], [0.6666666666666666, \"#ed7953\"], [0.7777777777777778, \"#fb9f3a\"], [0.8888888888888888, \"#fdca26\"], [1.0, \"#f0f921\"]], \"type\": \"histogram2d\"}], \"histogram2dcontour\": [{\"colorbar\": {\"outlinewidth\": 0, \"ticks\": \"\"}, \"colorscale\": [[0.0, \"#0d0887\"], [0.1111111111111111, \"#46039f\"], [0.2222222222222222, \"#7201a8\"], [0.3333333333333333, \"#9c179e\"], [0.4444444444444444, \"#bd3786\"], [0.5555555555555556, \"#d8576b\"], [0.6666666666666666, \"#ed7953\"], [0.7777777777777778, \"#fb9f3a\"], [0.8888888888888888, \"#fdca26\"], [1.0, \"#f0f921\"]], \"type\": \"histogram2dcontour\"}], \"mesh3d\": [{\"colorbar\": {\"outlinewidth\": 0, \"ticks\": \"\"}, \"type\": \"mesh3d\"}], \"parcoords\": [{\"line\": {\"colorbar\": {\"outlinewidth\": 0, \"ticks\": \"\"}}, \"type\": \"parcoords\"}], \"pie\": [{\"automargin\": true, \"type\": \"pie\"}], \"scatter\": [{\"marker\": {\"colorbar\": {\"outlinewidth\": 0, \"ticks\": \"\"}}, \"type\": \"scatter\"}], \"scatter3d\": [{\"line\": {\"colorbar\": {\"outlinewidth\": 0, \"ticks\": \"\"}}, \"marker\": {\"colorbar\": {\"outlinewidth\": 0, \"ticks\": \"\"}}, \"type\": \"scatter3d\"}], \"scattercarpet\": [{\"marker\": {\"colorbar\": {\"outlinewidth\": 0, \"ticks\": \"\"}}, \"type\": \"scattercarpet\"}], \"scattergeo\": [{\"marker\": {\"colorbar\": {\"outlinewidth\": 0, \"ticks\": \"\"}}, \"type\": \"scattergeo\"}], \"scattergl\": [{\"marker\": {\"colorbar\": {\"outlinewidth\": 0, \"ticks\": \"\"}}, \"type\": \"scattergl\"}], \"scattermapbox\": [{\"marker\": {\"colorbar\": {\"outlinewidth\": 0, \"ticks\": \"\"}}, \"type\": \"scattermapbox\"}], \"scatterpolar\": [{\"marker\": {\"colorbar\": {\"outlinewidth\": 0, \"ticks\": \"\"}}, \"type\": \"scatterpolar\"}], \"scatterpolargl\": [{\"marker\": {\"colorbar\": {\"outlinewidth\": 0, \"ticks\": \"\"}}, \"type\": \"scatterpolargl\"}], \"scatterternary\": [{\"marker\": {\"colorbar\": {\"outlinewidth\": 0, \"ticks\": \"\"}}, \"type\": \"scatterternary\"}], \"surface\": [{\"colorbar\": {\"outlinewidth\": 0, \"ticks\": \"\"}, \"colorscale\": [[0.0, \"#0d0887\"], [0.1111111111111111, \"#46039f\"], [0.2222222222222222, \"#7201a8\"], [0.3333333333333333, \"#9c179e\"], [0.4444444444444444, \"#bd3786\"], [0.5555555555555556, \"#d8576b\"], [0.6666666666666666, \"#ed7953\"], [0.7777777777777778, \"#fb9f3a\"], [0.8888888888888888, \"#fdca26\"], [1.0, \"#f0f921\"]], \"type\": \"surface\"}], \"table\": [{\"cells\": {\"fill\": {\"color\": \"#EBF0F8\"}, \"line\": {\"color\": \"white\"}}, \"header\": {\"fill\": {\"color\": \"#C8D4E3\"}, \"line\": {\"color\": \"white\"}}, \"type\": \"table\"}]}, \"layout\": {\"annotationdefaults\": {\"arrowcolor\": \"#2a3f5f\", \"arrowhead\": 0, \"arrowwidth\": 1}, \"coloraxis\": {\"colorbar\": {\"outlinewidth\": 0, \"ticks\": \"\"}}, \"colorscale\": {\"diverging\": [[0, \"#8e0152\"], [0.1, \"#c51b7d\"], [0.2, \"#de77ae\"], [0.3, \"#f1b6da\"], [0.4, \"#fde0ef\"], [0.5, \"#f7f7f7\"], [0.6, \"#e6f5d0\"], [0.7, \"#b8e186\"], [0.8, \"#7fbc41\"], [0.9, \"#4d9221\"], [1, \"#276419\"]], \"sequential\": [[0.0, \"#0d0887\"], [0.1111111111111111, \"#46039f\"], [0.2222222222222222, \"#7201a8\"], [0.3333333333333333, \"#9c179e\"], [0.4444444444444444, \"#bd3786\"], [0.5555555555555556, \"#d8576b\"], [0.6666666666666666, \"#ed7953\"], [0.7777777777777778, \"#fb9f3a\"], [0.8888888888888888, \"#fdca26\"], [1.0, \"#f0f921\"]], \"sequentialminus\": [[0.0, \"#0d0887\"], [0.1111111111111111, \"#46039f\"], [0.2222222222222222, \"#7201a8\"], [0.3333333333333333, \"#9c179e\"], [0.4444444444444444, \"#bd3786\"], [0.5555555555555556, \"#d8576b\"], [0.6666666666666666, \"#ed7953\"], [0.7777777777777778, \"#fb9f3a\"], [0.8888888888888888, \"#fdca26\"], [1.0, \"#f0f921\"]]}, \"colorway\": [\"#636efa\", \"#EF553B\", \"#00cc96\", \"#ab63fa\", \"#FFA15A\", \"#19d3f3\", \"#FF6692\", \"#B6E880\", \"#FF97FF\", \"#FECB52\"], \"font\": {\"color\": \"#2a3f5f\"}, \"geo\": {\"bgcolor\": \"white\", \"lakecolor\": \"white\", \"landcolor\": \"#E5ECF6\", \"showlakes\": true, \"showland\": true, \"subunitcolor\": \"white\"}, \"hoverlabel\": {\"align\": \"left\"}, \"hovermode\": \"closest\", \"mapbox\": {\"style\": \"light\"}, \"paper_bgcolor\": \"white\", \"plot_bgcolor\": \"#E5ECF6\", \"polar\": {\"angularaxis\": {\"gridcolor\": \"white\", \"linecolor\": \"white\", \"ticks\": \"\"}, \"bgcolor\": \"#E5ECF6\", \"radialaxis\": {\"gridcolor\": \"white\", \"linecolor\": \"white\", \"ticks\": \"\"}}, \"scene\": {\"xaxis\": {\"backgroundcolor\": \"#E5ECF6\", \"gridcolor\": \"white\", \"gridwidth\": 2, \"linecolor\": \"white\", \"showbackground\": true, \"ticks\": \"\", \"zerolinecolor\": \"white\"}, \"yaxis\": {\"backgroundcolor\": \"#E5ECF6\", \"gridcolor\": \"white\", \"gridwidth\": 2, \"linecolor\": \"white\", \"showbackground\": true, \"ticks\": \"\", \"zerolinecolor\": \"white\"}, \"zaxis\": {\"backgroundcolor\": \"#E5ECF6\", \"gridcolor\": \"white\", \"gridwidth\": 2, \"linecolor\": \"white\", \"showbackground\": true, \"ticks\": \"\", \"zerolinecolor\": \"white\"}}, \"shapedefaults\": {\"line\": {\"color\": \"#2a3f5f\"}}, \"ternary\": {\"aaxis\": {\"gridcolor\": \"white\", \"linecolor\": \"white\", \"ticks\": \"\"}, \"baxis\": {\"gridcolor\": \"white\", \"linecolor\": \"white\", \"ticks\": \"\"}, \"bgcolor\": \"#E5ECF6\", \"caxis\": {\"gridcolor\": \"white\", \"linecolor\": \"white\", \"ticks\": \"\"}}, \"title\": {\"x\": 0.05}, \"xaxis\": {\"automargin\": true, \"gridcolor\": \"white\", \"linecolor\": \"white\", \"ticks\": \"\", \"title\": {\"standoff\": 15}, \"zerolinecolor\": \"white\", \"zerolinewidth\": 2}, \"yaxis\": {\"automargin\": true, \"gridcolor\": \"white\", \"linecolor\": \"white\", \"ticks\": \"\", \"title\": {\"standoff\": 15}, \"zerolinecolor\": \"white\", \"zerolinewidth\": 2}}}},\n",
       "                        {\"responsive\": true}\n",
       "                    ).then(function(){\n",
       "                            \n",
       "var gd = document.getElementById('9bfed93c-2294-4e30-bbfa-e84ca543b43c');\n",
       "var x = new MutationObserver(function (mutations, observer) {{\n",
       "        var display = window.getComputedStyle(gd).display;\n",
       "        if (!display || display === 'none') {{\n",
       "            console.log([gd, 'removed!']);\n",
       "            Plotly.purge(gd);\n",
       "            observer.disconnect();\n",
       "        }}\n",
       "}});\n",
       "\n",
       "// Listen for the removal of the full notebook cells\n",
       "var notebookContainer = gd.closest('#notebook-container');\n",
       "if (notebookContainer) {{\n",
       "    x.observe(notebookContainer, {childList: true});\n",
       "}}\n",
       "\n",
       "// Listen for the clearing of the current output cell\n",
       "var outputEl = gd.closest('.output');\n",
       "if (outputEl) {{\n",
       "    x.observe(outputEl, {childList: true});\n",
       "}}\n",
       "\n",
       "                        })\n",
       "                };\n",
       "                });\n",
       "            </script>\n",
       "        </div>"
      ]
     },
     "metadata": {},
     "output_type": "display_data"
    }
   ],
   "source": [
    "fig = go.Figure(data=go.Bar(y=[ord('a'), ord('f'), ord('q')]))\n",
    "iplot(fig)\n",
    "# double click to zoom out"
   ]
  },
  {
   "cell_type": "code",
   "execution_count": 44,
   "metadata": {},
   "outputs": [],
   "source": [
    "x_pts = [10, 12, 15, 18]\n",
    "y_pts = [5, 1, 1, 2]\n",
    "z_pts = [10, 10, 8, 7]\n",
    "# figure = go.Figure()\n",
    "# figure.add_trace(\n",
    "#     go.Scatter3d(\n",
    "#         x=x_pts,\n",
    "#         y=y_pts,\n",
    "#         z=z_pts,\n",
    "#         mode='lines',\n",
    "#         name='Bundle 1',\n",
    "#         line=dict(\n",
    "#             width=1,\n",
    "#             color='green'\n",
    "#         )\n",
    "#     )\n",
    "# )"
   ]
  },
  {
   "cell_type": "code",
   "execution_count": 43,
   "metadata": {},
   "outputs": [],
   "source": [
    "x_pts_2 = [8, 9, 14, 16, None, 10, 13, 15, 18]\n",
    "y_pts_2 = [4, 1, 1, 1, None, 7, 2, 2, 3]\n",
    "z_pts_2 = [11, 11, 6, 5, None, 10, 11, 8, 6]\n",
    "\n",
    "# figure.add_trace(\n",
    "#     go.Scatter3d(\n",
    "#         x=x_pts_2,\n",
    "#         y=y_pts_2,\n",
    "#         z=z_pts_2,\n",
    "#         mode='lines',\n",
    "#         name='Bundle 2',\n",
    "#         line=dict(\n",
    "#             width=6,\n",
    "#             color='blue'\n",
    "#         )\n",
    "#     )\n",
    "# )"
   ]
  },
  {
   "cell_type": "code",
   "execution_count": 39,
   "metadata": {},
   "outputs": [],
   "source": [
    "#myafq.show_inline_bundles() # ~0.5 minutes to run"
   ]
  },
  {
   "cell_type": "code",
   "execution_count": 34,
   "metadata": {},
   "outputs": [],
   "source": [
    "roi = np.zeros((20, 20, 20))\n",
    "roi[14, 0:5, 5:11] = 1\n",
    "roi[13, 1:3, 8:9] = 1\n",
    "roi[15, 2:4, 7:11] = 1\n"
   ]
  },
  {
   "cell_type": "code",
   "execution_count": 40,
   "metadata": {},
   "outputs": [],
   "source": [
    "roi_markers = np.where(roi==1)\n",
    "# figure.add_trace(\n",
    "#     go.Scatter3d(\n",
    "#         x=roi_markers[0],\n",
    "#         y=roi_markers[1],\n",
    "#         z=roi_markers[2],\n",
    "#         name='ROI',\n",
    "#         marker=dict(color='red'),\n",
    "#         line=dict(color=f\"rgba(0,0,0,0)\")\n",
    "#     )\n",
    "# )"
   ]
  },
  {
   "cell_type": "code",
   "execution_count": 41,
   "metadata": {},
   "outputs": [],
   "source": [
    "def my_roi(bundle_name):\n",
    "    figure = myafq.viz.visualize_roi(myafq.export_rois()[0][bundle_name][0], opacity=0.5, name=f'{bundle_name} ROI 1')\n",
    "    figure = myafq.viz.visualize_roi(myafq.export_rois()[0][bundle_name][1], opacity=0.5, figure=figure, name=f'{bundle_name} ROI 2')\n",
    "    figure = myafq.viz.visualize_bundles(\n",
    "        myafq.get_clean_bundles()[0],\n",
    "        affine=myafq.get_dwi_affine()[0],\n",
    "        bundle_dict=myafq.bundle_dict,\n",
    "        bundle=myafq.bundle_dict[bundle_name]['uid'],\n",
    "        figure=figure, inline=True)\n",
    "#my_roi('CST_R')"
   ]
  },
  {
   "cell_type": "code",
   "execution_count": 56,
   "metadata": {},
   "outputs": [
    {
     "name": "stderr",
     "output_type": "stream",
     "text": [
      "INFO:AFQ.viz:Loading Volume...\n",
      "INFO:AFQ.viz:Loading tractography...\n",
      "INFO:AFQ.viz:Generating lines from tractography...\n",
      "\n",
      "KeyboardInterrupt\n",
      "\n"
     ]
    }
   ],
   "source": [
    "# This will take time\n",
    "#myafq.show_interactive_ROIs()"
   ]
  },
  {
   "cell_type": "code",
   "execution_count": 15,
   "metadata": {},
   "outputs": [
    {
     "data": {
      "text/html": [
       "<a href=\"https://plotly.com/python/sliders/\">Slider Examples</a>"
      ],
      "text/plain": [
       "<IPython.core.display.HTML object>"
      ]
     },
     "metadata": {},
     "output_type": "display_data"
    }
   ],
   "source": [
    "# Examples of other uses for sliders (ideas?)\n",
    "display(HTML(\"\"\"<a href=\"https://plotly.com/python/sliders/\">Slider Examples</a>\"\"\"))"
   ]
  },
  {
   "cell_type": "code",
   "execution_count": 42,
   "metadata": {},
   "outputs": [],
   "source": [
    "# Example of our current use for sliders:\n",
    "#myafq.viz.visualize_volume(myafq.get_dti_fa()[0], inline=True, which_plane='coronal')"
   ]
  },
  {
   "cell_type": "code",
   "execution_count": 16,
   "metadata": {},
   "outputs": [
    {
     "data": {
      "text/html": [
       "<a href=\"https://plotly.com/python/network-graphs/\">Network Graphs</a>"
      ],
      "text/plain": [
       "<IPython.core.display.HTML object>"
      ]
     },
     "metadata": {},
     "output_type": "display_data"
    },
    {
     "data": {
      "text/html": [
       "<a href=\"https://plotly.com/python/v3/continuous-error-bars/\">Continuous Error Bars</a>"
      ],
      "text/plain": [
       "<IPython.core.display.HTML object>"
      ]
     },
     "metadata": {},
     "output_type": "display_data"
    }
   ],
   "source": [
    "# Examples of other possibly useful plotly graphs\n",
    "display(HTML(\"\"\"<a href=\"https://plotly.com/python/network-graphs/\">Network Graphs</a>\"\"\"))\n",
    "display(HTML(\"\"\"<a href=\"https://plotly.com/python/v3/continuous-error-bars/\">Continuous Error Bars</a>\"\"\"))\n"
   ]
  },
  {
   "cell_type": "code",
   "execution_count": null,
   "metadata": {},
   "outputs": [
    {
     "name": "stderr",
     "output_type": "stream",
     "text": [
      "INFO:AFQ.viz:Loading Volume...\n",
      "INFO:AFQ.viz:Loading tractography...\n",
      "INFO:AFQ.viz:Loading Volume...\n",
      "INFO:AFQ.viz:Generating lines from tractography...\n"
     ]
    }
   ],
   "source": [
    "from importlib import reload  \n",
    "import AFQ.api as apii\n",
    "reload(apii)\n",
    "import AFQ.viz_libs.afq_plotly as plotlyy\n",
    "reload(plotlyy)\n",
    "anatomy = op.join(op.expanduser('~'), 'AFQ_data/prek-diffusion/dmri_prep/sub-1110/dtiInit_ses-pre/t1_acpc.nii.gz')\n",
    "myafq.viz_bundles(volume=anatomy, xform_volume=True, color_by_volume='dti_fa', interactive=True)"
   ]
  },
  {
   "cell_type": "code",
   "execution_count": null,
   "metadata": {},
   "outputs": [],
   "source": []
  }
 ],
 "metadata": {
  "kernelspec": {
   "display_name": "Python 3",
   "language": "python",
   "name": "python3"
  },
  "language_info": {
   "codemirror_mode": {
    "name": "ipython",
    "version": 3
   },
   "file_extension": ".py",
   "mimetype": "text/x-python",
   "name": "python",
   "nbconvert_exporter": "python",
   "pygments_lexer": "ipython3",
   "version": "3.7.0"
  }
 },
 "nbformat": 4,
 "nbformat_minor": 4
}
