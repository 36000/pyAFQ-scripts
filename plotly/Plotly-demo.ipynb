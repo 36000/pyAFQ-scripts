{
 "cells": [
  {
   "cell_type": "code",
   "execution_count": 1,
   "metadata": {},
   "outputs": [],
   "source": [
    "from IPython.core.display import display, HTML"
   ]
  },
  {
   "cell_type": "code",
   "execution_count": 2,
   "metadata": {},
   "outputs": [
    {
     "name": "stdout",
     "output_type": "stream",
     "text": [
      "If you want to follow along, checkout this pull request:\n"
     ]
    },
    {
     "data": {
      "text/html": [
       "<a href=\"https://github.com/yeatmanlab/pyAFQ/pull/289\">https://github.com/yeatmanlab/pyAFQ/pull/289</a>"
      ],
      "text/plain": [
       "<IPython.core.display.HTML object>"
      ]
     },
     "metadata": {},
     "output_type": "display_data"
    },
    {
     "name": "stdout",
     "output_type": "stream",
     "text": [
      "To use checkout pull request, run the following commands in your pyAFQ folder:\n",
      "    git checkout -b 36000-plotly master\n",
      "    git pull https://github.com/36000/pyAFQ.git plotly\n",
      "\n",
      "This jupyter notebook script is saved here: \n"
     ]
    },
    {
     "data": {
      "text/html": [
       "<a href=\"https://github.com/36000/pyAFQ-scripts/blob/master/plotly/Plotly-demo.ipynb\">https://github.com/36000/pyAFQ-scripts/blob/master/plotly/Plotly-demo.ipynb</a>"
      ],
      "text/plain": [
       "<IPython.core.display.HTML object>"
      ]
     },
     "metadata": {},
     "output_type": "display_data"
    }
   ],
   "source": [
    "print(\"If you want to follow along, checkout this pull request:\")\n",
    "display(HTML(\"\"\"<a href=\"https://github.com/yeatmanlab/pyAFQ/pull/289\">https://github.com/yeatmanlab/pyAFQ/pull/289</a>\"\"\"))\n",
    "print(\"To use checkout pull request, run the following commands in your pyAFQ folder:\")\n",
    "print(\"    git checkout -b 36000-plotly master\")\n",
    "print(\"    git pull https://github.com/36000/pyAFQ.git plotly\")\n",
    "print(\"\\nThis jupyter notebook script is saved here: \")\n",
    "display(HTML(\"\"\"<a href=\"https://github.com/36000/pyAFQ-scripts/blob/master/plotly/Plotly-demo.ipynb\">https://github.com/36000/pyAFQ-scripts/blob/master/plotly/Plotly-demo.ipynb</a>\"\"\"))"
   ]
  },
  {
   "cell_type": "code",
   "execution_count": 16,
   "metadata": {},
   "outputs": [],
   "source": [
    "# The next few cells pertain to setting up an afq object using prek data from s3\n",
    "# If you have access to our amazon s3, you can try running this with the sample prek subject\n",
    "# Otherwise, follow along with the parts of the example that do not require this data\n",
    "\n",
    "import logging\n",
    "import s3fs\n",
    "import os.path as op\n",
    "import os\n",
    "import AFQ.api as api\n",
    "from importlib import reload "
   ]
  },
  {
   "cell_type": "code",
   "execution_count": 29,
   "metadata": {},
   "outputs": [
    {
     "data": {
      "text/plain": [
       "<module 'AFQ.viz_libs.afq_plotly' from '/home/john/pyAFQ/AFQ/viz_libs/afq_plotly.py'>"
      ]
     },
     "execution_count": 29,
     "metadata": {},
     "output_type": "execute_result"
    }
   ],
   "source": [
    "reload(api)\n",
    "import AFQ.viz_libs.afq_plotly as plotly_afq\n",
    "reload(plotly_afq)"
   ]
  },
  {
   "cell_type": "code",
   "execution_count": 30,
   "metadata": {},
   "outputs": [],
   "source": [
    "# set up AFQ api object\n",
    "def afq_prek_api(subject):    \n",
    "    logging.basicConfig(level=logging.INFO)\n",
    "    log = logging.getLogger(__name__)  \n",
    "\n",
    "    fs = s3fs.S3FileSystem()\n",
    "    \n",
    "    sub_prefix = f\"sub-\"\n",
    "        \n",
    "    dwi_dir = f'prek-diffusion/derivatives/sub-{subject}/dtiInit_ses-pre'\n",
    "    dmri_prep_dir = op.join(op.expanduser('~'), 'AFQ_data', 'prek-diffusion/dmri_prep')\n",
    "\n",
    "    prek_fdata_src = op.join(dwi_dir, f\"sub-{subject}_ses-pre_acq-b1500_dwi_aligned_trilin.nii.gz\")\n",
    "    prek_fbval_src = op.join(dwi_dir, f\"sub-{subject}_ses-pre_acq-b1500_dwi_aligned_trilin.bvals\")\n",
    "    prek_fbvec_src = op.join(dwi_dir, f\"sub-{subject}_ses-pre_acq-b1500_dwi_aligned_trilin.bvecs\")\n",
    "    \n",
    "    prek_fdata = f\"{dmri_prep_dir}/sub-{subject}/dtiInit_ses-pre/dwi/dwi_aligned_trilin.nii.gz\"\n",
    "    prek_fbval = f\"{dmri_prep_dir}/sub-{subject}/dtiInit_ses-pre/dwi/dwi_aligned_trilin.bvals\"\n",
    "    prek_fbvec = f\"{dmri_prep_dir}/sub-{subject}/dtiInit_ses-pre/dwi/dwi_aligned_trilin.bvecs\"\n",
    "    \n",
    "    anat_dir = f'prek-diffusion/derivatives/sub-{subject}/freesurfer/mri'\n",
    "\n",
    "    if not op.exists(prek_fdata):\n",
    "        fs.get(prek_fdata_src, prek_fdata)\n",
    "        fs.get(prek_fbval_src, prek_fbval)\n",
    "        fs.get(prek_fbvec_src, prek_fbvec)\n",
    "\n",
    "        fs.get(op.join(anat_dir, f\"aparc+aseg.nii.gz\"), f\"{dmri_prep_dir}/sub-{subject}/dtiInit_ses-pre/anat/aparc+aseg.nii.gz\")\n",
    "\n",
    "    b0_threshold = 50\n",
    "\n",
    "    tracking_params = {\"n_seeds\": 2, \"directions\": 'det', \"stop_threshold\": 0.2}\n",
    "    segmentation_params = {\"prob_threshold\": 10, \"b0_threshold\": b0_threshold}\n",
    "    clean_params = {\"clean_rounds\": 1}\n",
    "    \n",
    "    # uncomment this to download relevant files instead of generating them\n",
    "    # fs.get(\"prek-diffusion/derivatives_fa/afq/sub1110/sess\", op.join(op.expanduser('~'), 'AFQ_data/prek-diffusion/afq/sub-1110/dtiInit_ses-pre'), recursive=True)\n",
    "\n",
    "    myafq = api.AFQ(dmri_prep_dir,\n",
    "                    dwi_folder=\"dwi\",\n",
    "                    dwi_file=\"dwi*\", \n",
    "                    anat_folder=\"anat\",\n",
    "                    sub_prefix=sub_prefix,\n",
    "                    b0_threshold=b0_threshold,\n",
    "                    viz_library=\"plotly\",\n",
    "\n",
    "                    tracking_params=tracking_params,\n",
    "                    segmentation_params=segmentation_params,\n",
    "                    clean_params=clean_params)\n",
    "\n",
    "    myafq.export_bundles()\n",
    "    return myafq"
   ]
  },
  {
   "cell_type": "code",
   "execution_count": 31,
   "metadata": {},
   "outputs": [
    {
     "name": "stderr",
     "output_type": "stream",
     "text": [
      "INFO:dipy.data.fetcher:Dataset is already in place. If you want to fetch it again please first remove the folder /home/john/AFQ_data/templates \n",
      "INFO:dipy.data.fetcher:Dataset is already in place. If you want to fetch it again please first remove the folder /home/john/AFQ_data/callosum_templates \n",
      "INFO:AFQ.api:Saving /home/john/AFQ_data/prek-diffusion/afq/sub-1110/dtiInit_ses-pre/clean_bundles/dwi_aligned_trilin_space-RASMM_model-DTI_desc-det-AFQ-ATR_R_tractography.trk\n",
      "INFO:AFQ.api:Saving /home/john/AFQ_data/prek-diffusion/afq/sub-1110/dtiInit_ses-pre/clean_bundles/dwi_aligned_trilin_space-RASMM_model-DTI_desc-det-AFQ-ATR_L_tractography.trk\n",
      "INFO:AFQ.api:Saving /home/john/AFQ_data/prek-diffusion/afq/sub-1110/dtiInit_ses-pre/clean_bundles/dwi_aligned_trilin_space-RASMM_model-DTI_desc-det-AFQ-CGC_R_tractography.trk\n",
      "INFO:AFQ.api:Saving /home/john/AFQ_data/prek-diffusion/afq/sub-1110/dtiInit_ses-pre/clean_bundles/dwi_aligned_trilin_space-RASMM_model-DTI_desc-det-AFQ-CGC_L_tractography.trk\n",
      "INFO:AFQ.api:Saving /home/john/AFQ_data/prek-diffusion/afq/sub-1110/dtiInit_ses-pre/clean_bundles/dwi_aligned_trilin_space-RASMM_model-DTI_desc-det-AFQ-CST_R_tractography.trk\n",
      "INFO:AFQ.api:Saving /home/john/AFQ_data/prek-diffusion/afq/sub-1110/dtiInit_ses-pre/clean_bundles/dwi_aligned_trilin_space-RASMM_model-DTI_desc-det-AFQ-CST_L_tractography.trk\n",
      "INFO:AFQ.api:Saving /home/john/AFQ_data/prek-diffusion/afq/sub-1110/dtiInit_ses-pre/clean_bundles/dwi_aligned_trilin_space-RASMM_model-DTI_desc-det-AFQ-HCC_R_tractography.trk\n",
      "INFO:AFQ.api:Saving /home/john/AFQ_data/prek-diffusion/afq/sub-1110/dtiInit_ses-pre/clean_bundles/dwi_aligned_trilin_space-RASMM_model-DTI_desc-det-AFQ-HCC_L_tractography.trk\n",
      "INFO:AFQ.api:Saving /home/john/AFQ_data/prek-diffusion/afq/sub-1110/dtiInit_ses-pre/clean_bundles/dwi_aligned_trilin_space-RASMM_model-DTI_desc-det-AFQ-IFO_R_tractography.trk\n",
      "INFO:AFQ.api:Saving /home/john/AFQ_data/prek-diffusion/afq/sub-1110/dtiInit_ses-pre/clean_bundles/dwi_aligned_trilin_space-RASMM_model-DTI_desc-det-AFQ-IFO_L_tractography.trk\n",
      "INFO:AFQ.api:Saving /home/john/AFQ_data/prek-diffusion/afq/sub-1110/dtiInit_ses-pre/clean_bundles/dwi_aligned_trilin_space-RASMM_model-DTI_desc-det-AFQ-ILF_R_tractography.trk\n",
      "INFO:AFQ.api:Saving /home/john/AFQ_data/prek-diffusion/afq/sub-1110/dtiInit_ses-pre/clean_bundles/dwi_aligned_trilin_space-RASMM_model-DTI_desc-det-AFQ-ILF_L_tractography.trk\n",
      "INFO:AFQ.api:Saving /home/john/AFQ_data/prek-diffusion/afq/sub-1110/dtiInit_ses-pre/clean_bundles/dwi_aligned_trilin_space-RASMM_model-DTI_desc-det-AFQ-SLF_R_tractography.trk\n",
      "INFO:AFQ.api:Saving /home/john/AFQ_data/prek-diffusion/afq/sub-1110/dtiInit_ses-pre/clean_bundles/dwi_aligned_trilin_space-RASMM_model-DTI_desc-det-AFQ-SLF_L_tractography.trk\n",
      "INFO:AFQ.api:Saving /home/john/AFQ_data/prek-diffusion/afq/sub-1110/dtiInit_ses-pre/clean_bundles/dwi_aligned_trilin_space-RASMM_model-DTI_desc-det-AFQ-ARC_R_tractography.trk\n",
      "INFO:AFQ.api:Saving /home/john/AFQ_data/prek-diffusion/afq/sub-1110/dtiInit_ses-pre/clean_bundles/dwi_aligned_trilin_space-RASMM_model-DTI_desc-det-AFQ-ARC_L_tractography.trk\n",
      "INFO:AFQ.api:Saving /home/john/AFQ_data/prek-diffusion/afq/sub-1110/dtiInit_ses-pre/clean_bundles/dwi_aligned_trilin_space-RASMM_model-DTI_desc-det-AFQ-UNC_R_tractography.trk\n",
      "INFO:AFQ.api:Saving /home/john/AFQ_data/prek-diffusion/afq/sub-1110/dtiInit_ses-pre/clean_bundles/dwi_aligned_trilin_space-RASMM_model-DTI_desc-det-AFQ-UNC_L_tractography.trk\n",
      "INFO:AFQ.api:Saving /home/john/AFQ_data/prek-diffusion/afq/sub-1110/dtiInit_ses-pre/clean_bundles/dwi_aligned_trilin_space-RASMM_model-DTI_desc-det-AFQ-FA_tractography.trk\n",
      "INFO:AFQ.api:Saving /home/john/AFQ_data/prek-diffusion/afq/sub-1110/dtiInit_ses-pre/clean_bundles/dwi_aligned_trilin_space-RASMM_model-DTI_desc-det-AFQ-FP_tractography.trk\n",
      "INFO:AFQ.api:Saving /home/john/AFQ_data/prek-diffusion/afq/sub-1110/dtiInit_ses-pre/bundles/dwi_aligned_trilin_space-RASMM_model-DTI_desc-det-AFQ-ATR_R_tractography.trk\n",
      "INFO:AFQ.api:Saving /home/john/AFQ_data/prek-diffusion/afq/sub-1110/dtiInit_ses-pre/bundles/dwi_aligned_trilin_space-RASMM_model-DTI_desc-det-AFQ-ATR_L_tractography.trk\n",
      "INFO:AFQ.api:Saving /home/john/AFQ_data/prek-diffusion/afq/sub-1110/dtiInit_ses-pre/bundles/dwi_aligned_trilin_space-RASMM_model-DTI_desc-det-AFQ-CGC_R_tractography.trk\n",
      "INFO:AFQ.api:Saving /home/john/AFQ_data/prek-diffusion/afq/sub-1110/dtiInit_ses-pre/bundles/dwi_aligned_trilin_space-RASMM_model-DTI_desc-det-AFQ-CGC_L_tractography.trk\n",
      "INFO:AFQ.api:Saving /home/john/AFQ_data/prek-diffusion/afq/sub-1110/dtiInit_ses-pre/bundles/dwi_aligned_trilin_space-RASMM_model-DTI_desc-det-AFQ-CST_R_tractography.trk\n",
      "INFO:AFQ.api:Saving /home/john/AFQ_data/prek-diffusion/afq/sub-1110/dtiInit_ses-pre/bundles/dwi_aligned_trilin_space-RASMM_model-DTI_desc-det-AFQ-CST_L_tractography.trk\n",
      "INFO:AFQ.api:Saving /home/john/AFQ_data/prek-diffusion/afq/sub-1110/dtiInit_ses-pre/bundles/dwi_aligned_trilin_space-RASMM_model-DTI_desc-det-AFQ-HCC_R_tractography.trk\n",
      "INFO:AFQ.api:Saving /home/john/AFQ_data/prek-diffusion/afq/sub-1110/dtiInit_ses-pre/bundles/dwi_aligned_trilin_space-RASMM_model-DTI_desc-det-AFQ-HCC_L_tractography.trk\n",
      "INFO:AFQ.api:Saving /home/john/AFQ_data/prek-diffusion/afq/sub-1110/dtiInit_ses-pre/bundles/dwi_aligned_trilin_space-RASMM_model-DTI_desc-det-AFQ-IFO_R_tractography.trk\n",
      "INFO:AFQ.api:Saving /home/john/AFQ_data/prek-diffusion/afq/sub-1110/dtiInit_ses-pre/bundles/dwi_aligned_trilin_space-RASMM_model-DTI_desc-det-AFQ-IFO_L_tractography.trk\n",
      "INFO:AFQ.api:Saving /home/john/AFQ_data/prek-diffusion/afq/sub-1110/dtiInit_ses-pre/bundles/dwi_aligned_trilin_space-RASMM_model-DTI_desc-det-AFQ-ILF_R_tractography.trk\n",
      "INFO:AFQ.api:Saving /home/john/AFQ_data/prek-diffusion/afq/sub-1110/dtiInit_ses-pre/bundles/dwi_aligned_trilin_space-RASMM_model-DTI_desc-det-AFQ-ILF_L_tractography.trk\n",
      "INFO:AFQ.api:Saving /home/john/AFQ_data/prek-diffusion/afq/sub-1110/dtiInit_ses-pre/bundles/dwi_aligned_trilin_space-RASMM_model-DTI_desc-det-AFQ-SLF_R_tractography.trk\n",
      "INFO:AFQ.api:Saving /home/john/AFQ_data/prek-diffusion/afq/sub-1110/dtiInit_ses-pre/bundles/dwi_aligned_trilin_space-RASMM_model-DTI_desc-det-AFQ-SLF_L_tractography.trk\n",
      "INFO:AFQ.api:Saving /home/john/AFQ_data/prek-diffusion/afq/sub-1110/dtiInit_ses-pre/bundles/dwi_aligned_trilin_space-RASMM_model-DTI_desc-det-AFQ-ARC_R_tractography.trk\n",
      "INFO:AFQ.api:Saving /home/john/AFQ_data/prek-diffusion/afq/sub-1110/dtiInit_ses-pre/bundles/dwi_aligned_trilin_space-RASMM_model-DTI_desc-det-AFQ-ARC_L_tractography.trk\n",
      "INFO:AFQ.api:Saving /home/john/AFQ_data/prek-diffusion/afq/sub-1110/dtiInit_ses-pre/bundles/dwi_aligned_trilin_space-RASMM_model-DTI_desc-det-AFQ-UNC_R_tractography.trk\n",
      "INFO:AFQ.api:Saving /home/john/AFQ_data/prek-diffusion/afq/sub-1110/dtiInit_ses-pre/bundles/dwi_aligned_trilin_space-RASMM_model-DTI_desc-det-AFQ-UNC_L_tractography.trk\n",
      "INFO:AFQ.api:Saving /home/john/AFQ_data/prek-diffusion/afq/sub-1110/dtiInit_ses-pre/bundles/dwi_aligned_trilin_space-RASMM_model-DTI_desc-det-AFQ-FA_tractography.trk\n",
      "INFO:AFQ.api:Saving /home/john/AFQ_data/prek-diffusion/afq/sub-1110/dtiInit_ses-pre/bundles/dwi_aligned_trilin_space-RASMM_model-DTI_desc-det-AFQ-FP_tractography.trk\n"
     ]
    }
   ],
   "source": [
    "myafq = afq_prek_api(1110) # run on example subject"
   ]
  },
  {
   "cell_type": "code",
   "execution_count": 4,
   "metadata": {},
   "outputs": [],
   "source": [
    "# after afq api is setup, we can look at plotting"
   ]
  },
  {
   "cell_type": "code",
   "execution_count": 25,
   "metadata": {},
   "outputs": [],
   "source": [
    "import plotly.graph_objects as go\n",
    "from plotly.offline import iplot\n",
    "import numpy as np"
   ]
  },
  {
   "cell_type": "code",
   "execution_count": 26,
   "metadata": {},
   "outputs": [
    {
     "data": {
      "application/vnd.plotly.v1+json": {
       "config": {
        "linkText": "Export to plot.ly",
        "plotlyServerURL": "https://plot.ly",
        "showLink": false
       },
       "data": [
        {
         "type": "bar",
         "y": [
          97,
          102,
          113
         ]
        }
       ],
       "layout": {
        "template": {
         "data": {
          "bar": [
           {
            "error_x": {
             "color": "#2a3f5f"
            },
            "error_y": {
             "color": "#2a3f5f"
            },
            "marker": {
             "line": {
              "color": "#E5ECF6",
              "width": 0.5
             }
            },
            "type": "bar"
           }
          ],
          "barpolar": [
           {
            "marker": {
             "line": {
              "color": "#E5ECF6",
              "width": 0.5
             }
            },
            "type": "barpolar"
           }
          ],
          "carpet": [
           {
            "aaxis": {
             "endlinecolor": "#2a3f5f",
             "gridcolor": "white",
             "linecolor": "white",
             "minorgridcolor": "white",
             "startlinecolor": "#2a3f5f"
            },
            "baxis": {
             "endlinecolor": "#2a3f5f",
             "gridcolor": "white",
             "linecolor": "white",
             "minorgridcolor": "white",
             "startlinecolor": "#2a3f5f"
            },
            "type": "carpet"
           }
          ],
          "choropleth": [
           {
            "colorbar": {
             "outlinewidth": 0,
             "ticks": ""
            },
            "type": "choropleth"
           }
          ],
          "contour": [
           {
            "colorbar": {
             "outlinewidth": 0,
             "ticks": ""
            },
            "colorscale": [
             [
              0,
              "#0d0887"
             ],
             [
              0.1111111111111111,
              "#46039f"
             ],
             [
              0.2222222222222222,
              "#7201a8"
             ],
             [
              0.3333333333333333,
              "#9c179e"
             ],
             [
              0.4444444444444444,
              "#bd3786"
             ],
             [
              0.5555555555555556,
              "#d8576b"
             ],
             [
              0.6666666666666666,
              "#ed7953"
             ],
             [
              0.7777777777777778,
              "#fb9f3a"
             ],
             [
              0.8888888888888888,
              "#fdca26"
             ],
             [
              1,
              "#f0f921"
             ]
            ],
            "type": "contour"
           }
          ],
          "contourcarpet": [
           {
            "colorbar": {
             "outlinewidth": 0,
             "ticks": ""
            },
            "type": "contourcarpet"
           }
          ],
          "heatmap": [
           {
            "colorbar": {
             "outlinewidth": 0,
             "ticks": ""
            },
            "colorscale": [
             [
              0,
              "#0d0887"
             ],
             [
              0.1111111111111111,
              "#46039f"
             ],
             [
              0.2222222222222222,
              "#7201a8"
             ],
             [
              0.3333333333333333,
              "#9c179e"
             ],
             [
              0.4444444444444444,
              "#bd3786"
             ],
             [
              0.5555555555555556,
              "#d8576b"
             ],
             [
              0.6666666666666666,
              "#ed7953"
             ],
             [
              0.7777777777777778,
              "#fb9f3a"
             ],
             [
              0.8888888888888888,
              "#fdca26"
             ],
             [
              1,
              "#f0f921"
             ]
            ],
            "type": "heatmap"
           }
          ],
          "heatmapgl": [
           {
            "colorbar": {
             "outlinewidth": 0,
             "ticks": ""
            },
            "colorscale": [
             [
              0,
              "#0d0887"
             ],
             [
              0.1111111111111111,
              "#46039f"
             ],
             [
              0.2222222222222222,
              "#7201a8"
             ],
             [
              0.3333333333333333,
              "#9c179e"
             ],
             [
              0.4444444444444444,
              "#bd3786"
             ],
             [
              0.5555555555555556,
              "#d8576b"
             ],
             [
              0.6666666666666666,
              "#ed7953"
             ],
             [
              0.7777777777777778,
              "#fb9f3a"
             ],
             [
              0.8888888888888888,
              "#fdca26"
             ],
             [
              1,
              "#f0f921"
             ]
            ],
            "type": "heatmapgl"
           }
          ],
          "histogram": [
           {
            "marker": {
             "colorbar": {
              "outlinewidth": 0,
              "ticks": ""
             }
            },
            "type": "histogram"
           }
          ],
          "histogram2d": [
           {
            "colorbar": {
             "outlinewidth": 0,
             "ticks": ""
            },
            "colorscale": [
             [
              0,
              "#0d0887"
             ],
             [
              0.1111111111111111,
              "#46039f"
             ],
             [
              0.2222222222222222,
              "#7201a8"
             ],
             [
              0.3333333333333333,
              "#9c179e"
             ],
             [
              0.4444444444444444,
              "#bd3786"
             ],
             [
              0.5555555555555556,
              "#d8576b"
             ],
             [
              0.6666666666666666,
              "#ed7953"
             ],
             [
              0.7777777777777778,
              "#fb9f3a"
             ],
             [
              0.8888888888888888,
              "#fdca26"
             ],
             [
              1,
              "#f0f921"
             ]
            ],
            "type": "histogram2d"
           }
          ],
          "histogram2dcontour": [
           {
            "colorbar": {
             "outlinewidth": 0,
             "ticks": ""
            },
            "colorscale": [
             [
              0,
              "#0d0887"
             ],
             [
              0.1111111111111111,
              "#46039f"
             ],
             [
              0.2222222222222222,
              "#7201a8"
             ],
             [
              0.3333333333333333,
              "#9c179e"
             ],
             [
              0.4444444444444444,
              "#bd3786"
             ],
             [
              0.5555555555555556,
              "#d8576b"
             ],
             [
              0.6666666666666666,
              "#ed7953"
             ],
             [
              0.7777777777777778,
              "#fb9f3a"
             ],
             [
              0.8888888888888888,
              "#fdca26"
             ],
             [
              1,
              "#f0f921"
             ]
            ],
            "type": "histogram2dcontour"
           }
          ],
          "mesh3d": [
           {
            "colorbar": {
             "outlinewidth": 0,
             "ticks": ""
            },
            "type": "mesh3d"
           }
          ],
          "parcoords": [
           {
            "line": {
             "colorbar": {
              "outlinewidth": 0,
              "ticks": ""
             }
            },
            "type": "parcoords"
           }
          ],
          "pie": [
           {
            "automargin": true,
            "type": "pie"
           }
          ],
          "scatter": [
           {
            "marker": {
             "colorbar": {
              "outlinewidth": 0,
              "ticks": ""
             }
            },
            "type": "scatter"
           }
          ],
          "scatter3d": [
           {
            "line": {
             "colorbar": {
              "outlinewidth": 0,
              "ticks": ""
             }
            },
            "marker": {
             "colorbar": {
              "outlinewidth": 0,
              "ticks": ""
             }
            },
            "type": "scatter3d"
           }
          ],
          "scattercarpet": [
           {
            "marker": {
             "colorbar": {
              "outlinewidth": 0,
              "ticks": ""
             }
            },
            "type": "scattercarpet"
           }
          ],
          "scattergeo": [
           {
            "marker": {
             "colorbar": {
              "outlinewidth": 0,
              "ticks": ""
             }
            },
            "type": "scattergeo"
           }
          ],
          "scattergl": [
           {
            "marker": {
             "colorbar": {
              "outlinewidth": 0,
              "ticks": ""
             }
            },
            "type": "scattergl"
           }
          ],
          "scattermapbox": [
           {
            "marker": {
             "colorbar": {
              "outlinewidth": 0,
              "ticks": ""
             }
            },
            "type": "scattermapbox"
           }
          ],
          "scatterpolar": [
           {
            "marker": {
             "colorbar": {
              "outlinewidth": 0,
              "ticks": ""
             }
            },
            "type": "scatterpolar"
           }
          ],
          "scatterpolargl": [
           {
            "marker": {
             "colorbar": {
              "outlinewidth": 0,
              "ticks": ""
             }
            },
            "type": "scatterpolargl"
           }
          ],
          "scatterternary": [
           {
            "marker": {
             "colorbar": {
              "outlinewidth": 0,
              "ticks": ""
             }
            },
            "type": "scatterternary"
           }
          ],
          "surface": [
           {
            "colorbar": {
             "outlinewidth": 0,
             "ticks": ""
            },
            "colorscale": [
             [
              0,
              "#0d0887"
             ],
             [
              0.1111111111111111,
              "#46039f"
             ],
             [
              0.2222222222222222,
              "#7201a8"
             ],
             [
              0.3333333333333333,
              "#9c179e"
             ],
             [
              0.4444444444444444,
              "#bd3786"
             ],
             [
              0.5555555555555556,
              "#d8576b"
             ],
             [
              0.6666666666666666,
              "#ed7953"
             ],
             [
              0.7777777777777778,
              "#fb9f3a"
             ],
             [
              0.8888888888888888,
              "#fdca26"
             ],
             [
              1,
              "#f0f921"
             ]
            ],
            "type": "surface"
           }
          ],
          "table": [
           {
            "cells": {
             "fill": {
              "color": "#EBF0F8"
             },
             "line": {
              "color": "white"
             }
            },
            "header": {
             "fill": {
              "color": "#C8D4E3"
             },
             "line": {
              "color": "white"
             }
            },
            "type": "table"
           }
          ]
         },
         "layout": {
          "annotationdefaults": {
           "arrowcolor": "#2a3f5f",
           "arrowhead": 0,
           "arrowwidth": 1
          },
          "coloraxis": {
           "colorbar": {
            "outlinewidth": 0,
            "ticks": ""
           }
          },
          "colorscale": {
           "diverging": [
            [
             0,
             "#8e0152"
            ],
            [
             0.1,
             "#c51b7d"
            ],
            [
             0.2,
             "#de77ae"
            ],
            [
             0.3,
             "#f1b6da"
            ],
            [
             0.4,
             "#fde0ef"
            ],
            [
             0.5,
             "#f7f7f7"
            ],
            [
             0.6,
             "#e6f5d0"
            ],
            [
             0.7,
             "#b8e186"
            ],
            [
             0.8,
             "#7fbc41"
            ],
            [
             0.9,
             "#4d9221"
            ],
            [
             1,
             "#276419"
            ]
           ],
           "sequential": [
            [
             0,
             "#0d0887"
            ],
            [
             0.1111111111111111,
             "#46039f"
            ],
            [
             0.2222222222222222,
             "#7201a8"
            ],
            [
             0.3333333333333333,
             "#9c179e"
            ],
            [
             0.4444444444444444,
             "#bd3786"
            ],
            [
             0.5555555555555556,
             "#d8576b"
            ],
            [
             0.6666666666666666,
             "#ed7953"
            ],
            [
             0.7777777777777778,
             "#fb9f3a"
            ],
            [
             0.8888888888888888,
             "#fdca26"
            ],
            [
             1,
             "#f0f921"
            ]
           ],
           "sequentialminus": [
            [
             0,
             "#0d0887"
            ],
            [
             0.1111111111111111,
             "#46039f"
            ],
            [
             0.2222222222222222,
             "#7201a8"
            ],
            [
             0.3333333333333333,
             "#9c179e"
            ],
            [
             0.4444444444444444,
             "#bd3786"
            ],
            [
             0.5555555555555556,
             "#d8576b"
            ],
            [
             0.6666666666666666,
             "#ed7953"
            ],
            [
             0.7777777777777778,
             "#fb9f3a"
            ],
            [
             0.8888888888888888,
             "#fdca26"
            ],
            [
             1,
             "#f0f921"
            ]
           ]
          },
          "colorway": [
           "#636efa",
           "#EF553B",
           "#00cc96",
           "#ab63fa",
           "#FFA15A",
           "#19d3f3",
           "#FF6692",
           "#B6E880",
           "#FF97FF",
           "#FECB52"
          ],
          "font": {
           "color": "#2a3f5f"
          },
          "geo": {
           "bgcolor": "white",
           "lakecolor": "white",
           "landcolor": "#E5ECF6",
           "showlakes": true,
           "showland": true,
           "subunitcolor": "white"
          },
          "hoverlabel": {
           "align": "left"
          },
          "hovermode": "closest",
          "mapbox": {
           "style": "light"
          },
          "paper_bgcolor": "white",
          "plot_bgcolor": "#E5ECF6",
          "polar": {
           "angularaxis": {
            "gridcolor": "white",
            "linecolor": "white",
            "ticks": ""
           },
           "bgcolor": "#E5ECF6",
           "radialaxis": {
            "gridcolor": "white",
            "linecolor": "white",
            "ticks": ""
           }
          },
          "scene": {
           "xaxis": {
            "backgroundcolor": "#E5ECF6",
            "gridcolor": "white",
            "gridwidth": 2,
            "linecolor": "white",
            "showbackground": true,
            "ticks": "",
            "zerolinecolor": "white"
           },
           "yaxis": {
            "backgroundcolor": "#E5ECF6",
            "gridcolor": "white",
            "gridwidth": 2,
            "linecolor": "white",
            "showbackground": true,
            "ticks": "",
            "zerolinecolor": "white"
           },
           "zaxis": {
            "backgroundcolor": "#E5ECF6",
            "gridcolor": "white",
            "gridwidth": 2,
            "linecolor": "white",
            "showbackground": true,
            "ticks": "",
            "zerolinecolor": "white"
           }
          },
          "shapedefaults": {
           "line": {
            "color": "#2a3f5f"
           }
          },
          "ternary": {
           "aaxis": {
            "gridcolor": "white",
            "linecolor": "white",
            "ticks": ""
           },
           "baxis": {
            "gridcolor": "white",
            "linecolor": "white",
            "ticks": ""
           },
           "bgcolor": "#E5ECF6",
           "caxis": {
            "gridcolor": "white",
            "linecolor": "white",
            "ticks": ""
           }
          },
          "title": {
           "x": 0.05
          },
          "xaxis": {
           "automargin": true,
           "gridcolor": "white",
           "linecolor": "white",
           "ticks": "",
           "title": {
            "standoff": 15
           },
           "zerolinecolor": "white",
           "zerolinewidth": 2
          },
          "yaxis": {
           "automargin": true,
           "gridcolor": "white",
           "linecolor": "white",
           "ticks": "",
           "title": {
            "standoff": 15
           },
           "zerolinecolor": "white",
           "zerolinewidth": 2
          }
         }
        }
       }
      },
      "text/html": [
       "<div>\n",
       "        \n",
       "        \n",
       "            <div id=\"9bfed93c-2294-4e30-bbfa-e84ca543b43c\" class=\"plotly-graph-div\" style=\"height:525px; width:100%;\"></div>\n",
       "            <script type=\"text/javascript\">\n",
       "                require([\"plotly\"], function(Plotly) {\n",
       "                    window.PLOTLYENV=window.PLOTLYENV || {};\n",
       "                    \n",
       "                if (document.getElementById(\"9bfed93c-2294-4e30-bbfa-e84ca543b43c\")) {\n",
       "                    Plotly.newPlot(\n",
       "                        '9bfed93c-2294-4e30-bbfa-e84ca543b43c',\n",
       "                        [{\"type\": \"bar\", \"y\": [97, 102, 113]}],\n",
       "                        {\"template\": {\"data\": {\"bar\": [{\"error_x\": {\"color\": \"#2a3f5f\"}, \"error_y\": {\"color\": \"#2a3f5f\"}, \"marker\": {\"line\": {\"color\": \"#E5ECF6\", \"width\": 0.5}}, \"type\": \"bar\"}], \"barpolar\": [{\"marker\": {\"line\": {\"color\": \"#E5ECF6\", \"width\": 0.5}}, \"type\": \"barpolar\"}], \"carpet\": [{\"aaxis\": {\"endlinecolor\": \"#2a3f5f\", \"gridcolor\": \"white\", \"linecolor\": \"white\", \"minorgridcolor\": \"white\", \"startlinecolor\": \"#2a3f5f\"}, \"baxis\": {\"endlinecolor\": \"#2a3f5f\", \"gridcolor\": \"white\", \"linecolor\": \"white\", \"minorgridcolor\": \"white\", \"startlinecolor\": \"#2a3f5f\"}, \"type\": \"carpet\"}], \"choropleth\": [{\"colorbar\": {\"outlinewidth\": 0, \"ticks\": \"\"}, \"type\": \"choropleth\"}], \"contour\": [{\"colorbar\": {\"outlinewidth\": 0, \"ticks\": \"\"}, \"colorscale\": [[0.0, \"#0d0887\"], [0.1111111111111111, \"#46039f\"], [0.2222222222222222, \"#7201a8\"], [0.3333333333333333, \"#9c179e\"], [0.4444444444444444, \"#bd3786\"], [0.5555555555555556, \"#d8576b\"], [0.6666666666666666, \"#ed7953\"], [0.7777777777777778, \"#fb9f3a\"], [0.8888888888888888, \"#fdca26\"], [1.0, \"#f0f921\"]], \"type\": \"contour\"}], \"contourcarpet\": [{\"colorbar\": {\"outlinewidth\": 0, \"ticks\": \"\"}, \"type\": \"contourcarpet\"}], \"heatmap\": [{\"colorbar\": {\"outlinewidth\": 0, \"ticks\": \"\"}, \"colorscale\": [[0.0, \"#0d0887\"], [0.1111111111111111, \"#46039f\"], [0.2222222222222222, \"#7201a8\"], [0.3333333333333333, \"#9c179e\"], [0.4444444444444444, \"#bd3786\"], [0.5555555555555556, \"#d8576b\"], [0.6666666666666666, \"#ed7953\"], [0.7777777777777778, \"#fb9f3a\"], [0.8888888888888888, \"#fdca26\"], [1.0, \"#f0f921\"]], \"type\": \"heatmap\"}], \"heatmapgl\": [{\"colorbar\": {\"outlinewidth\": 0, \"ticks\": \"\"}, \"colorscale\": [[0.0, \"#0d0887\"], [0.1111111111111111, \"#46039f\"], [0.2222222222222222, \"#7201a8\"], [0.3333333333333333, \"#9c179e\"], [0.4444444444444444, \"#bd3786\"], [0.5555555555555556, \"#d8576b\"], [0.6666666666666666, \"#ed7953\"], [0.7777777777777778, \"#fb9f3a\"], [0.8888888888888888, \"#fdca26\"], [1.0, \"#f0f921\"]], \"type\": \"heatmapgl\"}], \"histogram\": [{\"marker\": {\"colorbar\": {\"outlinewidth\": 0, \"ticks\": \"\"}}, \"type\": \"histogram\"}], \"histogram2d\": [{\"colorbar\": {\"outlinewidth\": 0, \"ticks\": \"\"}, \"colorscale\": [[0.0, \"#0d0887\"], [0.1111111111111111, \"#46039f\"], [0.2222222222222222, \"#7201a8\"], [0.3333333333333333, \"#9c179e\"], [0.4444444444444444, \"#bd3786\"], [0.5555555555555556, \"#d8576b\"], [0.6666666666666666, \"#ed7953\"], [0.7777777777777778, \"#fb9f3a\"], [0.8888888888888888, \"#fdca26\"], [1.0, \"#f0f921\"]], \"type\": \"histogram2d\"}], \"histogram2dcontour\": [{\"colorbar\": {\"outlinewidth\": 0, \"ticks\": \"\"}, \"colorscale\": [[0.0, \"#0d0887\"], [0.1111111111111111, \"#46039f\"], [0.2222222222222222, \"#7201a8\"], [0.3333333333333333, \"#9c179e\"], [0.4444444444444444, \"#bd3786\"], [0.5555555555555556, \"#d8576b\"], [0.6666666666666666, \"#ed7953\"], [0.7777777777777778, \"#fb9f3a\"], [0.8888888888888888, \"#fdca26\"], [1.0, \"#f0f921\"]], \"type\": \"histogram2dcontour\"}], \"mesh3d\": [{\"colorbar\": {\"outlinewidth\": 0, \"ticks\": \"\"}, \"type\": \"mesh3d\"}], \"parcoords\": [{\"line\": {\"colorbar\": {\"outlinewidth\": 0, \"ticks\": \"\"}}, \"type\": \"parcoords\"}], \"pie\": [{\"automargin\": true, \"type\": \"pie\"}], \"scatter\": [{\"marker\": {\"colorbar\": {\"outlinewidth\": 0, \"ticks\": \"\"}}, \"type\": \"scatter\"}], \"scatter3d\": [{\"line\": {\"colorbar\": {\"outlinewidth\": 0, \"ticks\": \"\"}}, \"marker\": {\"colorbar\": {\"outlinewidth\": 0, \"ticks\": \"\"}}, \"type\": \"scatter3d\"}], \"scattercarpet\": [{\"marker\": {\"colorbar\": {\"outlinewidth\": 0, \"ticks\": \"\"}}, \"type\": \"scattercarpet\"}], \"scattergeo\": [{\"marker\": {\"colorbar\": {\"outlinewidth\": 0, \"ticks\": \"\"}}, \"type\": \"scattergeo\"}], \"scattergl\": [{\"marker\": {\"colorbar\": {\"outlinewidth\": 0, \"ticks\": \"\"}}, \"type\": \"scattergl\"}], \"scattermapbox\": [{\"marker\": {\"colorbar\": {\"outlinewidth\": 0, \"ticks\": \"\"}}, \"type\": \"scattermapbox\"}], \"scatterpolar\": [{\"marker\": {\"colorbar\": {\"outlinewidth\": 0, \"ticks\": \"\"}}, \"type\": \"scatterpolar\"}], \"scatterpolargl\": [{\"marker\": {\"colorbar\": {\"outlinewidth\": 0, \"ticks\": \"\"}}, \"type\": \"scatterpolargl\"}], \"scatterternary\": [{\"marker\": {\"colorbar\": {\"outlinewidth\": 0, \"ticks\": \"\"}}, \"type\": \"scatterternary\"}], \"surface\": [{\"colorbar\": {\"outlinewidth\": 0, \"ticks\": \"\"}, \"colorscale\": [[0.0, \"#0d0887\"], [0.1111111111111111, \"#46039f\"], [0.2222222222222222, \"#7201a8\"], [0.3333333333333333, \"#9c179e\"], [0.4444444444444444, \"#bd3786\"], [0.5555555555555556, \"#d8576b\"], [0.6666666666666666, \"#ed7953\"], [0.7777777777777778, \"#fb9f3a\"], [0.8888888888888888, \"#fdca26\"], [1.0, \"#f0f921\"]], \"type\": \"surface\"}], \"table\": [{\"cells\": {\"fill\": {\"color\": \"#EBF0F8\"}, \"line\": {\"color\": \"white\"}}, \"header\": {\"fill\": {\"color\": \"#C8D4E3\"}, \"line\": {\"color\": \"white\"}}, \"type\": \"table\"}]}, \"layout\": {\"annotationdefaults\": {\"arrowcolor\": \"#2a3f5f\", \"arrowhead\": 0, \"arrowwidth\": 1}, \"coloraxis\": {\"colorbar\": {\"outlinewidth\": 0, \"ticks\": \"\"}}, \"colorscale\": {\"diverging\": [[0, \"#8e0152\"], [0.1, \"#c51b7d\"], [0.2, \"#de77ae\"], [0.3, \"#f1b6da\"], [0.4, \"#fde0ef\"], [0.5, \"#f7f7f7\"], [0.6, \"#e6f5d0\"], [0.7, \"#b8e186\"], [0.8, \"#7fbc41\"], [0.9, \"#4d9221\"], [1, \"#276419\"]], \"sequential\": [[0.0, \"#0d0887\"], [0.1111111111111111, \"#46039f\"], [0.2222222222222222, \"#7201a8\"], [0.3333333333333333, \"#9c179e\"], [0.4444444444444444, \"#bd3786\"], [0.5555555555555556, \"#d8576b\"], [0.6666666666666666, \"#ed7953\"], [0.7777777777777778, \"#fb9f3a\"], [0.8888888888888888, \"#fdca26\"], [1.0, \"#f0f921\"]], \"sequentialminus\": [[0.0, \"#0d0887\"], [0.1111111111111111, \"#46039f\"], [0.2222222222222222, \"#7201a8\"], [0.3333333333333333, \"#9c179e\"], [0.4444444444444444, \"#bd3786\"], [0.5555555555555556, \"#d8576b\"], [0.6666666666666666, \"#ed7953\"], [0.7777777777777778, \"#fb9f3a\"], [0.8888888888888888, \"#fdca26\"], [1.0, \"#f0f921\"]]}, \"colorway\": [\"#636efa\", \"#EF553B\", \"#00cc96\", \"#ab63fa\", \"#FFA15A\", \"#19d3f3\", \"#FF6692\", \"#B6E880\", \"#FF97FF\", \"#FECB52\"], \"font\": {\"color\": \"#2a3f5f\"}, \"geo\": {\"bgcolor\": \"white\", \"lakecolor\": \"white\", \"landcolor\": \"#E5ECF6\", \"showlakes\": true, \"showland\": true, \"subunitcolor\": \"white\"}, \"hoverlabel\": {\"align\": \"left\"}, \"hovermode\": \"closest\", \"mapbox\": {\"style\": \"light\"}, \"paper_bgcolor\": \"white\", \"plot_bgcolor\": \"#E5ECF6\", \"polar\": {\"angularaxis\": {\"gridcolor\": \"white\", \"linecolor\": \"white\", \"ticks\": \"\"}, \"bgcolor\": \"#E5ECF6\", \"radialaxis\": {\"gridcolor\": \"white\", \"linecolor\": \"white\", \"ticks\": \"\"}}, \"scene\": {\"xaxis\": {\"backgroundcolor\": \"#E5ECF6\", \"gridcolor\": \"white\", \"gridwidth\": 2, \"linecolor\": \"white\", \"showbackground\": true, \"ticks\": \"\", \"zerolinecolor\": \"white\"}, \"yaxis\": {\"backgroundcolor\": \"#E5ECF6\", \"gridcolor\": \"white\", \"gridwidth\": 2, \"linecolor\": \"white\", \"showbackground\": true, \"ticks\": \"\", \"zerolinecolor\": \"white\"}, \"zaxis\": {\"backgroundcolor\": \"#E5ECF6\", \"gridcolor\": \"white\", \"gridwidth\": 2, \"linecolor\": \"white\", \"showbackground\": true, \"ticks\": \"\", \"zerolinecolor\": \"white\"}}, \"shapedefaults\": {\"line\": {\"color\": \"#2a3f5f\"}}, \"ternary\": {\"aaxis\": {\"gridcolor\": \"white\", \"linecolor\": \"white\", \"ticks\": \"\"}, \"baxis\": {\"gridcolor\": \"white\", \"linecolor\": \"white\", \"ticks\": \"\"}, \"bgcolor\": \"#E5ECF6\", \"caxis\": {\"gridcolor\": \"white\", \"linecolor\": \"white\", \"ticks\": \"\"}}, \"title\": {\"x\": 0.05}, \"xaxis\": {\"automargin\": true, \"gridcolor\": \"white\", \"linecolor\": \"white\", \"ticks\": \"\", \"title\": {\"standoff\": 15}, \"zerolinecolor\": \"white\", \"zerolinewidth\": 2}, \"yaxis\": {\"automargin\": true, \"gridcolor\": \"white\", \"linecolor\": \"white\", \"ticks\": \"\", \"title\": {\"standoff\": 15}, \"zerolinecolor\": \"white\", \"zerolinewidth\": 2}}}},\n",
       "                        {\"responsive\": true}\n",
       "                    ).then(function(){\n",
       "                            \n",
       "var gd = document.getElementById('9bfed93c-2294-4e30-bbfa-e84ca543b43c');\n",
       "var x = new MutationObserver(function (mutations, observer) {{\n",
       "        var display = window.getComputedStyle(gd).display;\n",
       "        if (!display || display === 'none') {{\n",
       "            console.log([gd, 'removed!']);\n",
       "            Plotly.purge(gd);\n",
       "            observer.disconnect();\n",
       "        }}\n",
       "}});\n",
       "\n",
       "// Listen for the removal of the full notebook cells\n",
       "var notebookContainer = gd.closest('#notebook-container');\n",
       "if (notebookContainer) {{\n",
       "    x.observe(notebookContainer, {childList: true});\n",
       "}}\n",
       "\n",
       "// Listen for the clearing of the current output cell\n",
       "var outputEl = gd.closest('.output');\n",
       "if (outputEl) {{\n",
       "    x.observe(outputEl, {childList: true});\n",
       "}}\n",
       "\n",
       "                        })\n",
       "                };\n",
       "                });\n",
       "            </script>\n",
       "        </div>"
      ]
     },
     "metadata": {},
     "output_type": "display_data"
    }
   ],
   "source": [
    "fig = go.Figure(data=go.Bar(y=[ord('a'), ord('f'), ord('q')]))\n",
    "iplot(fig)\n",
    "# double click to zoom out"
   ]
  },
  {
   "cell_type": "code",
   "execution_count": 44,
   "metadata": {},
   "outputs": [],
   "source": [
    "x_pts = [10, 12, 15, 18]\n",
    "y_pts = [5, 1, 1, 2]\n",
    "z_pts = [10, 10, 8, 7]\n",
    "# figure = go.Figure()\n",
    "# figure.add_trace(\n",
    "#     go.Scatter3d(\n",
    "#         x=x_pts,\n",
    "#         y=y_pts,\n",
    "#         z=z_pts,\n",
    "#         mode='lines',\n",
    "#         name='Bundle 1',\n",
    "#         line=dict(\n",
    "#             width=1,\n",
    "#             color='green'\n",
    "#         )\n",
    "#     )\n",
    "# )"
   ]
  },
  {
   "cell_type": "code",
   "execution_count": 43,
   "metadata": {},
   "outputs": [],
   "source": [
    "x_pts_2 = [8, 9, 14, 16, None, 10, 13, 15, 18]\n",
    "y_pts_2 = [4, 1, 1, 1, None, 7, 2, 2, 3]\n",
    "z_pts_2 = [11, 11, 6, 5, None, 10, 11, 8, 6]\n",
    "\n",
    "# figure.add_trace(\n",
    "#     go.Scatter3d(\n",
    "#         x=x_pts_2,\n",
    "#         y=y_pts_2,\n",
    "#         z=z_pts_2,\n",
    "#         mode='lines',\n",
    "#         name='Bundle 2',\n",
    "#         line=dict(\n",
    "#             width=6,\n",
    "#             color='blue'\n",
    "#         )\n",
    "#     )\n",
    "# )"
   ]
  },
  {
   "cell_type": "code",
   "execution_count": 39,
   "metadata": {},
   "outputs": [],
   "source": [
    "#myafq.show_inline_bundles() # ~0.5 minutes to run"
   ]
  },
  {
   "cell_type": "code",
   "execution_count": 34,
   "metadata": {},
   "outputs": [],
   "source": [
    "roi = np.zeros((20, 20, 20))\n",
    "roi[14, 0:5, 5:11] = 1\n",
    "roi[13, 1:3, 8:9] = 1\n",
    "roi[15, 2:4, 7:11] = 1\n"
   ]
  },
  {
   "cell_type": "code",
   "execution_count": 40,
   "metadata": {},
   "outputs": [],
   "source": [
    "roi_markers = np.where(roi==1)\n",
    "# figure.add_trace(\n",
    "#     go.Scatter3d(\n",
    "#         x=roi_markers[0],\n",
    "#         y=roi_markers[1],\n",
    "#         z=roi_markers[2],\n",
    "#         name='ROI',\n",
    "#         marker=dict(color='red'),\n",
    "#         line=dict(color=f\"rgba(0,0,0,0)\")\n",
    "#     )\n",
    "# )"
   ]
  },
  {
   "cell_type": "code",
   "execution_count": 41,
   "metadata": {},
   "outputs": [],
   "source": [
    "def my_roi(bundle_name):\n",
    "    figure = myafq.viz.visualize_roi(myafq.export_rois()[0][bundle_name][0], opacity=0.5, name=f'{bundle_name} ROI 1')\n",
    "    figure = myafq.viz.visualize_roi(myafq.export_rois()[0][bundle_name][1], opacity=0.5, figure=figure, name=f'{bundle_name} ROI 2')\n",
    "    figure = myafq.viz.visualize_bundles(\n",
    "        myafq.get_clean_bundles()[0],\n",
    "        affine=myafq.get_dwi_affine()[0],\n",
    "        bundle_dict=myafq.bundle_dict,\n",
    "        bundle=myafq.bundle_dict[bundle_name]['uid'],\n",
    "        figure=figure, inline=True)\n",
    "#my_roi('CST_R')"
   ]
  },
  {
   "cell_type": "code",
   "execution_count": 56,
   "metadata": {},
   "outputs": [
    {
     "name": "stderr",
     "output_type": "stream",
     "text": [
      "INFO:AFQ.viz:Loading Volume...\n",
      "INFO:AFQ.viz:Loading tractography...\n",
      "INFO:AFQ.viz:Generating lines from tractography...\n",
      "\n",
      "KeyboardInterrupt\n",
      "\n"
     ]
    }
   ],
   "source": [
    "# This will take time\n",
    "#myafq.show_interactive_ROIs()"
   ]
  },
  {
   "cell_type": "code",
   "execution_count": 15,
   "metadata": {},
   "outputs": [
    {
     "data": {
      "text/html": [
       "<a href=\"https://plotly.com/python/sliders/\">Slider Examples</a>"
      ],
      "text/plain": [
       "<IPython.core.display.HTML object>"
      ]
     },
     "metadata": {},
     "output_type": "display_data"
    }
   ],
   "source": [
    "# Examples of other uses for sliders (ideas?)\n",
    "display(HTML(\"\"\"<a href=\"https://plotly.com/python/sliders/\">Slider Examples</a>\"\"\"))"
   ]
  },
  {
   "cell_type": "code",
   "execution_count": 42,
   "metadata": {},
   "outputs": [],
   "source": [
    "# Example of our current use for sliders:\n",
    "#myafq.viz.visualize_volume(myafq.get_dti_fa()[0], inline=True, which_plane='coronal')"
   ]
  },
  {
   "cell_type": "code",
   "execution_count": 16,
   "metadata": {},
   "outputs": [
    {
     "data": {
      "text/html": [
       "<a href=\"https://plotly.com/python/network-graphs/\">Network Graphs</a>"
      ],
      "text/plain": [
       "<IPython.core.display.HTML object>"
      ]
     },
     "metadata": {},
     "output_type": "display_data"
    },
    {
     "data": {
      "text/html": [
       "<a href=\"https://plotly.com/python/v3/continuous-error-bars/\">Continuous Error Bars</a>"
      ],
      "text/plain": [
       "<IPython.core.display.HTML object>"
      ]
     },
     "metadata": {},
     "output_type": "display_data"
    }
   ],
   "source": [
    "# Examples of other possibly useful plotly graphs\n",
    "display(HTML(\"\"\"<a href=\"https://plotly.com/python/network-graphs/\">Network Graphs</a>\"\"\"))\n",
    "display(HTML(\"\"\"<a href=\"https://plotly.com/python/v3/continuous-error-bars/\">Continuous Error Bars</a>\"\"\"))\n"
   ]
  },
  {
   "cell_type": "code",
   "execution_count": 48,
   "metadata": {},
   "outputs": [
    {
     "name": "stderr",
     "output_type": "stream",
     "text": [
      "INFO:AFQ.viz:Loading Volume...\n",
      "INFO:AFQ.viz:Loading tractography...\n",
      "INFO:AFQ.viz:Loading Volume...\n",
      "INFO:AFQ.viz:Generating lines from tractography...\n"
     ]
    },
    {
     "ename": "ValueError",
     "evalue": "Invalid property specified for object of type plotly.graph_objs.scatter3d.Line: 'opacity'\n\n    Valid properties:\n        autocolorscale\n            Determines whether the colorscale is a default palette\n            (`autocolorscale: true`) or the palette determined by\n            `line.colorscale`. Has an effect only if in\n            `line.color`is set to a numerical array. In case\n            `colorscale` is unspecified or `autocolorscale` is\n            true, the default  palette will be chosen according to\n            whether numbers in the `color` array are all positive,\n            all negative or mixed.\n        cauto\n            Determines whether or not the color domain is computed\n            with respect to the input data (here in `line.color`)\n            or the bounds set in `line.cmin` and `line.cmax`  Has\n            an effect only if in `line.color`is set to a numerical\n            array. Defaults to `false` when `line.cmin` and\n            `line.cmax` are set by the user.\n        cmax\n            Sets the upper bound of the color domain. Has an effect\n            only if in `line.color`is set to a numerical array.\n            Value should have the same units as in `line.color` and\n            if set, `line.cmin` must be set as well.\n        cmid\n            Sets the mid-point of the color domain by scaling\n            `line.cmin` and/or `line.cmax` to be equidistant to\n            this point. Has an effect only if in `line.color`is set\n            to a numerical array. Value should have the same units\n            as in `line.color`. Has no effect when `line.cauto` is\n            `false`.\n        cmin\n            Sets the lower bound of the color domain. Has an effect\n            only if in `line.color`is set to a numerical array.\n            Value should have the same units as in `line.color` and\n            if set, `line.cmax` must be set as well.\n        color\n            Sets thelinecolor. It accepts either a specific color\n            or an array of numbers that are mapped to the\n            colorscale relative to the max and min values of the\n            array or relative to `line.cmin` and `line.cmax` if\n            set.\n        coloraxis\n            Sets a reference to a shared color axis. References to\n            these shared color axes are \"coloraxis\", \"coloraxis2\",\n            \"coloraxis3\", etc. Settings for these shared color axes\n            are set in the layout, under `layout.coloraxis`,\n            `layout.coloraxis2`, etc. Note that multiple color\n            scales can be linked to the same color axis.\n        colorbar\n            :class:`plotly.graph_objects.scatter3d.line.ColorBar`\n            instance or dict with compatible properties\n        colorscale\n            Sets the colorscale. Has an effect only if in\n            `line.color`is set to a numerical array. The colorscale\n            must be an array containing arrays mapping a normalized\n            value to an rgb, rgba, hex, hsl, hsv, or named color\n            string. At minimum, a mapping for the lowest (0) and\n            highest (1) values are required. For example, `[[0,\n            'rgb(0,0,255)'], [1, 'rgb(255,0,0)']]`. To control the\n            bounds of the colorscale in color space, use`line.cmin`\n            and `line.cmax`. Alternatively, `colorscale` may be a\n            palette name string of the following list: Greys,YlGnBu\n            ,Greens,YlOrRd,Bluered,RdBu,Reds,Blues,Picnic,Rainbow,P\n            ortland,Jet,Hot,Blackbody,Earth,Electric,Viridis,Cividi\n            s.\n        colorsrc\n            Sets the source reference on Chart Studio Cloud for\n            color .\n        dash\n            Sets the dash style of the lines.\n        reversescale\n            Reverses the color mapping if true. Has an effect only\n            if in `line.color`is set to a numerical array. If true,\n            `line.cmin` will correspond to the last color in the\n            array and `line.cmax` will correspond to the first\n            color.\n        showscale\n            Determines whether or not a colorbar is displayed for\n            this trace. Has an effect only if in `line.color`is set\n            to a numerical array.\n        width\n            Sets the line width (in px).\n        ",
     "output_type": "error",
     "traceback": [
      "\u001b[0;31m---------------------------------------------------------------------------\u001b[0m",
      "\u001b[0;31mValueError\u001b[0m                                Traceback (most recent call last)",
      "\u001b[0;32m<ipython-input-48-3fe2320375b7>\u001b[0m in \u001b[0;36m<module>\u001b[0;34m\u001b[0m\n\u001b[1;32m      1\u001b[0m \u001b[0mreload\u001b[0m\u001b[0;34m(\u001b[0m\u001b[0mplotly_afq\u001b[0m\u001b[0;34m)\u001b[0m\u001b[0;34m\u001b[0m\u001b[0;34m\u001b[0m\u001b[0m\n\u001b[1;32m      2\u001b[0m \u001b[0manatomy\u001b[0m \u001b[0;34m=\u001b[0m \u001b[0mop\u001b[0m\u001b[0;34m.\u001b[0m\u001b[0mjoin\u001b[0m\u001b[0;34m(\u001b[0m\u001b[0mop\u001b[0m\u001b[0;34m.\u001b[0m\u001b[0mexpanduser\u001b[0m\u001b[0;34m(\u001b[0m\u001b[0;34m'~'\u001b[0m\u001b[0;34m)\u001b[0m\u001b[0;34m,\u001b[0m \u001b[0;34m'AFQ_data/prek-diffusion/dmri_prep/sub-1110/dtiInit_ses-pre/t1_acpc.nii.gz'\u001b[0m\u001b[0;34m)\u001b[0m\u001b[0;34m\u001b[0m\u001b[0;34m\u001b[0m\u001b[0m\n\u001b[0;32m----> 3\u001b[0;31m \u001b[0mmyafq\u001b[0m\u001b[0;34m.\u001b[0m\u001b[0mviz_bundles\u001b[0m\u001b[0;34m(\u001b[0m\u001b[0mvolume\u001b[0m\u001b[0;34m=\u001b[0m\u001b[0manatomy\u001b[0m\u001b[0;34m,\u001b[0m \u001b[0mxform_volume\u001b[0m\u001b[0;34m=\u001b[0m\u001b[0;32mTrue\u001b[0m\u001b[0;34m,\u001b[0m \u001b[0mcolor_by_volume\u001b[0m\u001b[0;34m=\u001b[0m\u001b[0;34m'dti_fa'\u001b[0m\u001b[0;34m,\u001b[0m \u001b[0minteractive\u001b[0m\u001b[0;34m=\u001b[0m\u001b[0;32mTrue\u001b[0m\u001b[0;34m)\u001b[0m\u001b[0;34m\u001b[0m\u001b[0;34m\u001b[0m\u001b[0m\n\u001b[0m",
      "\u001b[0;32m~/pyAFQ/AFQ/api.py\u001b[0m in \u001b[0;36mviz_bundles\u001b[0;34m(self, export_as_gif, export_as_html, volume, xform_volume, color_by_volume, xform_color_by_volume, inline, interactive)\u001b[0m\n\u001b[1;32m   1512\u001b[0m                               \u001b[0mxform_color_by_volume\u001b[0m\u001b[0;34m=\u001b[0m\u001b[0mxform_color_by_volume\u001b[0m\u001b[0;34m,\u001b[0m\u001b[0;34m\u001b[0m\u001b[0;34m\u001b[0m\u001b[0m\n\u001b[1;32m   1513\u001b[0m                               \u001b[0minline\u001b[0m\u001b[0;34m=\u001b[0m\u001b[0minline\u001b[0m\u001b[0;34m,\u001b[0m\u001b[0;34m\u001b[0m\u001b[0;34m\u001b[0m\u001b[0m\n\u001b[0;32m-> 1514\u001b[0;31m                               interactive=interactive)\n\u001b[0m\u001b[1;32m   1515\u001b[0m \u001b[0;34m\u001b[0m\u001b[0m\n\u001b[1;32m   1516\u001b[0m     def viz_ROIs(self,\n",
      "\u001b[0;32m~/miniconda3/envs/afq/lib/python3.7/site-packages/pandas/core/frame.py\u001b[0m in \u001b[0;36mapply\u001b[0;34m(self, func, axis, raw, result_type, args, **kwds)\u001b[0m\n\u001b[1;32m   6876\u001b[0m             \u001b[0mkwds\u001b[0m\u001b[0;34m=\u001b[0m\u001b[0mkwds\u001b[0m\u001b[0;34m,\u001b[0m\u001b[0;34m\u001b[0m\u001b[0;34m\u001b[0m\u001b[0m\n\u001b[1;32m   6877\u001b[0m         )\n\u001b[0;32m-> 6878\u001b[0;31m         \u001b[0;32mreturn\u001b[0m \u001b[0mop\u001b[0m\u001b[0;34m.\u001b[0m\u001b[0mget_result\u001b[0m\u001b[0;34m(\u001b[0m\u001b[0;34m)\u001b[0m\u001b[0;34m\u001b[0m\u001b[0;34m\u001b[0m\u001b[0m\n\u001b[0m\u001b[1;32m   6879\u001b[0m \u001b[0;34m\u001b[0m\u001b[0m\n\u001b[1;32m   6880\u001b[0m     \u001b[0;32mdef\u001b[0m \u001b[0mapplymap\u001b[0m\u001b[0;34m(\u001b[0m\u001b[0mself\u001b[0m\u001b[0;34m,\u001b[0m \u001b[0mfunc\u001b[0m\u001b[0;34m)\u001b[0m \u001b[0;34m->\u001b[0m \u001b[0;34m\"DataFrame\"\u001b[0m\u001b[0;34m:\u001b[0m\u001b[0;34m\u001b[0m\u001b[0;34m\u001b[0m\u001b[0m\n",
      "\u001b[0;32m~/miniconda3/envs/afq/lib/python3.7/site-packages/pandas/core/apply.py\u001b[0m in \u001b[0;36mget_result\u001b[0;34m(self)\u001b[0m\n\u001b[1;32m    184\u001b[0m             \u001b[0;32mreturn\u001b[0m \u001b[0mself\u001b[0m\u001b[0;34m.\u001b[0m\u001b[0mapply_raw\u001b[0m\u001b[0;34m(\u001b[0m\u001b[0;34m)\u001b[0m\u001b[0;34m\u001b[0m\u001b[0;34m\u001b[0m\u001b[0m\n\u001b[1;32m    185\u001b[0m \u001b[0;34m\u001b[0m\u001b[0m\n\u001b[0;32m--> 186\u001b[0;31m         \u001b[0;32mreturn\u001b[0m \u001b[0mself\u001b[0m\u001b[0;34m.\u001b[0m\u001b[0mapply_standard\u001b[0m\u001b[0;34m(\u001b[0m\u001b[0;34m)\u001b[0m\u001b[0;34m\u001b[0m\u001b[0;34m\u001b[0m\u001b[0m\n\u001b[0m\u001b[1;32m    187\u001b[0m \u001b[0;34m\u001b[0m\u001b[0m\n\u001b[1;32m    188\u001b[0m     \u001b[0;32mdef\u001b[0m \u001b[0mapply_empty_result\u001b[0m\u001b[0;34m(\u001b[0m\u001b[0mself\u001b[0m\u001b[0;34m)\u001b[0m\u001b[0;34m:\u001b[0m\u001b[0;34m\u001b[0m\u001b[0;34m\u001b[0m\u001b[0m\n",
      "\u001b[0;32m~/miniconda3/envs/afq/lib/python3.7/site-packages/pandas/core/apply.py\u001b[0m in \u001b[0;36mapply_standard\u001b[0;34m(self)\u001b[0m\n\u001b[1;32m    294\u001b[0m             \u001b[0;32mtry\u001b[0m\u001b[0;34m:\u001b[0m\u001b[0;34m\u001b[0m\u001b[0;34m\u001b[0m\u001b[0m\n\u001b[1;32m    295\u001b[0m                 result = libreduction.compute_reduction(\n\u001b[0;32m--> 296\u001b[0;31m                     \u001b[0mvalues\u001b[0m\u001b[0;34m,\u001b[0m \u001b[0mself\u001b[0m\u001b[0;34m.\u001b[0m\u001b[0mf\u001b[0m\u001b[0;34m,\u001b[0m \u001b[0maxis\u001b[0m\u001b[0;34m=\u001b[0m\u001b[0mself\u001b[0m\u001b[0;34m.\u001b[0m\u001b[0maxis\u001b[0m\u001b[0;34m,\u001b[0m \u001b[0mdummy\u001b[0m\u001b[0;34m=\u001b[0m\u001b[0mdummy\u001b[0m\u001b[0;34m,\u001b[0m \u001b[0mlabels\u001b[0m\u001b[0;34m=\u001b[0m\u001b[0mlabels\u001b[0m\u001b[0;34m\u001b[0m\u001b[0;34m\u001b[0m\u001b[0m\n\u001b[0m\u001b[1;32m    297\u001b[0m                 )\n\u001b[1;32m    298\u001b[0m             \u001b[0;32mexcept\u001b[0m \u001b[0mValueError\u001b[0m \u001b[0;32mas\u001b[0m \u001b[0merr\u001b[0m\u001b[0;34m:\u001b[0m\u001b[0;34m\u001b[0m\u001b[0;34m\u001b[0m\u001b[0m\n",
      "\u001b[0;32mpandas/_libs/reduction.pyx\u001b[0m in \u001b[0;36mpandas._libs.reduction.compute_reduction\u001b[0;34m()\u001b[0m\n",
      "\u001b[0;32mpandas/_libs/reduction.pyx\u001b[0m in \u001b[0;36mpandas._libs.reduction.Reducer.get_result\u001b[0;34m()\u001b[0m\n",
      "\u001b[0;32m~/miniconda3/envs/afq/lib/python3.7/site-packages/pandas/core/apply.py\u001b[0m in \u001b[0;36mf\u001b[0;34m(x)\u001b[0m\n\u001b[1;32m    111\u001b[0m \u001b[0;34m\u001b[0m\u001b[0m\n\u001b[1;32m    112\u001b[0m             \u001b[0;32mdef\u001b[0m \u001b[0mf\u001b[0m\u001b[0;34m(\u001b[0m\u001b[0mx\u001b[0m\u001b[0;34m)\u001b[0m\u001b[0;34m:\u001b[0m\u001b[0;34m\u001b[0m\u001b[0;34m\u001b[0m\u001b[0m\n\u001b[0;32m--> 113\u001b[0;31m                 \u001b[0;32mreturn\u001b[0m \u001b[0mfunc\u001b[0m\u001b[0;34m(\u001b[0m\u001b[0mx\u001b[0m\u001b[0;34m,\u001b[0m \u001b[0;34m*\u001b[0m\u001b[0margs\u001b[0m\u001b[0;34m,\u001b[0m \u001b[0;34m**\u001b[0m\u001b[0mkwds\u001b[0m\u001b[0;34m)\u001b[0m\u001b[0;34m\u001b[0m\u001b[0;34m\u001b[0m\u001b[0m\n\u001b[0m\u001b[1;32m    114\u001b[0m \u001b[0;34m\u001b[0m\u001b[0m\n\u001b[1;32m    115\u001b[0m         \u001b[0;32melse\u001b[0m\u001b[0;34m:\u001b[0m\u001b[0;34m\u001b[0m\u001b[0;34m\u001b[0m\u001b[0m\n",
      "\u001b[0;32m~/pyAFQ/AFQ/api.py\u001b[0m in \u001b[0;36m_viz_bundles\u001b[0;34m(self, row, export_as_gif, export_as_html, inline, interactive, volume, xform_volume, color_by_volume, xform_color_by_volume)\u001b[0m\n\u001b[1;32m   1098\u001b[0m                                             \u001b[0minteract\u001b[0m\u001b[0;34m=\u001b[0m\u001b[0minteractive\u001b[0m\u001b[0;34m,\u001b[0m\u001b[0;34m\u001b[0m\u001b[0;34m\u001b[0m\u001b[0m\n\u001b[1;32m   1099\u001b[0m                                             \u001b[0minline\u001b[0m\u001b[0;34m=\u001b[0m\u001b[0minline\u001b[0m\u001b[0;34m,\u001b[0m\u001b[0;34m\u001b[0m\u001b[0;34m\u001b[0m\u001b[0m\n\u001b[0;32m-> 1100\u001b[0;31m                                             figure=figure)\n\u001b[0m\u001b[1;32m   1101\u001b[0m \u001b[0;34m\u001b[0m\u001b[0m\n\u001b[1;32m   1102\u001b[0m         \u001b[0;32mif\u001b[0m \u001b[0mexport_as_gif\u001b[0m\u001b[0;34m:\u001b[0m\u001b[0;34m\u001b[0m\u001b[0;34m\u001b[0m\u001b[0m\n",
      "\u001b[0;32m~/pyAFQ/AFQ/viz_libs/afq_plotly.py\u001b[0m in \u001b[0;36mvisualize_bundles\u001b[0;34m(trk, affine, bundle_dict, bundle, colors, color_by_volume, figure, background, resample, interact, inline)\u001b[0m\n\u001b[1;32m    194\u001b[0m         \u001b[0mcolor_by_volume\u001b[0m \u001b[0;34m=\u001b[0m \u001b[0mvut\u001b[0m\u001b[0;34m.\u001b[0m\u001b[0mload_volume\u001b[0m\u001b[0;34m(\u001b[0m\u001b[0mcolor_by_volume\u001b[0m\u001b[0;34m)\u001b[0m\u001b[0;34m\u001b[0m\u001b[0;34m\u001b[0m\u001b[0m\n\u001b[1;32m    195\u001b[0m \u001b[0;34m\u001b[0m\u001b[0m\n\u001b[0;32m--> 196\u001b[0;31m     \u001b[0;32mif\u001b[0m \u001b[0mfigure\u001b[0m \u001b[0;32mis\u001b[0m \u001b[0;32mNone\u001b[0m\u001b[0;34m:\u001b[0m\u001b[0;34m\u001b[0m\u001b[0;34m\u001b[0m\u001b[0m\n\u001b[0m\u001b[1;32m    197\u001b[0m         \u001b[0mfigure\u001b[0m \u001b[0;34m=\u001b[0m \u001b[0mgo\u001b[0m\u001b[0;34m.\u001b[0m\u001b[0mFigure\u001b[0m\u001b[0;34m(\u001b[0m\u001b[0;34m)\u001b[0m\u001b[0;34m\u001b[0m\u001b[0;34m\u001b[0m\u001b[0m\n\u001b[1;32m    198\u001b[0m \u001b[0;34m\u001b[0m\u001b[0m\n",
      "\u001b[0;32m~/pyAFQ/AFQ/viz_libs/afq_plotly.py\u001b[0m in \u001b[0;36m_draw_streamlines\u001b[0;34m(figure, sls, color, name, n_points, cbv, opacity)\u001b[0m\n\u001b[1;32m    128\u001b[0m             \u001b[0mhovertext\u001b[0m\u001b[0;34m=\u001b[0m\u001b[0mcustomdata\u001b[0m\u001b[0;34m,\u001b[0m\u001b[0;34m\u001b[0m\u001b[0;34m\u001b[0m\u001b[0m\n\u001b[1;32m    129\u001b[0m             \u001b[0mhoverinfo\u001b[0m\u001b[0;34m=\u001b[0m\u001b[0;34m'all'\u001b[0m\u001b[0;34m,\u001b[0m\u001b[0;34m\u001b[0m\u001b[0;34m\u001b[0m\u001b[0m\n\u001b[0;32m--> 130\u001b[0;31m             \u001b[0mopacity\u001b[0m\u001b[0;34m=\u001b[0m\u001b[0mopacity\u001b[0m\u001b[0;34m\u001b[0m\u001b[0;34m\u001b[0m\u001b[0m\n\u001b[0m\u001b[1;32m    131\u001b[0m         )\n\u001b[1;32m    132\u001b[0m     )\n",
      "\u001b[0;32m~/miniconda3/envs/afq/lib/python3.7/site-packages/plotly/graph_objs/_scatter3d.py\u001b[0m in \u001b[0;36m__init__\u001b[0;34m(self, arg, connectgaps, customdata, customdatasrc, error_x, error_y, error_z, hoverinfo, hoverinfosrc, hoverlabel, hovertemplate, hovertemplatesrc, hovertext, hovertextsrc, ids, idssrc, legendgroup, line, marker, meta, metasrc, mode, name, opacity, projection, scene, showlegend, stream, surfaceaxis, surfacecolor, text, textfont, textposition, textpositionsrc, textsrc, texttemplate, texttemplatesrc, uid, uirevision, visible, x, xcalendar, xsrc, y, ycalendar, ysrc, z, zcalendar, zsrc, **kwargs)\u001b[0m\n\u001b[1;32m   2313\u001b[0m         \u001b[0m_v\u001b[0m \u001b[0;34m=\u001b[0m \u001b[0mline\u001b[0m \u001b[0;32mif\u001b[0m \u001b[0mline\u001b[0m \u001b[0;32mis\u001b[0m \u001b[0;32mnot\u001b[0m \u001b[0;32mNone\u001b[0m \u001b[0;32melse\u001b[0m \u001b[0m_v\u001b[0m\u001b[0;34m\u001b[0m\u001b[0;34m\u001b[0m\u001b[0m\n\u001b[1;32m   2314\u001b[0m         \u001b[0;32mif\u001b[0m \u001b[0m_v\u001b[0m \u001b[0;32mis\u001b[0m \u001b[0;32mnot\u001b[0m \u001b[0;32mNone\u001b[0m\u001b[0;34m:\u001b[0m\u001b[0;34m\u001b[0m\u001b[0;34m\u001b[0m\u001b[0m\n\u001b[0;32m-> 2315\u001b[0;31m             \u001b[0mself\u001b[0m\u001b[0;34m[\u001b[0m\u001b[0;34m\"line\"\u001b[0m\u001b[0;34m]\u001b[0m \u001b[0;34m=\u001b[0m \u001b[0m_v\u001b[0m\u001b[0;34m\u001b[0m\u001b[0;34m\u001b[0m\u001b[0m\n\u001b[0m\u001b[1;32m   2316\u001b[0m         \u001b[0m_v\u001b[0m \u001b[0;34m=\u001b[0m \u001b[0marg\u001b[0m\u001b[0;34m.\u001b[0m\u001b[0mpop\u001b[0m\u001b[0;34m(\u001b[0m\u001b[0;34m\"marker\"\u001b[0m\u001b[0;34m,\u001b[0m \u001b[0;32mNone\u001b[0m\u001b[0;34m)\u001b[0m\u001b[0;34m\u001b[0m\u001b[0;34m\u001b[0m\u001b[0m\n\u001b[1;32m   2317\u001b[0m         \u001b[0m_v\u001b[0m \u001b[0;34m=\u001b[0m \u001b[0mmarker\u001b[0m \u001b[0;32mif\u001b[0m \u001b[0mmarker\u001b[0m \u001b[0;32mis\u001b[0m \u001b[0;32mnot\u001b[0m \u001b[0;32mNone\u001b[0m \u001b[0;32melse\u001b[0m \u001b[0m_v\u001b[0m\u001b[0;34m\u001b[0m\u001b[0;34m\u001b[0m\u001b[0m\n",
      "\u001b[0;32m~/miniconda3/envs/afq/lib/python3.7/site-packages/plotly/basedatatypes.py\u001b[0m in \u001b[0;36m__setitem__\u001b[0;34m(self, prop, value)\u001b[0m\n\u001b[1;32m   3969\u001b[0m                 \u001b[0;31m# ### Handle compound property ###\u001b[0m\u001b[0;34m\u001b[0m\u001b[0;34m\u001b[0m\u001b[0;34m\u001b[0m\u001b[0m\n\u001b[1;32m   3970\u001b[0m                 \u001b[0;32mif\u001b[0m \u001b[0misinstance\u001b[0m\u001b[0;34m(\u001b[0m\u001b[0mvalidator\u001b[0m\u001b[0;34m,\u001b[0m \u001b[0mCompoundValidator\u001b[0m\u001b[0;34m)\u001b[0m\u001b[0;34m:\u001b[0m\u001b[0;34m\u001b[0m\u001b[0;34m\u001b[0m\u001b[0m\n\u001b[0;32m-> 3971\u001b[0;31m                     \u001b[0mself\u001b[0m\u001b[0;34m.\u001b[0m\u001b[0m_set_compound_prop\u001b[0m\u001b[0;34m(\u001b[0m\u001b[0mprop\u001b[0m\u001b[0;34m,\u001b[0m \u001b[0mvalue\u001b[0m\u001b[0;34m)\u001b[0m\u001b[0;34m\u001b[0m\u001b[0;34m\u001b[0m\u001b[0m\n\u001b[0m\u001b[1;32m   3972\u001b[0m \u001b[0;34m\u001b[0m\u001b[0m\n\u001b[1;32m   3973\u001b[0m                 \u001b[0;31m# ### Handle compound array property ###\u001b[0m\u001b[0;34m\u001b[0m\u001b[0;34m\u001b[0m\u001b[0;34m\u001b[0m\u001b[0m\n",
      "\u001b[0;32m~/miniconda3/envs/afq/lib/python3.7/site-packages/plotly/basedatatypes.py\u001b[0m in \u001b[0;36m_set_compound_prop\u001b[0;34m(self, prop, val)\u001b[0m\n\u001b[1;32m   4354\u001b[0m         \u001b[0;31m# ------------\u001b[0m\u001b[0;34m\u001b[0m\u001b[0;34m\u001b[0m\u001b[0;34m\u001b[0m\u001b[0m\n\u001b[1;32m   4355\u001b[0m         \u001b[0mvalidator\u001b[0m \u001b[0;34m=\u001b[0m \u001b[0mself\u001b[0m\u001b[0;34m.\u001b[0m\u001b[0m_get_validator\u001b[0m\u001b[0;34m(\u001b[0m\u001b[0mprop\u001b[0m\u001b[0;34m)\u001b[0m\u001b[0;34m\u001b[0m\u001b[0;34m\u001b[0m\u001b[0m\n\u001b[0;32m-> 4356\u001b[0;31m         \u001b[0mval\u001b[0m \u001b[0;34m=\u001b[0m \u001b[0mvalidator\u001b[0m\u001b[0;34m.\u001b[0m\u001b[0mvalidate_coerce\u001b[0m\u001b[0;34m(\u001b[0m\u001b[0mval\u001b[0m\u001b[0;34m,\u001b[0m \u001b[0mskip_invalid\u001b[0m\u001b[0;34m=\u001b[0m\u001b[0mself\u001b[0m\u001b[0;34m.\u001b[0m\u001b[0m_skip_invalid\u001b[0m\u001b[0;34m)\u001b[0m\u001b[0;34m\u001b[0m\u001b[0;34m\u001b[0m\u001b[0m\n\u001b[0m\u001b[1;32m   4357\u001b[0m \u001b[0;34m\u001b[0m\u001b[0m\n\u001b[1;32m   4358\u001b[0m         \u001b[0;31m# Save deep copies of current and new states\u001b[0m\u001b[0;34m\u001b[0m\u001b[0;34m\u001b[0m\u001b[0;34m\u001b[0m\u001b[0m\n",
      "\u001b[0;32m~/miniconda3/envs/afq/lib/python3.7/site-packages/_plotly_utils/basevalidators.py\u001b[0m in \u001b[0;36mvalidate_coerce\u001b[0;34m(self, v, skip_invalid, _validate)\u001b[0m\n\u001b[1;32m   2444\u001b[0m \u001b[0;34m\u001b[0m\u001b[0m\n\u001b[1;32m   2445\u001b[0m         \u001b[0;32melif\u001b[0m \u001b[0misinstance\u001b[0m\u001b[0;34m(\u001b[0m\u001b[0mv\u001b[0m\u001b[0;34m,\u001b[0m \u001b[0mdict\u001b[0m\u001b[0;34m)\u001b[0m\u001b[0;34m:\u001b[0m\u001b[0;34m\u001b[0m\u001b[0;34m\u001b[0m\u001b[0m\n\u001b[0;32m-> 2446\u001b[0;31m             \u001b[0mv\u001b[0m \u001b[0;34m=\u001b[0m \u001b[0mself\u001b[0m\u001b[0;34m.\u001b[0m\u001b[0mdata_class\u001b[0m\u001b[0;34m(\u001b[0m\u001b[0mv\u001b[0m\u001b[0;34m,\u001b[0m \u001b[0mskip_invalid\u001b[0m\u001b[0;34m=\u001b[0m\u001b[0mskip_invalid\u001b[0m\u001b[0;34m,\u001b[0m \u001b[0m_validate\u001b[0m\u001b[0;34m=\u001b[0m\u001b[0m_validate\u001b[0m\u001b[0;34m)\u001b[0m\u001b[0;34m\u001b[0m\u001b[0;34m\u001b[0m\u001b[0m\n\u001b[0m\u001b[1;32m   2447\u001b[0m \u001b[0;34m\u001b[0m\u001b[0m\n\u001b[1;32m   2448\u001b[0m         \u001b[0;32melif\u001b[0m \u001b[0misinstance\u001b[0m\u001b[0;34m(\u001b[0m\u001b[0mv\u001b[0m\u001b[0;34m,\u001b[0m \u001b[0mself\u001b[0m\u001b[0;34m.\u001b[0m\u001b[0mdata_class\u001b[0m\u001b[0;34m)\u001b[0m\u001b[0;34m:\u001b[0m\u001b[0;34m\u001b[0m\u001b[0;34m\u001b[0m\u001b[0m\n",
      "\u001b[0;32m~/miniconda3/envs/afq/lib/python3.7/site-packages/plotly/graph_objs/scatter3d/_line.py\u001b[0m in \u001b[0;36m__init__\u001b[0;34m(self, arg, autocolorscale, cauto, cmax, cmid, cmin, color, coloraxis, colorbar, colorscale, colorsrc, dash, reversescale, showscale, width, **kwargs)\u001b[0m\n\u001b[1;32m    922\u001b[0m         \u001b[0;31m# Process unknown kwargs\u001b[0m\u001b[0;34m\u001b[0m\u001b[0;34m\u001b[0m\u001b[0;34m\u001b[0m\u001b[0m\n\u001b[1;32m    923\u001b[0m         \u001b[0;31m# ----------------------\u001b[0m\u001b[0;34m\u001b[0m\u001b[0;34m\u001b[0m\u001b[0;34m\u001b[0m\u001b[0m\n\u001b[0;32m--> 924\u001b[0;31m         \u001b[0mself\u001b[0m\u001b[0;34m.\u001b[0m\u001b[0m_process_kwargs\u001b[0m\u001b[0;34m(\u001b[0m\u001b[0;34m**\u001b[0m\u001b[0mdict\u001b[0m\u001b[0;34m(\u001b[0m\u001b[0marg\u001b[0m\u001b[0;34m,\u001b[0m \u001b[0;34m**\u001b[0m\u001b[0mkwargs\u001b[0m\u001b[0;34m)\u001b[0m\u001b[0;34m)\u001b[0m\u001b[0;34m\u001b[0m\u001b[0;34m\u001b[0m\u001b[0m\n\u001b[0m\u001b[1;32m    925\u001b[0m \u001b[0;34m\u001b[0m\u001b[0m\n\u001b[1;32m    926\u001b[0m         \u001b[0;31m# Reset skip_invalid\u001b[0m\u001b[0;34m\u001b[0m\u001b[0;34m\u001b[0m\u001b[0;34m\u001b[0m\u001b[0m\n",
      "\u001b[0;32m~/miniconda3/envs/afq/lib/python3.7/site-packages/plotly/basedatatypes.py\u001b[0m in \u001b[0;36m_process_kwargs\u001b[0;34m(self, **kwargs)\u001b[0m\n\u001b[1;32m   3507\u001b[0m \u001b[0;34m\u001b[0m\u001b[0m\n\u001b[1;32m   3508\u001b[0m         \u001b[0;32mif\u001b[0m \u001b[0minvalid_kwargs\u001b[0m \u001b[0;32mand\u001b[0m \u001b[0;32mnot\u001b[0m \u001b[0mself\u001b[0m\u001b[0;34m.\u001b[0m\u001b[0m_skip_invalid\u001b[0m\u001b[0;34m:\u001b[0m\u001b[0;34m\u001b[0m\u001b[0;34m\u001b[0m\u001b[0m\n\u001b[0;32m-> 3509\u001b[0;31m             \u001b[0mself\u001b[0m\u001b[0;34m.\u001b[0m\u001b[0m_raise_on_invalid_property_error\u001b[0m\u001b[0;34m(\u001b[0m\u001b[0;34m*\u001b[0m\u001b[0minvalid_kwargs\u001b[0m\u001b[0;34m.\u001b[0m\u001b[0mkeys\u001b[0m\u001b[0;34m(\u001b[0m\u001b[0;34m)\u001b[0m\u001b[0;34m)\u001b[0m\u001b[0;34m\u001b[0m\u001b[0;34m\u001b[0m\u001b[0m\n\u001b[0m\u001b[1;32m   3510\u001b[0m \u001b[0;34m\u001b[0m\u001b[0m\n\u001b[1;32m   3511\u001b[0m     \u001b[0;34m@\u001b[0m\u001b[0mproperty\u001b[0m\u001b[0;34m\u001b[0m\u001b[0;34m\u001b[0m\u001b[0m\n",
      "\u001b[0;32m~/miniconda3/envs/afq/lib/python3.7/site-packages/plotly/basedatatypes.py\u001b[0m in \u001b[0;36m_raise_on_invalid_property_error\u001b[0;34m(self, *args)\u001b[0m\n\u001b[1;32m   4183\u001b[0m                     \u001b[0mfull_obj_name\u001b[0m\u001b[0;34m=\u001b[0m\u001b[0mfull_obj_name\u001b[0m\u001b[0;34m,\u001b[0m\u001b[0;34m\u001b[0m\u001b[0;34m\u001b[0m\u001b[0m\n\u001b[1;32m   4184\u001b[0m                     \u001b[0minvalid_str\u001b[0m\u001b[0;34m=\u001b[0m\u001b[0minvalid_str\u001b[0m\u001b[0;34m,\u001b[0m\u001b[0;34m\u001b[0m\u001b[0;34m\u001b[0m\u001b[0m\n\u001b[0;32m-> 4185\u001b[0;31m                     \u001b[0mprop_descriptions\u001b[0m\u001b[0;34m=\u001b[0m\u001b[0mself\u001b[0m\u001b[0;34m.\u001b[0m\u001b[0m_prop_descriptions\u001b[0m\u001b[0;34m,\u001b[0m\u001b[0;34m\u001b[0m\u001b[0;34m\u001b[0m\u001b[0m\n\u001b[0m\u001b[1;32m   4186\u001b[0m                 )\n\u001b[1;32m   4187\u001b[0m             )\n",
      "\u001b[0;31mValueError\u001b[0m: Invalid property specified for object of type plotly.graph_objs.scatter3d.Line: 'opacity'\n\n    Valid properties:\n        autocolorscale\n            Determines whether the colorscale is a default palette\n            (`autocolorscale: true`) or the palette determined by\n            `line.colorscale`. Has an effect only if in\n            `line.color`is set to a numerical array. In case\n            `colorscale` is unspecified or `autocolorscale` is\n            true, the default  palette will be chosen according to\n            whether numbers in the `color` array are all positive,\n            all negative or mixed.\n        cauto\n            Determines whether or not the color domain is computed\n            with respect to the input data (here in `line.color`)\n            or the bounds set in `line.cmin` and `line.cmax`  Has\n            an effect only if in `line.color`is set to a numerical\n            array. Defaults to `false` when `line.cmin` and\n            `line.cmax` are set by the user.\n        cmax\n            Sets the upper bound of the color domain. Has an effect\n            only if in `line.color`is set to a numerical array.\n            Value should have the same units as in `line.color` and\n            if set, `line.cmin` must be set as well.\n        cmid\n            Sets the mid-point of the color domain by scaling\n            `line.cmin` and/or `line.cmax` to be equidistant to\n            this point. Has an effect only if in `line.color`is set\n            to a numerical array. Value should have the same units\n            as in `line.color`. Has no effect when `line.cauto` is\n            `false`.\n        cmin\n            Sets the lower bound of the color domain. Has an effect\n            only if in `line.color`is set to a numerical array.\n            Value should have the same units as in `line.color` and\n            if set, `line.cmax` must be set as well.\n        color\n            Sets thelinecolor. It accepts either a specific color\n            or an array of numbers that are mapped to the\n            colorscale relative to the max and min values of the\n            array or relative to `line.cmin` and `line.cmax` if\n            set.\n        coloraxis\n            Sets a reference to a shared color axis. References to\n            these shared color axes are \"coloraxis\", \"coloraxis2\",\n            \"coloraxis3\", etc. Settings for these shared color axes\n            are set in the layout, under `layout.coloraxis`,\n            `layout.coloraxis2`, etc. Note that multiple color\n            scales can be linked to the same color axis.\n        colorbar\n            :class:`plotly.graph_objects.scatter3d.line.ColorBar`\n            instance or dict with compatible properties\n        colorscale\n            Sets the colorscale. Has an effect only if in\n            `line.color`is set to a numerical array. The colorscale\n            must be an array containing arrays mapping a normalized\n            value to an rgb, rgba, hex, hsl, hsv, or named color\n            string. At minimum, a mapping for the lowest (0) and\n            highest (1) values are required. For example, `[[0,\n            'rgb(0,0,255)'], [1, 'rgb(255,0,0)']]`. To control the\n            bounds of the colorscale in color space, use`line.cmin`\n            and `line.cmax`. Alternatively, `colorscale` may be a\n            palette name string of the following list: Greys,YlGnBu\n            ,Greens,YlOrRd,Bluered,RdBu,Reds,Blues,Picnic,Rainbow,P\n            ortland,Jet,Hot,Blackbody,Earth,Electric,Viridis,Cividi\n            s.\n        colorsrc\n            Sets the source reference on Chart Studio Cloud for\n            color .\n        dash\n            Sets the dash style of the lines.\n        reversescale\n            Reverses the color mapping if true. Has an effect only\n            if in `line.color`is set to a numerical array. If true,\n            `line.cmin` will correspond to the last color in the\n            array and `line.cmax` will correspond to the first\n            color.\n        showscale\n            Determines whether or not a colorbar is displayed for\n            this trace. Has an effect only if in `line.color`is set\n            to a numerical array.\n        width\n            Sets the line width (in px).\n        "
     ]
    }
   ],
   "source": [
    "reload(plotly_afq)\n",
    "anatomy = op.join(op.expanduser('~'), 'AFQ_data/prek-diffusion/dmri_prep/sub-1110/dtiInit_ses-pre/t1_acpc.nii.gz')\n",
    "myafq.viz_bundles(volume=anatomy, xform_volume=True, color_by_volume='dti_fa', interactive=True)"
   ]
  },
  {
   "cell_type": "code",
   "execution_count": 45,
   "metadata": {},
   "outputs": [
    {
     "name": "stderr",
     "output_type": "stream",
     "text": [
      "INFO:AFQ.viz:Loading Volume...\n",
      "INFO:AFQ.viz:Loading tractography...\n",
      "INFO:AFQ.viz:Loading Volume...\n",
      "INFO:AFQ.viz:Generating lines from tractography...\n"
     ]
    },
    {
     "ename": "KeyboardInterrupt",
     "evalue": "",
     "output_type": "error",
     "traceback": [
      "\u001b[0;31m---------------------------------------------------------------------------\u001b[0m",
      "\u001b[0;31mKeyboardInterrupt\u001b[0m                         Traceback (most recent call last)",
      "\u001b[0;32m<ipython-input-45-6120d58d52a5>\u001b[0m in \u001b[0;36m<module>\u001b[0;34m\u001b[0m\n\u001b[1;32m      1\u001b[0m \u001b[0;31m#myafq.viz_ROIs(color_by_volume='dti_fa', export_as_html=True, bundle_names=[\"ATR_L\"])\u001b[0m\u001b[0;34m\u001b[0m\u001b[0;34m\u001b[0m\u001b[0;34m\u001b[0m\u001b[0m\n\u001b[0;32m----> 2\u001b[0;31m \u001b[0mmyafq\u001b[0m\u001b[0;34m.\u001b[0m\u001b[0mviz_bundles\u001b[0m\u001b[0;34m(\u001b[0m\u001b[0mvolume\u001b[0m\u001b[0;34m=\u001b[0m\u001b[0manatomy\u001b[0m\u001b[0;34m,\u001b[0m \u001b[0mxform_volume\u001b[0m\u001b[0;34m=\u001b[0m\u001b[0;32mTrue\u001b[0m\u001b[0;34m,\u001b[0m \u001b[0mcolor_by_volume\u001b[0m\u001b[0;34m=\u001b[0m\u001b[0;34m'dti_fa'\u001b[0m\u001b[0;34m,\u001b[0m \u001b[0mexport_as_html\u001b[0m\u001b[0;34m=\u001b[0m\u001b[0;32mTrue\u001b[0m\u001b[0;34m)\u001b[0m\u001b[0;34m\u001b[0m\u001b[0;34m\u001b[0m\u001b[0m\n\u001b[0m",
      "\u001b[0;32m~/pyAFQ/AFQ/api.py\u001b[0m in \u001b[0;36mviz_bundles\u001b[0;34m(self, export_as_gif, export_as_html, volume, xform_volume, color_by_volume, xform_color_by_volume, inline, interactive)\u001b[0m\n\u001b[1;32m   1512\u001b[0m                               \u001b[0mxform_color_by_volume\u001b[0m\u001b[0;34m=\u001b[0m\u001b[0mxform_color_by_volume\u001b[0m\u001b[0;34m,\u001b[0m\u001b[0;34m\u001b[0m\u001b[0;34m\u001b[0m\u001b[0m\n\u001b[1;32m   1513\u001b[0m                               \u001b[0minline\u001b[0m\u001b[0;34m=\u001b[0m\u001b[0minline\u001b[0m\u001b[0;34m,\u001b[0m\u001b[0;34m\u001b[0m\u001b[0;34m\u001b[0m\u001b[0m\n\u001b[0;32m-> 1514\u001b[0;31m                               interactive=interactive)\n\u001b[0m\u001b[1;32m   1515\u001b[0m \u001b[0;34m\u001b[0m\u001b[0m\n\u001b[1;32m   1516\u001b[0m     def viz_ROIs(self,\n",
      "\u001b[0;32m~/miniconda3/envs/afq/lib/python3.7/site-packages/pandas/core/frame.py\u001b[0m in \u001b[0;36mapply\u001b[0;34m(self, func, axis, raw, result_type, args, **kwds)\u001b[0m\n\u001b[1;32m   6876\u001b[0m             \u001b[0mkwds\u001b[0m\u001b[0;34m=\u001b[0m\u001b[0mkwds\u001b[0m\u001b[0;34m,\u001b[0m\u001b[0;34m\u001b[0m\u001b[0;34m\u001b[0m\u001b[0m\n\u001b[1;32m   6877\u001b[0m         )\n\u001b[0;32m-> 6878\u001b[0;31m         \u001b[0;32mreturn\u001b[0m \u001b[0mop\u001b[0m\u001b[0;34m.\u001b[0m\u001b[0mget_result\u001b[0m\u001b[0;34m(\u001b[0m\u001b[0;34m)\u001b[0m\u001b[0;34m\u001b[0m\u001b[0;34m\u001b[0m\u001b[0m\n\u001b[0m\u001b[1;32m   6879\u001b[0m \u001b[0;34m\u001b[0m\u001b[0m\n\u001b[1;32m   6880\u001b[0m     \u001b[0;32mdef\u001b[0m \u001b[0mapplymap\u001b[0m\u001b[0;34m(\u001b[0m\u001b[0mself\u001b[0m\u001b[0;34m,\u001b[0m \u001b[0mfunc\u001b[0m\u001b[0;34m)\u001b[0m \u001b[0;34m->\u001b[0m \u001b[0;34m\"DataFrame\"\u001b[0m\u001b[0;34m:\u001b[0m\u001b[0;34m\u001b[0m\u001b[0;34m\u001b[0m\u001b[0m\n",
      "\u001b[0;32m~/miniconda3/envs/afq/lib/python3.7/site-packages/pandas/core/apply.py\u001b[0m in \u001b[0;36mget_result\u001b[0;34m(self)\u001b[0m\n\u001b[1;32m    184\u001b[0m             \u001b[0;32mreturn\u001b[0m \u001b[0mself\u001b[0m\u001b[0;34m.\u001b[0m\u001b[0mapply_raw\u001b[0m\u001b[0;34m(\u001b[0m\u001b[0;34m)\u001b[0m\u001b[0;34m\u001b[0m\u001b[0;34m\u001b[0m\u001b[0m\n\u001b[1;32m    185\u001b[0m \u001b[0;34m\u001b[0m\u001b[0m\n\u001b[0;32m--> 186\u001b[0;31m         \u001b[0;32mreturn\u001b[0m \u001b[0mself\u001b[0m\u001b[0;34m.\u001b[0m\u001b[0mapply_standard\u001b[0m\u001b[0;34m(\u001b[0m\u001b[0;34m)\u001b[0m\u001b[0;34m\u001b[0m\u001b[0;34m\u001b[0m\u001b[0m\n\u001b[0m\u001b[1;32m    187\u001b[0m \u001b[0;34m\u001b[0m\u001b[0m\n\u001b[1;32m    188\u001b[0m     \u001b[0;32mdef\u001b[0m \u001b[0mapply_empty_result\u001b[0m\u001b[0;34m(\u001b[0m\u001b[0mself\u001b[0m\u001b[0;34m)\u001b[0m\u001b[0;34m:\u001b[0m\u001b[0;34m\u001b[0m\u001b[0;34m\u001b[0m\u001b[0m\n",
      "\u001b[0;32m~/miniconda3/envs/afq/lib/python3.7/site-packages/pandas/core/apply.py\u001b[0m in \u001b[0;36mapply_standard\u001b[0;34m(self)\u001b[0m\n\u001b[1;32m    294\u001b[0m             \u001b[0;32mtry\u001b[0m\u001b[0;34m:\u001b[0m\u001b[0;34m\u001b[0m\u001b[0;34m\u001b[0m\u001b[0m\n\u001b[1;32m    295\u001b[0m                 result = libreduction.compute_reduction(\n\u001b[0;32m--> 296\u001b[0;31m                     \u001b[0mvalues\u001b[0m\u001b[0;34m,\u001b[0m \u001b[0mself\u001b[0m\u001b[0;34m.\u001b[0m\u001b[0mf\u001b[0m\u001b[0;34m,\u001b[0m \u001b[0maxis\u001b[0m\u001b[0;34m=\u001b[0m\u001b[0mself\u001b[0m\u001b[0;34m.\u001b[0m\u001b[0maxis\u001b[0m\u001b[0;34m,\u001b[0m \u001b[0mdummy\u001b[0m\u001b[0;34m=\u001b[0m\u001b[0mdummy\u001b[0m\u001b[0;34m,\u001b[0m \u001b[0mlabels\u001b[0m\u001b[0;34m=\u001b[0m\u001b[0mlabels\u001b[0m\u001b[0;34m\u001b[0m\u001b[0;34m\u001b[0m\u001b[0m\n\u001b[0m\u001b[1;32m    297\u001b[0m                 )\n\u001b[1;32m    298\u001b[0m             \u001b[0;32mexcept\u001b[0m \u001b[0mValueError\u001b[0m \u001b[0;32mas\u001b[0m \u001b[0merr\u001b[0m\u001b[0;34m:\u001b[0m\u001b[0;34m\u001b[0m\u001b[0;34m\u001b[0m\u001b[0m\n",
      "\u001b[0;32mpandas/_libs/reduction.pyx\u001b[0m in \u001b[0;36mpandas._libs.reduction.compute_reduction\u001b[0;34m()\u001b[0m\n",
      "\u001b[0;32mpandas/_libs/reduction.pyx\u001b[0m in \u001b[0;36mpandas._libs.reduction.Reducer.get_result\u001b[0;34m()\u001b[0m\n",
      "\u001b[0;32m~/miniconda3/envs/afq/lib/python3.7/site-packages/pandas/core/apply.py\u001b[0m in \u001b[0;36mf\u001b[0;34m(x)\u001b[0m\n\u001b[1;32m    111\u001b[0m \u001b[0;34m\u001b[0m\u001b[0m\n\u001b[1;32m    112\u001b[0m             \u001b[0;32mdef\u001b[0m \u001b[0mf\u001b[0m\u001b[0;34m(\u001b[0m\u001b[0mx\u001b[0m\u001b[0;34m)\u001b[0m\u001b[0;34m:\u001b[0m\u001b[0;34m\u001b[0m\u001b[0;34m\u001b[0m\u001b[0m\n\u001b[0;32m--> 113\u001b[0;31m                 \u001b[0;32mreturn\u001b[0m \u001b[0mfunc\u001b[0m\u001b[0;34m(\u001b[0m\u001b[0mx\u001b[0m\u001b[0;34m,\u001b[0m \u001b[0;34m*\u001b[0m\u001b[0margs\u001b[0m\u001b[0;34m,\u001b[0m \u001b[0;34m**\u001b[0m\u001b[0mkwds\u001b[0m\u001b[0;34m)\u001b[0m\u001b[0;34m\u001b[0m\u001b[0;34m\u001b[0m\u001b[0m\n\u001b[0m\u001b[1;32m    114\u001b[0m \u001b[0;34m\u001b[0m\u001b[0m\n\u001b[1;32m    115\u001b[0m         \u001b[0;32melse\u001b[0m\u001b[0;34m:\u001b[0m\u001b[0;34m\u001b[0m\u001b[0;34m\u001b[0m\u001b[0m\n",
      "\u001b[0;32m~/pyAFQ/AFQ/api.py\u001b[0m in \u001b[0;36m_viz_bundles\u001b[0;34m(self, row, export_as_gif, export_as_html, inline, interactive, volume, xform_volume, color_by_volume, xform_color_by_volume)\u001b[0m\n\u001b[1;32m   1098\u001b[0m                                             \u001b[0minteract\u001b[0m\u001b[0;34m=\u001b[0m\u001b[0minteractive\u001b[0m\u001b[0;34m,\u001b[0m\u001b[0;34m\u001b[0m\u001b[0;34m\u001b[0m\u001b[0m\n\u001b[1;32m   1099\u001b[0m                                             \u001b[0minline\u001b[0m\u001b[0;34m=\u001b[0m\u001b[0minline\u001b[0m\u001b[0;34m,\u001b[0m\u001b[0;34m\u001b[0m\u001b[0;34m\u001b[0m\u001b[0m\n\u001b[0;32m-> 1100\u001b[0;31m                                             figure=figure)\n\u001b[0m\u001b[1;32m   1101\u001b[0m \u001b[0;34m\u001b[0m\u001b[0m\n\u001b[1;32m   1102\u001b[0m         \u001b[0;32mif\u001b[0m \u001b[0mexport_as_gif\u001b[0m\u001b[0;34m:\u001b[0m\u001b[0;34m\u001b[0m\u001b[0;34m\u001b[0m\u001b[0m\n",
      "\u001b[0;32m~/pyAFQ/AFQ/viz_libs/afq_plotly.py\u001b[0m in \u001b[0;36mvisualize_bundles\u001b[0;34m(trk, affine, bundle_dict, bundle, colors, color_by_volume, figure, background, resample, interact, inline)\u001b[0m\n\u001b[1;32m    194\u001b[0m \u001b[0;34m\u001b[0m\u001b[0m\n\u001b[1;32m    195\u001b[0m     \u001b[0;32mif\u001b[0m \u001b[0mfigure\u001b[0m \u001b[0;32mis\u001b[0m \u001b[0;32mNone\u001b[0m\u001b[0;34m:\u001b[0m\u001b[0;34m\u001b[0m\u001b[0;34m\u001b[0m\u001b[0m\n\u001b[0;32m--> 196\u001b[0;31m         \u001b[0mfigure\u001b[0m \u001b[0;34m=\u001b[0m \u001b[0mgo\u001b[0m\u001b[0;34m.\u001b[0m\u001b[0mFigure\u001b[0m\u001b[0;34m(\u001b[0m\u001b[0;34m)\u001b[0m\u001b[0;34m\u001b[0m\u001b[0;34m\u001b[0m\u001b[0m\n\u001b[0m\u001b[1;32m    197\u001b[0m \u001b[0;34m\u001b[0m\u001b[0m\n\u001b[1;32m    198\u001b[0m     \u001b[0mset_layout\u001b[0m\u001b[0;34m(\u001b[0m\u001b[0mfigure\u001b[0m\u001b[0;34m,\u001b[0m \u001b[0mcolor\u001b[0m\u001b[0;34m=\u001b[0m\u001b[0m_color_arr2str\u001b[0m\u001b[0;34m(\u001b[0m\u001b[0mbackground\u001b[0m\u001b[0;34m)\u001b[0m\u001b[0;34m)\u001b[0m\u001b[0;34m\u001b[0m\u001b[0;34m\u001b[0m\u001b[0m\n",
      "\u001b[0;32m~/pyAFQ/AFQ/viz_libs/afq_plotly.py\u001b[0m in \u001b[0;36m_draw_streamlines\u001b[0;34m(figure, sls, color, name, n_points, cbv, opacity)\u001b[0m\n\u001b[1;32m    109\u001b[0m                             \u001b[0mbrightness\u001b[0m \u001b[0;34m/\u001b[0m \u001b[0mcbv_max\u001b[0m \u001b[0;34m*\u001b[0m \u001b[0mcolor\u001b[0m \u001b[0;34m/\u001b[0m \u001b[0mcolor_max\u001b[0m \u001b[0;34m*\u001b[0m \u001b[0;36m1.4\u001b[0m\u001b[0;34m,\u001b[0m\u001b[0;34m\u001b[0m\u001b[0;34m\u001b[0m\u001b[0m\n\u001b[1;32m    110\u001b[0m                             3), opacity))\n\u001b[0;32m--> 111\u001b[0;31m                 \u001b[0mcustomdata\u001b[0m\u001b[0;34m.\u001b[0m\u001b[0mappend\u001b[0m\u001b[0;34m(\u001b[0m\u001b[0mstr\u001b[0m\u001b[0;34m(\u001b[0m\u001b[0mbrightness\u001b[0m\u001b[0;34m)\u001b[0m\u001b[0;34m)\u001b[0m\u001b[0;34m\u001b[0m\u001b[0;34m\u001b[0m\u001b[0m\n\u001b[0m\u001b[1;32m    112\u001b[0m \u001b[0;34m\u001b[0m\u001b[0m\n\u001b[1;32m    113\u001b[0m             \u001b[0mline_color\u001b[0m\u001b[0;34m.\u001b[0m\u001b[0mappend\u001b[0m\u001b[0;34m(\u001b[0m\u001b[0;34mf\"rgba(0, 0, 0, 0)\"\u001b[0m\u001b[0;34m)\u001b[0m\u001b[0;34m\u001b[0m\u001b[0;34m\u001b[0m\u001b[0m\n",
      "\u001b[0;31mKeyboardInterrupt\u001b[0m: "
     ]
    }
   ],
   "source": [
    "#myafq.viz_ROIs(color_by_volume='dti_fa', export_as_html=True, bundle_names=[\"ATR_L\"])\n",
    "myafq.viz_bundles(volume=anatomy, xform_volume=True, color_by_volume='dti_fa', export_as_html=True)"
   ]
  },
  {
   "cell_type": "code",
   "execution_count": null,
   "metadata": {},
   "outputs": [],
   "source": []
  }
 ],
 "metadata": {
  "kernelspec": {
   "display_name": "Python 3",
   "language": "python",
   "name": "python3"
  },
  "language_info": {
   "codemirror_mode": {
    "name": "ipython",
    "version": 3
   },
   "file_extension": ".py",
   "mimetype": "text/x-python",
   "name": "python",
   "nbconvert_exporter": "python",
   "pygments_lexer": "ipython3",
   "version": "3.7.7"
  }
 },
 "nbformat": 4,
 "nbformat_minor": 4
}
