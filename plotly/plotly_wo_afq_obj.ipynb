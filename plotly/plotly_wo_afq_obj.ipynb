{
 "cells": [
  {
   "cell_type": "code",
   "execution_count": 3,
   "metadata": {},
   "outputs": [],
   "source": [
    "from AFQ.viz.utils import Viz"
   ]
  },
  {
   "cell_type": "code",
   "execution_count": 4,
   "metadata": {},
   "outputs": [],
   "source": [
    "my_viz = Viz(backend=\"plotly\")"
   ]
  },
  {
   "cell_type": "code",
   "execution_count": 6,
   "metadata": {},
   "outputs": [],
   "source": [
    "# needed file paths\n",
    "bundles_file = None\n",
    "\n",
    "# needed data\n",
    "anat_data = None  # anat has to be transformed to subject space first\n",
    "fa_data = None"
   ]
  },
  {
   "cell_type": "code",
   "execution_count": 7,
   "metadata": {},
   "outputs": [],
   "source": [
    "from AFQ.api import make_bundle_dict\n",
    "BUNDLES = [\"ATR\", \"CGC\", \"CST\", \"IFO\", \"ILF\", \"SLF\", \"ARC\", \"UNC\",\n",
    "           \"FA\", \"FP\", \"HCC\"]\n",
    "bundle_dict = make_bundle_dict(BUNDLES)"
   ]
  },
  {
   "cell_type": "code",
   "execution_count": null,
   "metadata": {},
   "outputs": [],
   "source": [
    "figure = my_viz.visualize_volume(anat_data)\n",
    "\n",
    "figure = my_viz.visualize_bundles(\n",
    "    bundles_file,\n",
    "    color_by_volume=fa_data,\n",
    "    bundle_dict=bundle_dict,\n",
    "    n_points=100,\n",
    "    figure=figure)"
   ]
  },
  {
   "cell_type": "code",
   "execution_count": null,
   "metadata": {},
   "outputs": [],
   "source": [
    "figure"
   ]
  }
 ],
 "metadata": {
  "kernelspec": {
   "display_name": "Python 3",
   "language": "python",
   "name": "python3"
  },
  "language_info": {
   "codemirror_mode": {
    "name": "ipython",
    "version": 3
   },
   "file_extension": ".py",
   "mimetype": "text/x-python",
   "name": "python",
   "nbconvert_exporter": "python",
   "pygments_lexer": "ipython3",
   "version": "3.7.0"
  }
 },
 "nbformat": 4,
 "nbformat_minor": 4
}
