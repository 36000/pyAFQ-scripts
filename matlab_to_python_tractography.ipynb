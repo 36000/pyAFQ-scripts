{
 "cells": [
  {
   "cell_type": "code",
   "execution_count": 5,
   "metadata": {},
   "outputs": [],
   "source": [
    "import numpy as np"
   ]
  },
  {
   "cell_type": "code",
   "execution_count": 6,
   "metadata": {},
   "outputs": [],
   "source": [
    "from dipy.io.stateful_tractogram import StatefulTractogram, Space\n",
    "from tqdm import tqdm\n",
    "\n",
    "class MatlabFileTracking():\n",
    "    def __init__(self, mat_file, fg_ref):\n",
    "        self.mat_file = mat_file\n",
    "        self.fg_ref = fg_ref\n",
    "    def __iter__(self):\n",
    "        for i in tqdm(range(self.fg_ref.shape[1])):\n",
    "            yield self.mat_file[self.fg_ref[0, i]][:]\n",
    "\n",
    "def track_matlab_file(mat_file, reference):\n",
    "    fg_ref = mat_file['fg']['fibers'][:]\n",
    "    tracker = MatlabFileTracking(mat_file, fg_ref)\n",
    "    return StatefulTractogram(tracker, reference, Space.RASMM)\n",
    "# could be T1 weighted or diffusion, try each then open up b0 volume\n",
    "# not in volume coordinates (lets compare to get_streamlines)\n",
    "# origin might not matter, try one of center / corner and see if they shift (prolly by half a voxel)"
   ]
  },
  {
   "cell_type": "code",
   "execution_count": 7,
   "metadata": {
    "scrolled": true
   },
   "outputs": [
    {
     "name": "stderr",
     "output_type": "stream",
     "text": [
      "100%|██████████| 163183/163183 [00:45<00:00, 3591.33it/s]\n",
      "100%|██████████| 134009/134009 [00:34<00:00, 3903.53it/s]\n",
      "100%|██████████| 121969/121969 [00:30<00:00, 4012.35it/s]\n",
      "100%|██████████| 123752/123752 [00:31<00:00, 3949.40it/s]\n",
      "100%|██████████| 121666/121666 [00:30<00:00, 4011.23it/s]\n",
      "100%|██████████| 150841/150841 [00:40<00:00, 3716.42it/s]\n",
      "100%|██████████| 124766/124766 [00:31<00:00, 3979.96it/s]\n",
      "100%|██████████| 83280/83280 [00:19<00:00, 4330.74it/s]\n",
      "100%|██████████| 124203/124203 [00:31<00:00, 3981.35it/s]\n",
      "100%|██████████| 104695/104695 [00:25<00:00, 4112.02it/s]\n"
     ]
    }
   ],
   "source": [
    "import os.path as op\n",
    "import os\n",
    "\n",
    "import h5py\n",
    "import s3fs\n",
    "\n",
    "from dipy.io.streamline import save_tractogram\n",
    "import nibabel as nib\n",
    "# from scipy.io import loadmat\n",
    "\n",
    "fs = s3fs.S3FileSystem()\n",
    "local_dir = 'm2p_tracts'\n",
    "if not op.exists(local_dir):\n",
    "    os.mkdir(local_dir)\n",
    "\n",
    "subjects = [\n",
    "    1110,\n",
    "    1112,\n",
    "    1113,\n",
    "    1103,\n",
    "    1184,\n",
    "    1208,\n",
    "    1210,\n",
    "    1241,\n",
    "    1262,\n",
    "    1271]\n",
    "for subject in subjects:\n",
    "    # Download necessary files\n",
    "    dwi_dir = f'prek-diffusion/derivatives/sub-{subject}/dtiInit_ses-pre'\n",
    "    fs.get(op.join(dwi_dir, f\"dti32_allvols_rt/fibers/WholeBrainFG.mat\"),\n",
    "           op.join(local_dir, f\"WholeBrainFG-{subject}.mat\"))\n",
    "#     fs.get(op.join(dwi_dir, f\"sub-{subject}_ses-pre_acq-b1500_dwi_aligned_trilin_acpcXform.mat\"),\n",
    "#            op.join(local_dir, f\"sub-{subject}_acpcXform.mat\"))\n",
    "    fs.get(op.join(dwi_dir, f\"sub-{subject}_ses-pre_acq-b1500_dwi_aligned_trilin.nii.gz\"),\n",
    "           op.join(local_dir, f\"sub-{subject}_dwi.nii.gz\"))\n",
    "\n",
    "    # Open Files\n",
    "    mat_file = h5py.File(op.join(local_dir, f\"WholeBrainFG-{subject}.mat\"), 'r')\n",
    "    #xform_file = loadmat(op.join(local_dir, f\"sub-{subject}_acpcXform.mat\"))\n",
    "    img = nib.load(op.join(local_dir, f\"sub-{subject}_dwi.nii.gz\"))\n",
    "\n",
    "    # track from matlab file and save\n",
    "    #affine = xform_file['acpcXform']\n",
    "    sft = track_matlab_file(mat_file, img)\n",
    "    mat_file.close()\n",
    "    save_tractogram(sft, f\"m2p_tracts/tract_test_sub-{subject}.trk\", bbox_valid_check=False)\n"
   ]
  },
  {
   "cell_type": "code",
   "execution_count": null,
   "metadata": {},
   "outputs": [],
   "source": []
  },
  {
   "cell_type": "code",
   "execution_count": null,
   "metadata": {},
   "outputs": [],
   "source": []
  }
 ],
 "metadata": {
  "kernelspec": {
   "display_name": "Python 3",
   "language": "python",
   "name": "python3"
  },
  "language_info": {
   "codemirror_mode": {
    "name": "ipython",
    "version": 3
   },
   "file_extension": ".py",
   "mimetype": "text/x-python",
   "name": "python",
   "nbconvert_exporter": "python",
   "pygments_lexer": "ipython3",
   "version": "3.7.7"
  }
 },
 "nbformat": 4,
 "nbformat_minor": 4
}
