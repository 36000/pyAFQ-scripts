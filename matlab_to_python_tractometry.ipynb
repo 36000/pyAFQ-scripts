{
 "cells": [
  {
   "cell_type": "code",
   "execution_count": 5,
   "metadata": {},
   "outputs": [],
   "source": [
    "import numpy as np"
   ]
  },
  {
   "cell_type": "code",
   "execution_count": 11,
   "metadata": {},
   "outputs": [],
   "source": [
    "from dipy.io.stateful_tractogram import StatefulTractogram, Space\n",
    "from tqdm import tqdm\n",
    "from AFQ.utils.streamlines import bundles_to_tgram\n",
    "from AFQ.api import make_bundle_dict\n",
    "\n",
    "BUNDLE_MAT_2_PYTHON = \\\n",
    "    {'Right Corticospinal': 'CST_R', 'Left Corticospinal': 'CST_L',\n",
    "     'Right Uncinate': 'UNC_R', 'Left Uncinate': 'UNC_L',\n",
    "     'Left IFOF': 'IFO_L', 'Right IFOF': 'IFO_R',\n",
    "     'Right Arcuate': 'ARC_R', 'Left Arcuate': 'ARC_L',\n",
    "     'Right Thalamic Radiation': 'ATR_R', 'Left Thalamic Radiation': 'ATR_L',\n",
    "     'Right Cingulum Cingulate': 'CGC_R', 'Left Cingulum Cingulate': 'CGC_L',\n",
    "     'Right Cingulum Hippocampus': 'HCC_R',\n",
    "     'Left Cingulum Hippocampus': 'HCC_L',\n",
    "     'Callosum Forceps Major': 'FP', 'Callosum Forceps Minor': 'FA',\n",
    "     'Right ILF': 'ILF_R', 'Left ILF': 'ILF_L',\n",
    "     'Right SLF': 'SLF_R', 'Left SLF': 'SLF_L'}\n",
    "\n",
    "BUNDLES = [\"ATR\", \"CGC\", \"CST\", \"IFO\", \"ILF\", \"SLF\", \"ARC\", \"UNC\",\n",
    "           \"FA\", \"FP\", \"HCC\"]\n",
    "\n",
    "class MatlabFileTracking():\n",
    "    def __init__(self, mat_file, fg_ref):\n",
    "        self.mat_file = mat_file\n",
    "        self.fg_ref = fg_ref\n",
    "    def __iter__(self):\n",
    "        for i in tqdm(range(self.fg_ref.shape[1])):\n",
    "            yield self.mat_file[self.fg_ref[0, i]][:]\n",
    "\n",
    "def track_matlab_file(mat_file, reference):\n",
    "    fiber_groups = {}\n",
    "    for i in range(mat_file[\"fg\"][\"name\"].shape[0]):\n",
    "        name_data = mat_file[mat_file[\"fg\"][\"name\"][i][0]]\n",
    "        name = ''.join(chr(i) for i in name_data[:])\n",
    "        if name in BUNDLE_MAT_2_PYTHON.keys():\n",
    "            bundle_ref = mat_file[mat_file[\"fg\"][\"fibers\"][i][0]]\n",
    "            tracker = MatlabFileTracking(mat_file, bundle_ref)\n",
    "            fiber_groups[BUNDLE_MAT_2_PYTHON[name]] =\\\n",
    "                StatefulTractogram(tracker, reference, Space.RASMM)\n",
    "\n",
    "    return bundles_to_tgram(fiber_groups, make_bundle_dict(BUNDLES), reference)\n",
    "\n",
    "# could be T1 weighted or diffusion, try each then open up b0 volume\n",
    "# not in volume coordinates (lets compare to get_streamlines)\n",
    "# origin might not matter, try one of center / corner and see if they shift (prolly by half a voxel)"
   ]
  },
  {
   "cell_type": "code",
   "execution_count": 12,
   "metadata": {},
   "outputs": [
    {
     "name": "stderr",
     "output_type": "stream",
     "text": [
      "100%|██████████| 2621/2621 [00:01<00:00, 2499.46it/s]\n",
      "100%|██████████| 2962/2962 [00:01<00:00, 2578.48it/s]\n",
      "100%|██████████| 9241/9241 [00:03<00:00, 2587.37it/s]\n",
      "100%|██████████| 8362/8362 [00:03<00:00, 2634.06it/s]\n",
      "100%|██████████| 198/198 [00:00<00:00, 2599.03it/s]\n",
      "100%|██████████| 345/345 [00:00<00:00, 2259.82it/s]\n",
      "100%|██████████| 131/131 [00:00<00:00, 2270.87it/s]\n",
      "100%|██████████| 41/41 [00:00<00:00, 1949.98it/s]\n",
      "100%|██████████| 1061/1061 [00:00<00:00, 2276.58it/s]\n",
      "100%|██████████| 8639/8639 [00:03<00:00, 2593.91it/s]\n",
      "100%|██████████| 2019/2019 [00:00<00:00, 2557.98it/s]\n",
      "100%|██████████| 1650/1650 [00:00<00:00, 2446.74it/s]\n",
      "100%|██████████| 2305/2305 [00:00<00:00, 2634.21it/s]\n",
      "100%|██████████| 1550/1550 [00:00<00:00, 2656.71it/s]\n",
      "100%|██████████| 1161/1161 [00:00<00:00, 2548.88it/s]\n",
      "100%|██████████| 3770/3770 [00:01<00:00, 2666.88it/s]\n",
      "100%|██████████| 1034/1034 [00:00<00:00, 2474.38it/s]\n",
      "100%|██████████| 1032/1032 [00:00<00:00, 2576.30it/s]\n",
      "100%|██████████| 3071/3071 [00:01<00:00, 2530.46it/s]\n",
      "100%|██████████| 974/974 [00:00<00:00, 2477.69it/s]\n",
      "INFO:dipy.data.fetcher:Dataset is already in place. If you want to fetch it again please first remove the folder /Users/john/AFQ_data/templates \n",
      "INFO:dipy.data.fetcher:Dataset is already in place. If you want to fetch it again please first remove the folder /Users/john/AFQ_data/callosum_templates \n"
     ]
    },
    {
     "data": {
      "text/plain": [
       "True"
      ]
     },
     "execution_count": 12,
     "metadata": {},
     "output_type": "execute_result"
    }
   ],
   "source": [
    "import os.path as op\n",
    "\n",
    "import h5py\n",
    "\n",
    "from dipy.io.streamline import save_tractogram\n",
    "import nibabel as nib\n",
    "\n",
    "mat_file = h5py.File(op.join(\n",
    "    op.expanduser('~'),\n",
    "    'Downloads',\n",
    "    \"MoriGroups.mat\"), \"r\")\n",
    "img = nib.load(op.join(op.expanduser('~'), 'Downloads', f\"dwi.nii.gz\"))\n",
    "\n",
    "sft = track_matlab_file(mat_file, img)\n",
    "\n",
    "mat_file.close()\n",
    "save_tractogram(sft, f\"m2p_tracts/tractometry-test.trk\", bbox_valid_check=False)"
   ]
  },
  {
   "cell_type": "code",
   "execution_count": null,
   "metadata": {
    "scrolled": true
   },
   "outputs": [],
   "source": [
    "\n"
   ]
  },
  {
   "cell_type": "code",
   "execution_count": null,
   "metadata": {},
   "outputs": [],
   "source": []
  },
  {
   "cell_type": "code",
   "execution_count": null,
   "metadata": {},
   "outputs": [],
   "source": []
  }
 ],
 "metadata": {
  "kernelspec": {
   "display_name": "Python 3",
   "language": "python",
   "name": "python3"
  },
  "language_info": {
   "codemirror_mode": {
    "name": "ipython",
    "version": 3
   },
   "file_extension": ".py",
   "mimetype": "text/x-python",
   "name": "python",
   "nbconvert_exporter": "python",
   "pygments_lexer": "ipython3",
   "version": "3.7.0"
  }
 },
 "nbformat": 4,
 "nbformat_minor": 4
}
