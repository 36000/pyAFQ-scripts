{
 "cells": [
  {
   "cell_type": "code",
   "execution_count": 1,
   "metadata": {},
   "outputs": [],
   "source": [
    "import cloudknot as ck\n",
    "ck.set_region('us-west-2')"
   ]
  },
  {
   "cell_type": "code",
   "execution_count": 3,
   "metadata": {},
   "outputs": [],
   "source": [
    "def afq_cam_can(subject):\n",
    "    import AFQ.data as afqd\n",
    "    import AFQ.api as api\n",
    "    import os.path as op\n",
    "    import s3fs\n",
    "    \n",
    "    local_bids_folder = \"./cam_can\"\n",
    "    bucket = \"cam-can.afq-insight\"\n",
    "    s3_prefix = \"raw/cc700/mri/pipeline/release004/BIDS_NRDG/BIDS_NRDG\"\n",
    "    \n",
    "    study = afqd.S3BIDSStudy(\n",
    "        \"Cam-CAN\",\n",
    "        bucket,\n",
    "        s3_prefix,\n",
    "        subjects=10,\n",
    "        anon=False,\n",
    "        random_seed=42)\n",
    "    study.download(local_bids_folder)\n",
    "    \n",
    "    myafq = api.AFQ(local_bids_folder, virtual_frame_buffer=True)\n",
    "    myafq.export_all()\n",
    "\n",
    "    s3fs.S3FileSystem().put(\n",
    "        op.join(local_bids_folder, \"afq\"),\n",
    "        op.join(bucket, s3_prefix, \"afq\"),\n",
    "        recursive=True)\n",
    "    "
   ]
  },
  {
   "cell_type": "code",
   "execution_count": null,
   "metadata": {},
   "outputs": [],
   "source": [
    "afq_knot = ck.Knot(name='afq_cam_can-64gb-20804-0',\n",
    "                  func=afq_cam_can,\n",
    "                  base_image='libglxvfb:1',\n",
    "                  image_github_installs=\"https://github.com/richford/pyAFQ.git@s3-bids-fetch\",\n",
    "                  pars_policies=('AmazonS3FullAccess',),\n",
    "                  resource_type=\"SPOT\",\n",
    "                  bid_percentage=100,\n",
    "                  memory=64000)"
   ]
  }
 ],
 "metadata": {
  "kernelspec": {
   "display_name": "Python 3",
   "language": "python",
   "name": "python3"
  },
  "language_info": {
   "codemirror_mode": {
    "name": "ipython",
    "version": 3
   },
   "file_extension": ".py",
   "mimetype": "text/x-python",
   "name": "python",
   "nbconvert_exporter": "python",
   "pygments_lexer": "ipython3",
   "version": "3.7.7"
  }
 },
 "nbformat": 4,
 "nbformat_minor": 4
}
