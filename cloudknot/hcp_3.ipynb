{
 "cells": [
  {
   "cell_type": "code",
   "execution_count": null,
   "metadata": {},
   "outputs": [],
   "source": []
  },
  {
   "cell_type": "code",
   "execution_count": 18,
   "metadata": {
    "scrolled": true
   },
   "outputs": [],
   "source": [
    "import os\n",
    "aws_cred = os.path.expanduser('~/.aws/credentials')\n",
    "\n",
    "f = open(aws_cred, \"r\")\n",
    "\n",
    "while(not '[hcp]' in f.readline()):\n",
    "    pass\n",
    "\n",
    "aws_access_key = f.readline().split(\" \")[-1].strip()\n",
    "aws_secret_key = f.readline().split(\" \")[-1].strip()\n",
    "\n",
    "def attach_keys(arr):\n",
    "    new_arr = []\n",
    "    for e in arr:\n",
    "        arg_arr = [e]\n",
    "        arg_arr.append(aws_access_key)\n",
    "        arg_arr.append(aws_secret_key)\n",
    "        new_arr.append(arg_arr)\n",
    "    return new_arr"
   ]
  },
  {
   "cell_type": "code",
   "execution_count": null,
   "metadata": {},
   "outputs": [],
   "source": []
  },
  {
   "cell_type": "code",
   "execution_count": 29,
   "metadata": {},
   "outputs": [],
   "source": [
    "def profile_hcp(args):\n",
    "    import os.path as op\n",
    "    import matplotlib.pyplot as plt\n",
    "    import numpy as np\n",
    "    import nibabel as nib\n",
    "    import dipy.data as dpd\n",
    "    from dipy.data import fetcher\n",
    "    import dipy.tracking.utils as dtu\n",
    "    import dipy.tracking.streamline as dts\n",
    "    from dipy.io.streamline import save_tractogram, load_tractogram\n",
    "    from dipy.stats.analysis import afq_profile, gaussian_weights\n",
    "    from dipy.io.stateful_tractogram import StatefulTractogram\n",
    "    from dipy.io.stateful_tractogram import Space\n",
    "\n",
    "    import AFQ.utils.streamlines as aus\n",
    "    import AFQ.data as afd\n",
    "    import AFQ.tractography as aft\n",
    "    import AFQ.registration as reg\n",
    "    import AFQ.dti as dti\n",
    "    import AFQ.segmentation as seg\n",
    "    from AFQ.utils.volume import patch_up_roi\n",
    "    from AFQ.data import fetch_hcp\n",
    "\n",
    "    subject = args[0]\n",
    "    aws_access_key = args[1]\n",
    "    aws_secret_key = args[2]\n",
    "    print(\"here\")\n",
    "    data_paths = list(fetch_hcp([subject], profile_name=False,\n",
    "                                aws_access_key_id=aws_access_key,\n",
    "                                aws_secret_access_key=aws_secret_key).keys())\n",
    "    \n",
    "    fdata = data_paths[2]\n",
    "    fbval = data_paths[0]\n",
    "    fbvec = data_paths[1]\n",
    "\n",
    "    img = nib.load(fdata)\n",
    "\n",
    "    if not op.exists('./dti_FA.nii.gz'):\n",
    "        dti_params = dti.fit_dti(fdata, fbval, fbvec,\n",
    "                                 out_dir='.')\n",
    "    else:\n",
    "        dti_params = {'FA': './dti_FA.nii.gz',\n",
    "                      'params': './dti_params.nii.gz'}\n",
    "\n",
    "    FA_img = nib.load(dti_params['FA'])\n",
    "    FA_data = FA_img.get_fdata()\n",
    "\n",
    "    templates = afd.read_templates()\n",
    "    bundle_names = [\"CST\", \"ILF\"]\n",
    "\n",
    "    bundles = {}\n",
    "    for name in bundle_names:\n",
    "        for hemi in ['_R', '_L']:\n",
    "            bundles[name + hemi] = {\n",
    "                'ROIs': [templates[name + '_roi1' + hemi],\n",
    "                         templates[name + '_roi2' + hemi]],\n",
    "                'rules': [True, True],\n",
    "                'prob_map': templates[name + hemi + '_prob_map'],\n",
    "                'cross_midline': False}\n",
    "\n",
    "    MNI_T2_img = dpd.read_mni_template()\n",
    "    if not op.exists('mapping.nii.gz'):\n",
    "        import dipy.core.gradients as dpg\n",
    "        gtab = dpg.gradient_table(fbval, fbvec)\n",
    "        _, mapping = reg.syn_register_dwi(fdata, gtab)\n",
    "        reg.write_mapping(mapping, './mapping.nii.gz')\n",
    "    else:\n",
    "        mapping = reg.read_mapping('./mapping.nii.gz', img, MNI_T2_img)\n",
    "\n",
    "    print(\"Tracking...\")\n",
    "    if not op.exists('dti_streamlines.trk'):\n",
    "        seed_roi = np.zeros(img.shape[:-1])\n",
    "        for name in bundle_names:\n",
    "            for hemi in ['_R', '_L']:\n",
    "                for roi in bundles[name + hemi]['ROIs']:\n",
    "                    warped_roi = patch_up_roi(\n",
    "                        (mapping.transform_inverse(\n",
    "                            roi.get_data().astype(np.float32),\n",
    "                         interpolation='linear')) > 0)\n",
    "\n",
    "                    # Add voxels that aren't there yet:\n",
    "                    seed_roi = np.logical_or(seed_roi, warped_roi)\n",
    "\n",
    "        nib.save(nib.Nifti1Image(seed_roi.astype(float), img.affine), 'seed_roi.nii.gz')\n",
    "        streamlines = aft.track(dti_params['params'], seed_mask=seed_roi,\n",
    "                                stop_mask=FA_data, stop_threshold=0.1)\n",
    "\n",
    "        sft = StatefulTractogram(streamlines, img, Space.RASMM)\n",
    "        save_tractogram(sft, './dti_streamlines.trk',\n",
    "                        bbox_valid_check=False)\n",
    "    else:\n",
    "        tg = load_tractogram('./dti_streamlines.trk', img)\n",
    "        streamlines = tg.streamlines\n",
    "\n",
    "    streamlines = dts.Streamlines(\n",
    "        dtu.transform_tracking_output(streamlines,\n",
    "                                      np.linalg.inv(img.affine)))\n",
    "\n",
    "    print(\"Segmenting fiber groups...\")\n",
    "    segmentation = seg.Segmentation()\n",
    "    segmentation.segment(bundles,\n",
    "                         streamlines,\n",
    "                         fdata=fdata,\n",
    "                         fbval=fbval,\n",
    "                         fbvec=fbvec,\n",
    "                         mapping=mapping,\n",
    "                         reg_template=MNI_T2_img)\n",
    "\n",
    "\n",
    "    fiber_groups = segmentation.fiber_groups\n",
    "\n",
    "    print(\"Cleaning fiber groups...\")\n",
    "    for bundle in bundles:\n",
    "        fiber_groups[bundle] = seg.clean_fiber_group(fiber_groups[bundle])\n",
    "\n",
    "    for kk in fiber_groups:\n",
    "        print(kk, len(fiber_groups[kk]))\n",
    "\n",
    "        sft = StatefulTractogram(\n",
    "            dtu.transform_tracking_output(fiber_groups[kk], img.affine),\n",
    "            img, Space.RASMM)\n",
    "\n",
    "        save_tractogram(sft, './%s_afq.trk'%kk,\n",
    "                        bbox_valid_check=False)\n",
    "\n",
    "    axs = []\n",
    "    print(\"Extracting tract profiles...\")\n",
    "    for bundle in bundles:\n",
    "        fig, ax = plt.subplots(1)\n",
    "        weights = gaussian_weights(fiber_groups[bundle])\n",
    "        profile = afq_profile(FA_data, fiber_groups[bundle],\n",
    "                              np.eye(4), weights=weights)\n",
    "        ax.plot(profile)\n",
    "        ax.set_title(bundle)\n",
    "        axs.append(ax)\n",
    "\n",
    "    return axs\n"
   ]
  },
  {
   "cell_type": "code",
   "execution_count": 37,
   "metadata": {},
   "outputs": [],
   "source": [
    "#profile_hcp([\"100206\", aws_access_key, aws_secret_key])"
   ]
  },
  {
   "cell_type": "code",
   "execution_count": 31,
   "metadata": {},
   "outputs": [],
   "source": [
    "import cloudknot as ck"
   ]
  },
  {
   "cell_type": "code",
   "execution_count": 33,
   "metadata": {},
   "outputs": [],
   "source": [
    "knot = ck.Knot(name='profile-hcp',\n",
    "               image_github_installs=(\"https://github.com/arokem/pyAFQ.git\"),\n",
    "               func=profile_hcp, pars_policies=('AmazonS3FullAccess',))"
   ]
  },
  {
   "cell_type": "code",
   "execution_count": 34,
   "metadata": {},
   "outputs": [],
   "source": [
    "# import boto3\n",
    "# bucket_name = 'profile-hcp'\n",
    "# aws_cred_local = os.path.expanduser('~/.aws/credentials')\n",
    "# aws_cred_bucket = '.aws/credentials'\n",
    "\n",
    "# upload aws credentials\n",
    "# s3 = boto3.client('s3')\n",
    "# with open(aws_cred_local, \"rb\") as f:\n",
    "#    s3.upload_fileobj(f, bucket_name, aws_cred_bucket)"
   ]
  },
  {
   "cell_type": "code",
   "execution_count": 35,
   "metadata": {},
   "outputs": [],
   "source": [
    "result_futures = knot.map(attach_keys([\"100206\", \"162228\", \"175540\"]))"
   ]
  },
  {
   "cell_type": "code",
   "execution_count": 43,
   "metadata": {},
   "outputs": [
    {
     "name": "stdout",
     "output_type": "stream",
     "text": [
      "Job ID              Name                        Status   \n",
      "---------------------------------------------------------\n",
      "0c892b21-37ac-42b6-a2df-4fd881cea8c8        profile-hcp-0               FAILED   \n"
     ]
    }
   ],
   "source": [
    "knot.view_jobs()"
   ]
  },
  {
   "cell_type": "code",
   "execution_count": 12,
   "metadata": {},
   "outputs": [
    {
     "ename": "KeyboardInterrupt",
     "evalue": "",
     "output_type": "error",
     "traceback": [
      "\u001b[0;31m---------------------------------------------------------------------------\u001b[0m",
      "\u001b[0;31mKeyboardInterrupt\u001b[0m                         Traceback (most recent call last)",
      "\u001b[0;32m<ipython-input-12-b65fbc7d7fff>\u001b[0m in \u001b[0;36m<module>\u001b[0;34m\u001b[0m\n\u001b[1;32m      1\u001b[0m \u001b[0mr0\u001b[0m \u001b[0;34m=\u001b[0m \u001b[0mresult_futures\u001b[0m\u001b[0;34m\u001b[0m\u001b[0;34m\u001b[0m\u001b[0m\n\u001b[0;32m----> 2\u001b[0;31m \u001b[0mresults\u001b[0m \u001b[0;34m=\u001b[0m \u001b[0mr0\u001b[0m\u001b[0;34m.\u001b[0m\u001b[0mresult\u001b[0m\u001b[0;34m(\u001b[0m\u001b[0;34m)\u001b[0m\u001b[0;34m\u001b[0m\u001b[0;34m\u001b[0m\u001b[0m\n\u001b[0m",
      "\u001b[0;32m~/miniconda3/envs/afq/lib/python3.7/concurrent/futures/_base.py\u001b[0m in \u001b[0;36mresult\u001b[0;34m(self, timeout)\u001b[0m\n\u001b[1;32m    425\u001b[0m                 \u001b[0;32mreturn\u001b[0m \u001b[0mself\u001b[0m\u001b[0;34m.\u001b[0m\u001b[0m__get_result\u001b[0m\u001b[0;34m(\u001b[0m\u001b[0;34m)\u001b[0m\u001b[0;34m\u001b[0m\u001b[0;34m\u001b[0m\u001b[0m\n\u001b[1;32m    426\u001b[0m \u001b[0;34m\u001b[0m\u001b[0m\n\u001b[0;32m--> 427\u001b[0;31m             \u001b[0mself\u001b[0m\u001b[0;34m.\u001b[0m\u001b[0m_condition\u001b[0m\u001b[0;34m.\u001b[0m\u001b[0mwait\u001b[0m\u001b[0;34m(\u001b[0m\u001b[0mtimeout\u001b[0m\u001b[0;34m)\u001b[0m\u001b[0;34m\u001b[0m\u001b[0;34m\u001b[0m\u001b[0m\n\u001b[0m\u001b[1;32m    428\u001b[0m \u001b[0;34m\u001b[0m\u001b[0m\n\u001b[1;32m    429\u001b[0m             \u001b[0;32mif\u001b[0m \u001b[0mself\u001b[0m\u001b[0;34m.\u001b[0m\u001b[0m_state\u001b[0m \u001b[0;32min\u001b[0m \u001b[0;34m[\u001b[0m\u001b[0mCANCELLED\u001b[0m\u001b[0;34m,\u001b[0m \u001b[0mCANCELLED_AND_NOTIFIED\u001b[0m\u001b[0;34m]\u001b[0m\u001b[0;34m:\u001b[0m\u001b[0;34m\u001b[0m\u001b[0;34m\u001b[0m\u001b[0m\n",
      "\u001b[0;32m~/miniconda3/envs/afq/lib/python3.7/threading.py\u001b[0m in \u001b[0;36mwait\u001b[0;34m(self, timeout)\u001b[0m\n\u001b[1;32m    294\u001b[0m         \u001b[0;32mtry\u001b[0m\u001b[0;34m:\u001b[0m    \u001b[0;31m# restore state no matter what (e.g., KeyboardInterrupt)\u001b[0m\u001b[0;34m\u001b[0m\u001b[0;34m\u001b[0m\u001b[0m\n\u001b[1;32m    295\u001b[0m             \u001b[0;32mif\u001b[0m \u001b[0mtimeout\u001b[0m \u001b[0;32mis\u001b[0m \u001b[0;32mNone\u001b[0m\u001b[0;34m:\u001b[0m\u001b[0;34m\u001b[0m\u001b[0;34m\u001b[0m\u001b[0m\n\u001b[0;32m--> 296\u001b[0;31m                 \u001b[0mwaiter\u001b[0m\u001b[0;34m.\u001b[0m\u001b[0macquire\u001b[0m\u001b[0;34m(\u001b[0m\u001b[0;34m)\u001b[0m\u001b[0;34m\u001b[0m\u001b[0;34m\u001b[0m\u001b[0m\n\u001b[0m\u001b[1;32m    297\u001b[0m                 \u001b[0mgotit\u001b[0m \u001b[0;34m=\u001b[0m \u001b[0;32mTrue\u001b[0m\u001b[0;34m\u001b[0m\u001b[0;34m\u001b[0m\u001b[0m\n\u001b[1;32m    298\u001b[0m             \u001b[0;32melse\u001b[0m\u001b[0;34m:\u001b[0m\u001b[0;34m\u001b[0m\u001b[0;34m\u001b[0m\u001b[0m\n",
      "\u001b[0;31mKeyboardInterrupt\u001b[0m: "
     ]
    }
   ],
   "source": [
    "r0 = result_futures\n",
    "results = r0.result()"
   ]
  },
  {
   "cell_type": "code",
   "execution_count": 30,
   "metadata": {},
   "outputs": [],
   "source": [
    "knot.clobber(clobber_pars=True, clobber_repo=True, clobber_image=True)"
   ]
  },
  {
   "cell_type": "code",
   "execution_count": 38,
   "metadata": {},
   "outputs": [
    {
     "ename": "ClientError",
     "evalue": "An error occurred (AccessDenied) when calling the CreateBucket operation: Access Denied",
     "output_type": "error",
     "traceback": [
      "\u001b[0;31m---------------------------------------------------------------------------\u001b[0m",
      "\u001b[0;31mClientError\u001b[0m                               Traceback (most recent call last)",
      "\u001b[0;32m<ipython-input-38-5b5206d73daa>\u001b[0m in \u001b[0;36m<module>\u001b[0;34m\u001b[0m\n\u001b[1;32m      1\u001b[0m \u001b[0;32mimport\u001b[0m \u001b[0mboto3\u001b[0m\u001b[0;34m\u001b[0m\u001b[0;34m\u001b[0m\u001b[0m\n\u001b[1;32m      2\u001b[0m \u001b[0ms3\u001b[0m \u001b[0;34m=\u001b[0m \u001b[0mboto3\u001b[0m\u001b[0;34m.\u001b[0m\u001b[0mclient\u001b[0m\u001b[0;34m(\u001b[0m\u001b[0;34m's3'\u001b[0m\u001b[0;34m)\u001b[0m\u001b[0;34m\u001b[0m\u001b[0;34m\u001b[0m\u001b[0m\n\u001b[0;32m----> 3\u001b[0;31m \u001b[0ms3\u001b[0m\u001b[0;34m.\u001b[0m\u001b[0mcreate_bucket\u001b[0m\u001b[0;34m(\u001b[0m\u001b[0mBucket\u001b[0m\u001b[0;34m=\u001b[0m\u001b[0;34m'fails-to-create'\u001b[0m\u001b[0;34m)\u001b[0m\u001b[0;34m\u001b[0m\u001b[0;34m\u001b[0m\u001b[0m\n\u001b[0m",
      "\u001b[0;32m~/miniconda3/envs/afq/lib/python3.7/site-packages/botocore/client.py\u001b[0m in \u001b[0;36m_api_call\u001b[0;34m(self, *args, **kwargs)\u001b[0m\n\u001b[1;32m    355\u001b[0m                     \"%s() only accepts keyword arguments.\" % py_operation_name)\n\u001b[1;32m    356\u001b[0m             \u001b[0;31m# The \"self\" in this scope is referring to the BaseClient.\u001b[0m\u001b[0;34m\u001b[0m\u001b[0;34m\u001b[0m\u001b[0;34m\u001b[0m\u001b[0m\n\u001b[0;32m--> 357\u001b[0;31m             \u001b[0;32mreturn\u001b[0m \u001b[0mself\u001b[0m\u001b[0;34m.\u001b[0m\u001b[0m_make_api_call\u001b[0m\u001b[0;34m(\u001b[0m\u001b[0moperation_name\u001b[0m\u001b[0;34m,\u001b[0m \u001b[0mkwargs\u001b[0m\u001b[0;34m)\u001b[0m\u001b[0;34m\u001b[0m\u001b[0;34m\u001b[0m\u001b[0m\n\u001b[0m\u001b[1;32m    358\u001b[0m \u001b[0;34m\u001b[0m\u001b[0m\n\u001b[1;32m    359\u001b[0m         \u001b[0m_api_call\u001b[0m\u001b[0;34m.\u001b[0m\u001b[0m__name__\u001b[0m \u001b[0;34m=\u001b[0m \u001b[0mstr\u001b[0m\u001b[0;34m(\u001b[0m\u001b[0mpy_operation_name\u001b[0m\u001b[0;34m)\u001b[0m\u001b[0;34m\u001b[0m\u001b[0;34m\u001b[0m\u001b[0m\n",
      "\u001b[0;32m~/miniconda3/envs/afq/lib/python3.7/site-packages/botocore/client.py\u001b[0m in \u001b[0;36m_make_api_call\u001b[0;34m(self, operation_name, api_params)\u001b[0m\n\u001b[1;32m    659\u001b[0m             \u001b[0merror_code\u001b[0m \u001b[0;34m=\u001b[0m \u001b[0mparsed_response\u001b[0m\u001b[0;34m.\u001b[0m\u001b[0mget\u001b[0m\u001b[0;34m(\u001b[0m\u001b[0;34m\"Error\"\u001b[0m\u001b[0;34m,\u001b[0m \u001b[0;34m{\u001b[0m\u001b[0;34m}\u001b[0m\u001b[0;34m)\u001b[0m\u001b[0;34m.\u001b[0m\u001b[0mget\u001b[0m\u001b[0;34m(\u001b[0m\u001b[0;34m\"Code\"\u001b[0m\u001b[0;34m)\u001b[0m\u001b[0;34m\u001b[0m\u001b[0;34m\u001b[0m\u001b[0m\n\u001b[1;32m    660\u001b[0m             \u001b[0merror_class\u001b[0m \u001b[0;34m=\u001b[0m \u001b[0mself\u001b[0m\u001b[0;34m.\u001b[0m\u001b[0mexceptions\u001b[0m\u001b[0;34m.\u001b[0m\u001b[0mfrom_code\u001b[0m\u001b[0;34m(\u001b[0m\u001b[0merror_code\u001b[0m\u001b[0;34m)\u001b[0m\u001b[0;34m\u001b[0m\u001b[0;34m\u001b[0m\u001b[0m\n\u001b[0;32m--> 661\u001b[0;31m             \u001b[0;32mraise\u001b[0m \u001b[0merror_class\u001b[0m\u001b[0;34m(\u001b[0m\u001b[0mparsed_response\u001b[0m\u001b[0;34m,\u001b[0m \u001b[0moperation_name\u001b[0m\u001b[0;34m)\u001b[0m\u001b[0;34m\u001b[0m\u001b[0;34m\u001b[0m\u001b[0m\n\u001b[0m\u001b[1;32m    662\u001b[0m         \u001b[0;32melse\u001b[0m\u001b[0;34m:\u001b[0m\u001b[0;34m\u001b[0m\u001b[0;34m\u001b[0m\u001b[0m\n\u001b[1;32m    663\u001b[0m             \u001b[0;32mreturn\u001b[0m \u001b[0mparsed_response\u001b[0m\u001b[0;34m\u001b[0m\u001b[0;34m\u001b[0m\u001b[0m\n",
      "\u001b[0;31mClientError\u001b[0m: An error occurred (AccessDenied) when calling the CreateBucket operation: Access Denied"
     ]
    }
   ],
   "source": [
    "import boto3\n",
    "s3 = boto3.client('s3')\n",
    "s3.create_bucket(Bucket='fails-to-create')"
   ]
  },
  {
   "cell_type": "code",
   "execution_count": null,
   "metadata": {},
   "outputs": [],
   "source": []
  }
 ],
 "metadata": {
  "kernelspec": {
   "display_name": "Python 3",
   "language": "python",
   "name": "python3"
  },
  "language_info": {
   "codemirror_mode": {
    "name": "ipython",
    "version": 3
   },
   "file_extension": ".py",
   "mimetype": "text/x-python",
   "name": "python",
   "nbconvert_exporter": "python",
   "pygments_lexer": "ipython3",
   "version": "3.7.3"
  }
 },
 "nbformat": 4,
 "nbformat_minor": 2
}
