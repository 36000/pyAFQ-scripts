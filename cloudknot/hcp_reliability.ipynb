{
 "cells": [
  {
   "cell_type": "code",
   "execution_count": null,
   "metadata": {},
   "outputs": [],
   "source": [
    "import configparser\n",
    "import os.path as op\n",
    "\n",
    "CP = configparser.ConfigParser()\n",
    "CP.read_file(open(op.join(op.expanduser('~'), '.aws', 'credentials')))\n",
    "CP.sections()\n",
    "aws_access_key = CP.get('hcp', 'AWS_ACCESS_KEY_ID')\n",
    "aws_secret_key = CP.get('hcp', 'AWS_SECRET_ACCESS_KEY')\n",
    "\n",
    "def attach_keys(arr):\n",
    "    return [(e, aws_access_key, aws_secret_key) for e in arr]"
   ]
  },
  {
   "cell_type": "code",
   "execution_count": null,
   "metadata": {},
   "outputs": [],
   "source": [
    "def afq_hcp_retest(args):\n",
    "    import fury\n",
    "    import xvfbwrapper\n",
    "    import logging\n",
    "    import os.path as op\n",
    "    import s3fs\n",
    "\n",
    "    from AFQ.data import fetch_hcp\n",
    "    import AFQ.api as api\n",
    "    import AFQ.mask as afm\n",
    "    \n",
    "    do_single_shell = False\n",
    "    do_multi_shell = True\n",
    "\n",
    "    logging.basicConfig(level=logging.INFO)\n",
    "    log = logging.getLogger(__name__)  \n",
    "    \n",
    "    fs = s3fs.S3FileSystem()\n",
    "    \n",
    "    subject = args[0]\n",
    "    aws_access_key = args[1]\n",
    "    aws_secret_key = args[2]\n",
    "\n",
    "    _, hcp_1200_bids = fetch_hcp(\n",
    "        [subject],\n",
    "        profile_name=False,\n",
    "        study='HCP_1200',\n",
    "        aws_access_key_id=aws_access_key,\n",
    "        aws_secret_access_key=aws_secret_key)\n",
    "\n",
    "    _, hcp_retest_bids = fetch_hcp(\n",
    "        [subject],\n",
    "        profile_name=False,\n",
    "        study='HCP_Retest',\n",
    "        aws_access_key_id=aws_access_key,\n",
    "        aws_secret_access_key=aws_secret_key)\n",
    "\n",
    "    if do_single_shell:\n",
    "        myafq_1200_single_shell = api.AFQ(\n",
    "            hcp_1200_bids,\n",
    "            brain_mask=afm.LabelledMaskFile('seg', scope='dmriprep', exclusive_labels=[0]),\n",
    "            min_bval=990,\n",
    "            max_bval=1010,\n",
    "            virtual_frame_buffer=True)\n",
    "\n",
    "        myafq_retest_single_shell = api.AFQ(\n",
    "            hcp_retest_bids,\n",
    "            brain_mask=afm.LabelledMaskFile('seg', scope='dmriprep', exclusive_labels=[0]),\n",
    "            min_bval=990,\n",
    "            max_bval=1010,\n",
    "            virtual_frame_buffer=True)\n",
    "\n",
    "        myafq_1200_single_shell.export_all()\n",
    "        fs.put(op.join(hcp_1200_bids, \"derivatives/afq\"), \"profile-hcp/hcp_reliability/single_shell/hcp_1200\", recursive=True)\n",
    "\n",
    "        myafq_retest_single_shell.export_all()\n",
    "        fs.put(op.join(hcp_retest_bids, \"derivatives/afq\"), \"profile-hcp/hcp_reliability/single_shell/hcp_retest\", recursive=True)\n",
    "\n",
    "    if do_multi_shell:\n",
    "        myafq_1200_multi_shell = api.AFQ(\n",
    "            hcp_1200_bids,\n",
    "            brain_mask=afm.LabelledMaskFile('seg', scope='dmriprep', exclusive_labels=[0]),\n",
    "            tracking_params = {\"odf_model\": \"DKI\", 'seed_mask': afm.ScalarMask('dki_fa'), 'stop_mask': afm.ScalarMask('dki_fa')},\n",
    "            scalars=[\"dki_fa\", \"dki_md\"],\n",
    "            force_recompute=do_single_shell,\n",
    "            virtual_frame_buffer=True)\n",
    "\n",
    "        myafq_retest_multi_shell = api.AFQ(\n",
    "            hcp_retest_bids,\n",
    "            brain_mask=afm.LabelledMaskFile('seg', scope='dmriprep', exclusive_labels=[0]),\n",
    "            tracking_params = {\"odf_model\": \"DKI\", 'seed_mask': afm.ScalarMask('dki_fa'), 'stop_mask': afm.ScalarMask('dki_fa')},\n",
    "            scalars=[\"dki_fa\", \"dki_md\"],\n",
    "            force_recompute=do_single_shell,\n",
    "            virtual_frame_buffer=True)\n",
    "\n",
    "        myafq_1200_multi_shell.export_all()\n",
    "        fs.put(op.join(hcp_1200_bids, \"derivatives/afq\"), \"profile-hcp/hcp_reliability/multi_shell/hcp_1200\", recursive=True)\n",
    "\n",
    "        myafq_retest_multi_shell.export_all()\n",
    "        fs.put(op.join(hcp_retest_bids, \"derivatives/afq\"), \"profile-hcp/hcp_reliability/multi_shell/hcp_retest\", recursive=True)\n"
   ]
  },
  {
   "cell_type": "code",
   "execution_count": null,
   "metadata": {},
   "outputs": [],
   "source": [
    "subjects_num = [\n",
    "    169343,\n",
    "    177746,\n",
    "    195041,\n",
    "#     185442,\n",
    "#     433839,\n",
    "#     144226,\n",
    "#     200614,\n",
    "#     204521,\n",
    "#     601127,\n",
    "#     877168,\n",
    "]\n",
    "subjects = [str(i) for i in subjects_num] \n",
    "args = attach_keys(subjects)"
   ]
  },
  {
   "cell_type": "code",
   "execution_count": null,
   "metadata": {
    "scrolled": true
   },
   "outputs": [],
   "source": [
    "#afq_hcp_retest(attach_keys(['169343'])[0])"
   ]
  },
  {
   "cell_type": "code",
   "execution_count": null,
   "metadata": {},
   "outputs": [],
   "source": [
    "import cloudknot as ck\n",
    "ck.set_region('us-east-1')"
   ]
  },
  {
   "cell_type": "code",
   "execution_count": null,
   "metadata": {},
   "outputs": [],
   "source": [
    "knot = ck.Knot(name='hcp_api-64gb-20821-0',\n",
    "              func=afq_hcp_retest,\n",
    "              base_image='libglxvfb:1',\n",
    "              image_github_installs=\"https://github.com/36000/pyAFQ.git@mask_files\",\n",
    "              pars_policies=('AmazonS3FullAccess',),\n",
    "              bid_percentage=100,\n",
    "              volume_size=64,\n",
    "              memory=64000)"
   ]
  },
  {
   "cell_type": "code",
   "execution_count": null,
   "metadata": {},
   "outputs": [],
   "source": [
    "result_futures = knot.map(args)"
   ]
  },
  {
   "cell_type": "code",
   "execution_count": null,
   "metadata": {},
   "outputs": [],
   "source": [
    "ck.set_region('us-east-1')\n",
    "knot.view_jobs()"
   ]
  },
  {
   "cell_type": "code",
   "execution_count": null,
   "metadata": {},
   "outputs": [],
   "source": [
    "j0 = knot.jobs[0]\n",
    "j0.status"
   ]
  },
  {
   "cell_type": "code",
   "execution_count": null,
   "metadata": {},
   "outputs": [],
   "source": [
    "knot.clobber(clobber_pars=True, clobber_repo=True, clobber_image=True)"
   ]
  },
  {
   "cell_type": "code",
   "execution_count": null,
   "metadata": {},
   "outputs": [],
   "source": [
    "import AFQ.api as api\n",
    "from importlib import reload\n",
    "reload(api)"
   ]
  },
  {
   "cell_type": "code",
   "execution_count": null,
   "metadata": {
    "scrolled": true
   },
   "outputs": [],
   "source": [
    "api.download_and_combine_afq_profiles(\n",
    "    \"~/hcp_reliability_profiles/single_shell_test_profiles.csv\",\n",
    "    \"profile-hcp\",\n",
    "    \"hcp_reliability/single_shell/hcp_1200\"\n",
    "    )\n",
    "api.download_and_combine_afq_profiles(\n",
    "    \"~/hcp_reliability_profiles/single_shell_retest_profiles.csv\",\n",
    "    \"profile-hcp\",\n",
    "    \"hcp_reliability/single_shell/hcp_retest\"\n",
    "    )\n",
    "api.download_and_combine_afq_profiles(\n",
    "    \"~/hcp_reliability_profiles/multi_shell_test_profiles.csv\",\n",
    "    \"profile-hcp\",\n",
    "    \"hcp_reliability/multi_shell/hcp_1200\"\n",
    "    )\n",
    "api.download_and_combine_afq_profiles(\n",
    "    \"~/hcp_reliability_profiles/multi_shell_retest_profiles.csv\",\n",
    "    \"profile-hcp\",\n",
    "    \"hcp_reliability/multi_shell/hcp_retest\"\n",
    "    )"
   ]
  },
  {
   "cell_type": "code",
   "execution_count": null,
   "metadata": {},
   "outputs": [],
   "source": [
    "import AFQ.viz.utils as vut\n",
    "import logging\n",
    "single_comparisons = vut.LongitudinalCSVComparison(\n",
    "    'hcp_reliability_profiles/comparisons',\n",
    "    [\n",
    "        \"~/hcp_reliability_profiles/single_shell_test_profiles.csv\",\n",
    "        \"~/hcp_reliability_profiles/single_shell_retest_profiles.csv\"\n",
    "    ],\n",
    "    ['single_test', 'single_retest'])\n",
    "multi_comparisons = vut.LongitudinalCSVComparison(\n",
    "    'hcp_reliability_profiles/comparisons',\n",
    "    [\n",
    "        \"~/hcp_reliability_profiles/multi_shell_test_profiles.csv\",\n",
    "        \"~/hcp_reliability_profiles/multi_shell_retest_profiles.csv\"\n",
    "    ],\n",
    "    ['multi_test', 'multi_retest'],\n",
    "    scalar_bounds={'lb': {'dki_fa': 0.2},\n",
    "                   'ub': {'dki_md': 0.002}})\n",
    "\n",
    "single_comparisons.logger.setLevel(logging.WARNING)\n",
    "multi_comparisons.logger.setLevel(logging.WARNING)"
   ]
  },
  {
   "cell_type": "code",
   "execution_count": null,
   "metadata": {},
   "outputs": [],
   "source": [
    "single_comparisons.reliability_plots(ylims=[0.0, 1.0], show_plots=True)\n",
    "multi_comparisons.reliability_plots(ylims=[0.0, 1.0], scalars=[\"dki_fa\", \"dki_md\"], show_plots=True)"
   ]
  },
  {
   "cell_type": "code",
   "execution_count": null,
   "metadata": {},
   "outputs": [],
   "source": []
  }
 ],
 "metadata": {
  "kernelspec": {
   "display_name": "Python 3",
   "language": "python",
   "name": "python3"
  },
  "language_info": {
   "codemirror_mode": {
    "name": "ipython",
    "version": 3
   },
   "file_extension": ".py",
   "mimetype": "text/x-python",
   "name": "python",
   "nbconvert_exporter": "python",
   "pygments_lexer": "ipython3",
   "version": "3.7.7"
  }
 },
 "nbformat": 4,
 "nbformat_minor": 4
}
