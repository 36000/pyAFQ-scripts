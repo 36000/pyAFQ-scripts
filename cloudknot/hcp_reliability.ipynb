{
 "cells": [
  {
   "cell_type": "code",
   "execution_count": 46,
   "metadata": {},
   "outputs": [],
   "source": [
    "import configparser\n",
    "import os.path as op\n",
    "\n",
    "CP = configparser.ConfigParser()\n",
    "CP.read_file(open(op.join(op.expanduser('~'), '.aws', 'credentials')))\n",
    "CP.sections()\n",
    "aws_access_key = CP.get('hcp', 'AWS_ACCESS_KEY_ID')\n",
    "aws_secret_key = CP.get('hcp', 'AWS_SECRET_ACCESS_KEY')\n",
    "\n",
    "def attach_keys(arr):\n",
    "    return [(e, aws_access_key, aws_secret_key) for e in arr]"
   ]
  },
  {
   "cell_type": "code",
   "execution_count": 47,
   "metadata": {},
   "outputs": [],
   "source": [
    "def afq_hcp_retest(args):\n",
    "    import fury\n",
    "    import xvfbwrapper\n",
    "    import logging\n",
    "    import os.path as op\n",
    "    import s3fs\n",
    "\n",
    "    from AFQ.data import fetch_hcp\n",
    "    import AFQ.api as api\n",
    "    \n",
    "    logging.basicConfig(level=logging.INFO)\n",
    "    log = logging.getLogger(__name__)  \n",
    "    \n",
    "    fs = s3fs.S3FileSystem()\n",
    "    \n",
    "    subject = args[0]\n",
    "    aws_access_key = args[1]\n",
    "    aws_secret_key = args[2]\n",
    "\n",
    "    _, hcp_1200_bids = fetch_hcp(\n",
    "        [subject],\n",
    "        profile_name=False,\n",
    "        study='HCP_1200',\n",
    "        aws_access_key_id=aws_access_key,\n",
    "        aws_secret_access_key=aws_secret_key)\n",
    "\n",
    "    _, hcp_retest_bids = fetch_hcp(\n",
    "        [subject],\n",
    "        profile_name=False,\n",
    "        study='HCP_Retest',\n",
    "        aws_access_key_id=aws_access_key,\n",
    "        aws_secret_access_key=aws_secret_key)\n",
    "\n",
    "\n",
    "    \n",
    "    myafq_1200 = api.AFQ(\n",
    "        hcp_1200_bids,\n",
    "        seg_suffix='aseg',\n",
    "        min_bval=990,\n",
    "        max_bval=1010,\n",
    "        b0_threshold=50,\n",
    "        reg_template=\"mni_T1\",\n",
    "        reg_subject=\"power_map\",\n",
    "        wm_criterion=0.2,\n",
    "        #tracking_params = {\"odf_model\": \"DKI\"},\n",
    "        virtual_frame_buffer=True)\n",
    "        #scalars=[\"dti_fa\", \"dti_md\", \"dki_fa\", \"dki_md\"])\n",
    "\n",
    "    myafq_retest = api.AFQ(\n",
    "        hcp_retest_bids,\n",
    "        seg_suffix='aseg',\n",
    "        min_bval=990,\n",
    "        max_bval=1010,\n",
    "        b0_threshold=50,\n",
    "        reg_template=\"mni_T1\",\n",
    "        reg_subject=\"power_map\",\n",
    "        wm_criterion=0.2,\n",
    "        #tracking_params = {\"odf_model\": \"DKI\"},\n",
    "        virtual_frame_buffer=True)\n",
    "        #scalars=[\"dti_fa\", \"dti_md\", \"dki_fa\", \"dki_md\"])\n",
    "    \n",
    "    myafq_1200.export_registered_b0()\n",
    "    myafq_1200.get_template_xform()\n",
    "    myafq_1200.export_bundles()\n",
    "    myafq_1200.get_tract_profiles()\n",
    "    myafq_1200.viz_bundles(export_as_gif=True)\n",
    "    myafq_1200.viz_ROIs(export_as_gif=True)\n",
    "    fs.put(op.join(hcp_1200_bids, \"afq\"), \"profile-hcp/hcp_reliability/hcp_1200\", recursive=True)\n",
    "\n",
    "    myafq_retest.export_registered_b0()\n",
    "    myafq_retest.get_template_xform()\n",
    "    myafq_retest.export_bundles()\n",
    "    myafq_retest.get_tract_profiles()\n",
    "    myafq_retest.viz_bundles(export_as_gif=True)\n",
    "    myafq_retest.viz_ROIs(export_as_gif=True)\n",
    "    fs.put(op.join(hcp_retest_bids, \"afq\"), \"profile-hcp/hcp_reliability/hcp_retest\", recursive=True)\n"
   ]
  },
  {
   "cell_type": "code",
   "execution_count": 48,
   "metadata": {},
   "outputs": [],
   "source": [
    "subjects_num = [\n",
    "    169343,\n",
    "    177746,\n",
    "    195041,\n",
    "    185442,\n",
    "    433839,\n",
    "    144226,\n",
    "    200614,\n",
    "    204521,\n",
    "    601127,\n",
    "    877168,\n",
    "]\n",
    "subjects = [str(i) for i in subjects_num] \n",
    "args = attach_keys(subjects)\n",
    "#afq_hcp_api(args[0])"
   ]
  },
  {
   "cell_type": "code",
   "execution_count": 49,
   "metadata": {
    "scrolled": true
   },
   "outputs": [],
   "source": [
    "#afq_hcp_retest(attach_keys(['169343'])[0])"
   ]
  },
  {
   "cell_type": "code",
   "execution_count": 50,
   "metadata": {},
   "outputs": [],
   "source": [
    "import cloudknot as ck\n",
    "ck.set_region('us-east-1')"
   ]
  },
  {
   "cell_type": "code",
   "execution_count": 52,
   "metadata": {},
   "outputs": [],
   "source": [
    "knot = ck.Knot(name='hcp_api-64gb-20731-0',\n",
    "              func=afq_hcp_retest,\n",
    "              base_image='libglxvfb:1',\n",
    "              image_github_installs=\"https://github.com/36000/pyAFQ.git@reg_fixes\",\n",
    "              pars_policies=('AmazonS3FullAccess',),\n",
    "              volume_size=64,\n",
    "              memory=64000)"
   ]
  },
  {
   "cell_type": "code",
   "execution_count": 53,
   "metadata": {},
   "outputs": [],
   "source": [
    "result_futures = knot.map(args)"
   ]
  },
  {
   "cell_type": "code",
   "execution_count": 63,
   "metadata": {},
   "outputs": [
    {
     "name": "stdout",
     "output_type": "stream",
     "text": [
      "Job ID              Name                        Status   \n",
      "---------------------------------------------------------\n",
      "e18e0bfe-5ae2-4910-b1d1-c1b9f7dd9641        hcp-api-64gb-20731-0-0        FAILED   \n"
     ]
    }
   ],
   "source": [
    "knot.view_jobs()"
   ]
  },
  {
   "cell_type": "code",
   "execution_count": 64,
   "metadata": {},
   "outputs": [
    {
     "data": {
      "text/plain": [
       "{'status': 'FAILED',\n",
       " 'statusReason': 'Array Child Job failed',\n",
       " 'attempts': [],\n",
       " 'arrayProperties': {'statusSummary': {'STARTING': 0,\n",
       "   'FAILED': 7,\n",
       "   'RUNNING': 0,\n",
       "   'SUCCEEDED': 3,\n",
       "   'RUNNABLE': 0,\n",
       "   'SUBMITTED': 0,\n",
       "   'PENDING': 0},\n",
       "  'size': 10}}"
      ]
     },
     "execution_count": 64,
     "metadata": {},
     "output_type": "execute_result"
    }
   ],
   "source": [
    "j0 = knot.jobs[0]\n",
    "j0.status"
   ]
  },
  {
   "cell_type": "code",
   "execution_count": 51,
   "metadata": {},
   "outputs": [],
   "source": [
    "knot.clobber(clobber_pars=True, clobber_repo=True, clobber_image=True)"
   ]
  },
  {
   "cell_type": "code",
   "execution_count": null,
   "metadata": {},
   "outputs": [],
   "source": [
    "subjects = [169343, 204521, 433839]"
   ]
  }
 ],
 "metadata": {
  "kernelspec": {
   "display_name": "Python 3",
   "language": "python",
   "name": "python3"
  },
  "language_info": {
   "codemirror_mode": {
    "name": "ipython",
    "version": 3
   },
   "file_extension": ".py",
   "mimetype": "text/x-python",
   "name": "python",
   "nbconvert_exporter": "python",
   "pygments_lexer": "ipython3",
   "version": "3.7.7"
  }
 },
 "nbformat": 4,
 "nbformat_minor": 4
}
