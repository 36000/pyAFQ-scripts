{
 "cells": [
  {
   "cell_type": "code",
   "execution_count": 1,
   "metadata": {},
   "outputs": [],
   "source": [
    "import configparser\n",
    "import os.path as op\n",
    "\n",
    "CP = configparser.ConfigParser()\n",
    "CP.read_file(open(op.join(op.expanduser('~'), '.aws', 'credentials')))\n",
    "CP.sections()\n",
    "aws_access_key = CP.get('hcp', 'AWS_ACCESS_KEY_ID')\n",
    "aws_secret_key = CP.get('hcp', 'AWS_SECRET_ACCESS_KEY')\n",
    "\n",
    "def attach_keys(arr):\n",
    "    return [(e, aws_access_key, aws_secret_key) for e in arr]"
   ]
  },
  {
   "cell_type": "code",
   "execution_count": 2,
   "metadata": {},
   "outputs": [],
   "source": [
    "def afq_hcp_api(args):\n",
    "    import logging\n",
    "    import os.path as op\n",
    "    import s3fs\n",
    "\n",
    "    from AFQ.data import fetch_hcp\n",
    "    import AFQ.api as api\n",
    "    \n",
    "    logging.basicConfig(level=logging.INFO)\n",
    "    log = logging.getLogger(__name__)  \n",
    "    \n",
    "    fs = s3fs.S3FileSystem()\n",
    "    \n",
    "    subject = args[0]\n",
    "    aws_access_key = args[1]\n",
    "    aws_secret_key = args[2]\n",
    "\n",
    "    fetch_hcp([subject], profile_name=False,\n",
    "              aws_access_key_id=aws_access_key,\n",
    "              aws_secret_access_key=aws_secret_key)\n",
    "    derivatives = op.join(op.expanduser('~'), \"AFQ_data/HCP/derivatives\");\n",
    "    \n",
    "    myafq = api.AFQ(op.join(derivatives, \"dmriprep\"),\n",
    "                    b0_threshold=50,\n",
    "                    sub_prefix=\"sub-\",\n",
    "                    tracking_params = {\"odf_model\": \"DKI\"},\n",
    "                    scalars=[\"dti_fa\", \"dti_md\", \"dki_fa\", \"dki_md\"])\n",
    "                        \n",
    "    myafq.export_bundles()\n",
    "    myafq.get_tract_profiles()\n",
    "    myafq.export_bundle_gif()\n",
    "    myafq.export_ROI_gifs()\n",
    "    df = myafq.combine_profiles()\n",
    "    fs.put(op.join(derivatives, \"afq\"), \"profile-hcp\", recursive=True)\n",
    "    return df"
   ]
  },
  {
   "cell_type": "code",
   "execution_count": 3,
   "metadata": {},
   "outputs": [],
   "source": [
    "import cloudknot as ck\n",
    "ck.set_region('us-east-1')"
   ]
  },
  {
   "cell_type": "code",
   "execution_count": 4,
   "metadata": {},
   "outputs": [],
   "source": [
    "knot = ck.Knot(name='hcp_api-64gb-20428-2',\n",
    "              func=afq_hcp_api,\n",
    "              base_image='libgl:1',\n",
    "              image_github_installs=\"https://github.com/36000/pyAFQ.git@xvfb-viz\", # @xvfb-viz\n",
    "              pars_policies=('AmazonS3FullAccess',),\n",
    "              resource_type=\"SPOT\",\n",
    "              bid_percentage=100,\n",
    "              memory=64000)"
   ]
  },
  {
   "cell_type": "code",
   "execution_count": 5,
   "metadata": {},
   "outputs": [],
   "source": [
    "result_futures = knot.map(attach_keys([\"100206\", \"162228\", \"175540\"]))"
   ]
  },
  {
   "cell_type": "code",
   "execution_count": 12,
   "metadata": {},
   "outputs": [
    {
     "name": "stdout",
     "output_type": "stream",
     "text": [
      "Job ID              Name                        Status   \n",
      "---------------------------------------------------------\n",
      "90ab5e62-9ae7-45b3-be82-c291880b216b        hcp-api-64gb-20428-2-0        PENDING  \n"
     ]
    }
   ],
   "source": [
    "knot.view_jobs()"
   ]
  },
  {
   "cell_type": "code",
   "execution_count": 9,
   "metadata": {},
   "outputs": [],
   "source": [
    "knot.clobber(clobber_pars=True, clobber_repo=True, clobber_image=True)"
   ]
  },
  {
   "cell_type": "code",
   "execution_count": null,
   "metadata": {},
   "outputs": [],
   "source": []
  }
 ],
 "metadata": {
  "kernelspec": {
   "display_name": "Python 3",
   "language": "python",
   "name": "python3"
  },
  "language_info": {
   "codemirror_mode": {
    "name": "ipython",
    "version": 3
   },
   "file_extension": ".py",
   "mimetype": "text/x-python",
   "name": "python",
   "nbconvert_exporter": "python",
   "pygments_lexer": "ipython3",
   "version": "3.7.0"
  }
 },
 "nbformat": 4,
 "nbformat_minor": 4
}
