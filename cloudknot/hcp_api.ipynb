{
 "cells": [
  {
   "cell_type": "code",
   "execution_count": 15,
   "metadata": {},
   "outputs": [],
   "source": [
    "import configparser\n",
    "import os.path as op\n",
    "\n",
    "CP = configparser.ConfigParser()\n",
    "CP.read_file(open(op.join(op.expanduser('~'), '.aws', 'credentials')))\n",
    "CP.sections()\n",
    "aws_access_key = CP.get('hcp', 'AWS_ACCESS_KEY_ID')\n",
    "aws_secret_key = CP.get('hcp', 'AWS_SECRET_ACCESS_KEY')\n",
    "\n",
    "def attach_keys(arr):\n",
    "    return [(e, aws_access_key, aws_secret_key) for e in arr]"
   ]
  },
  {
   "cell_type": "code",
   "execution_count": 33,
   "metadata": {},
   "outputs": [],
   "source": [
    "def afq_hcp_api(args):\n",
    "    import logging\n",
    "    import os.path as op\n",
    "    import s3fs\n",
    "\n",
    "    from AFQ.data import fetch_hcp\n",
    "    import AFQ.api as api\n",
    "    \n",
    "    logging.basicConfig(level=logging.INFO)\n",
    "    log = logging.getLogger(__name__)  \n",
    "    \n",
    "    fs = s3fs.S3FileSystem()\n",
    "    \n",
    "    subject = args[0]\n",
    "    aws_access_key = args[1]\n",
    "    aws_secret_key = args[2]\n",
    "\n",
    "    fetch_hcp([subject], profile_name=False,\n",
    "              aws_access_key_id=aws_access_key,\n",
    "              aws_secret_access_key=aws_secret_key)\n",
    "    derivatives = op.join(op.expanduser('~'), \"AFQ_data/HCP/derivatives\");\n",
    "    \n",
    "    myafq = api.AFQ(op.join(derivatives, \"dmriprep\"),\n",
    "                    b0_threshold=50,\n",
    "                    sub_prefix=\"sub-\",\n",
    "                    tracking_params = {\"odf_model\": \"DKI\"},\n",
    "                    #virtual_frame_buffer=True,\n",
    "                    scalars=[\"dti_fa\", \"dti_md\", \"dki_fa\", \"dki_md\"])\n",
    "    \n",
    "    myafq.export_registered_b0()\n",
    "#     myafq.export_bundles()\n",
    "#     myafq.get_tract_profiles()\n",
    "#     myafq.export_bundle_gif()\n",
    "#     myafq.export_ROI_gifs()\n",
    "    fs.put(op.join(derivatives, \"afq\"), \"profile-hcp\", recursive=True)\n"
   ]
  },
  {
   "cell_type": "code",
   "execution_count": 34,
   "metadata": {},
   "outputs": [],
   "source": [
    "subjects_num = [\n",
    "    101208,\n",
    "    102109,\n",
    "    102614,\n",
    "    102715,\n",
    "    103010,\n",
    "    103212,\n",
    "    106824,\n",
    "    108020,\n",
    "    111211,\n",
    "    113316,\n",
    "    113417,\n",
    "    114116,\n",
    "    115724,\n",
    "    116423,\n",
    "    117021,\n",
    "    117728,\n",
    "    118831,\n",
    "    119025,\n",
    "    120010,\n",
    "    120414,\n",
    "    120818,\n",
    "    122418,\n",
    "    123723,\n",
    "    125222,\n",
    "    125424,\n",
    "    126426,\n",
    "    127226,\n",
    "    127731,\n",
    "    127832,\n",
    "    130114,\n",
    "    130518,\n",
    "    130720,\n",
    "    134627,\n",
    "    135124,\n",
    "    135629,\n",
    "    136126,\n",
    "    136328,\n",
    "    136530,\n",
    "    136631,\n",
    "    137431,\n",
    "    137532,\n",
    "    138130,\n",
    "    138332,\n",
    "    139435,\n",
    "    143224,\n",
    "    143830,\n",
    "    144933,\n",
    "    145632,\n",
    "    146735,\n",
    "    146836\n",
    "]\n",
    "subjects = [str(i) for i in subjects_num] \n",
    "args = attach_keys(subjects)\n",
    "#afq_hcp_api(args[0])"
   ]
  },
  {
   "cell_type": "code",
   "execution_count": 35,
   "metadata": {},
   "outputs": [],
   "source": [
    "import cloudknot as ck\n",
    "ck.set_region('us-east-1')"
   ]
  },
  {
   "cell_type": "code",
   "execution_count": 36,
   "metadata": {},
   "outputs": [],
   "source": [
    "knot = ck.Knot(name='hcp_api-64gb-20708-2',\n",
    "              func=afq_hcp_api,\n",
    "              base_image='libglxvfb:1',\n",
    "              image_github_installs=\"https://github.com/yeatmanlab/pyAFQ.git\",\n",
    "              pars_policies=('AmazonS3FullAccess',),\n",
    "              resource_type=\"SPOT\",\n",
    "              bid_percentage=100,\n",
    "              memory=64000)"
   ]
  },
  {
   "cell_type": "code",
   "execution_count": 37,
   "metadata": {},
   "outputs": [],
   "source": [
    "result_futures = knot.map(attach_keys(['108020', '111211']))"
   ]
  },
  {
   "cell_type": "code",
   "execution_count": 39,
   "metadata": {},
   "outputs": [
    {
     "name": "stdout",
     "output_type": "stream",
     "text": [
      "Job ID              Name                        Status   \n",
      "---------------------------------------------------------\n",
      "65667b23-e42d-46ac-a4df-4f3d47aeb289        hcp-api-64gb-20708-2-0        SUCCEEDED\n"
     ]
    }
   ],
   "source": [
    "knot.view_jobs()"
   ]
  },
  {
   "cell_type": "code",
   "execution_count": 24,
   "metadata": {},
   "outputs": [
    {
     "data": {
      "text/plain": [
       "{'status': 'FAILED',\n",
       " 'statusReason': 'Array Child Job failed',\n",
       " 'attempts': [],\n",
       " 'arrayProperties': {'statusSummary': {'STARTING': 0,\n",
       "   'FAILED': 2,\n",
       "   'RUNNING': 0,\n",
       "   'SUCCEEDED': 0,\n",
       "   'RUNNABLE': 0,\n",
       "   'SUBMITTED': 0,\n",
       "   'PENDING': 0},\n",
       "  'size': 2}}"
      ]
     },
     "execution_count": 24,
     "metadata": {},
     "output_type": "execute_result"
    }
   ],
   "source": [
    "j0 = knot.jobs[0]\n",
    "j0.status"
   ]
  },
  {
   "cell_type": "code",
   "execution_count": 40,
   "metadata": {},
   "outputs": [],
   "source": [
    "knot.clobber(clobber_pars=True, clobber_repo=True, clobber_image=True)"
   ]
  },
  {
   "cell_type": "code",
   "execution_count": null,
   "metadata": {},
   "outputs": [],
   "source": []
  }
 ],
 "metadata": {
  "kernelspec": {
   "display_name": "Python 3",
   "language": "python",
   "name": "python3"
  },
  "language_info": {
   "codemirror_mode": {
    "name": "ipython",
    "version": 3
   },
   "file_extension": ".py",
   "mimetype": "text/x-python",
   "name": "python",
   "nbconvert_exporter": "python",
   "pygments_lexer": "ipython3",
   "version": "3.7.7"
  }
 },
 "nbformat": 4,
 "nbformat_minor": 4
}
