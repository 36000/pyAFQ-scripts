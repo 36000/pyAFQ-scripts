{
 "cells": [
  {
   "cell_type": "code",
   "execution_count": 1,
   "metadata": {},
   "outputs": [],
   "source": [
    "import cloudknot as ck"
   ]
  },
  {
   "cell_type": "code",
   "execution_count": 2,
   "metadata": {},
   "outputs": [],
   "source": [
    "ck.set_region('us-east-1')"
   ]
  },
  {
   "cell_type": "code",
   "execution_count": 3,
   "metadata": {},
   "outputs": [],
   "source": [
    "def afq_prek_api(subject):\n",
    "    import logging\n",
    "    import s3fs\n",
    "    import numpy as np\n",
    "    import os.path as op\n",
    "    import os\n",
    "\n",
    "    import AFQ.api as api\n",
    "    \n",
    "    logging.basicConfig(level=logging.INFO)\n",
    "    log = logging.getLogger(__name__)  \n",
    "\n",
    "    fs = s3fs.S3FileSystem()\n",
    "    \n",
    "    os.mkdir(op.join(op.expanduser('~'), \"prek\"))\n",
    "    os.mkdir(op.join(op.expanduser('~'), f\"prek/sub{subject}\"))\n",
    "    os.mkdir(op.join(op.expanduser('~'), f\"prek/sub{subject}/sess\"))\n",
    "    os.mkdir(op.join(op.expanduser('~'), f\"prek/sub{subject}/sess/anat\"))\n",
    "    os.mkdir(op.join(op.expanduser('~'), f\"prek/sub{subject}/sess/dwi\"))\n",
    "    os.mkdir(op.join(op.expanduser('~'), f\"afq\"))\n",
    "    os.mkdir(op.join(op.expanduser('~'), f\"afq/sub{subject}\"))\n",
    "    os.mkdir(op.join(op.expanduser('~'), f\"afq/sub{subject}/sess\"))\n",
    "    \n",
    "    #fs.get(f\"prek-diffusion/derivatives/afq/sub{subject}\", op.join(op.expanduser('~'), \"afq/\"), recursive=True)\n",
    "\n",
    "    # use matlab tractography\n",
    "    fs.get(f\"prek-diffusion/mat2py/tract_test_sub-{subject}.trk\",\n",
    "           f\"afq/sub{subject}/sess/dwi_aligned_trilin_space-RASMM_model-DTI_desc-det_tractography.trk\")\n",
    "    \n",
    "    dwi_dir = f'prek-diffusion/derivatives/sub-{subject}/dtiInit_ses-pre'\n",
    "    derivatives_dir_local = op.join(op.expanduser('~'), f\"prek/sub{subject}/sess\")\n",
    "\n",
    "    prek_fdata_src = op.join(dwi_dir, f\"sub-{subject}_ses-pre_acq-b1500_dwi_aligned_trilin.nii.gz\")\n",
    "    prek_fbval_src = op.join(dwi_dir, f\"sub-{subject}_ses-pre_acq-b1500_dwi_aligned_trilin.bvals\")\n",
    "    prek_fbvec_src = op.join(dwi_dir, f\"sub-{subject}_ses-pre_acq-b1500_dwi_aligned_trilin.bvecs\")\n",
    "    \n",
    "    prek_fdata = op.join(derivatives_dir_local, f\"dwi/dwi_aligned_trilin.nii.gz\")\n",
    "    prek_fbval = op.join(derivatives_dir_local, f\"dwi/dwi_aligned_trilin.bvals\")\n",
    "    prek_fbvec = op.join(derivatives_dir_local, f\"dwi/dwi_aligned_trilin.bvecs\")\n",
    "    \n",
    "    fs.get(prek_fdata_src, prek_fdata)\n",
    "    fs.get(prek_fbval_src, prek_fbval)\n",
    "    fs.get(prek_fbvec_src, prek_fbvec)\n",
    "\n",
    "    b0_threshold = 50\n",
    "\n",
    "    tracking_params = {\"n_seeds\": 2, \"directions\": 'det', \"stop_threshold\": 0.3,\n",
    "                       \"min_length\": 50, \"max_length\": 250}\n",
    "    segmentation_params = {\"prob_threshold\": 10, \"b0_threshold\": b0_threshold}\n",
    "    clean_params = {\"clean_rounds\": 1}\n",
    "\n",
    "    myafq = api.AFQ(op.join(op.expanduser('~'), f\"prek\"),\n",
    "                    dwi_folder=\"dwi\",\n",
    "                    dwi_file=\"dwi*\",\n",
    "                    virtual_frame_buffer=True,\n",
    "                    b0_threshold=b0_threshold,\n",
    "                    #wm_fa_thresh=0.2,\n",
    "\n",
    "                    tracking_params=tracking_params,\n",
    "                    segmentation_params=segmentation_params,\n",
    "                    clean_params=clean_params)\n",
    "    #myafq.get_streamlines()\n",
    "    myafq.get_template_xform()\n",
    "    myafq.export_bundles()\n",
    "    myafq.get_tract_profiles()\n",
    "    myafq.export_bundle_gif()\n",
    "    myafq.export_ROI_gifs()\n",
    "    fs.put(op.join(op.expanduser('~'), \"afq\"), \"prek-diffusion/derivatives_mat\", recursive=True)"
   ]
  },
  {
   "cell_type": "code",
   "execution_count": 4,
   "metadata": {},
   "outputs": [],
   "source": [
    "#afq_prek_api(1110)"
   ]
  },
  {
   "cell_type": "code",
   "execution_count": null,
   "metadata": {},
   "outputs": [],
   "source": [
    "afq_knot = ck.Knot(name='afq_prek-64gb-20622-0',\n",
    "                  func=afq_prek_api,\n",
    "                  base_image='libglxvfb:1',\n",
    "                  image_github_installs=\"https://github.com/yeatmanlab/pyAFQ.git\",\n",
    "                  pars_policies=('AmazonS3FullAccess',),\n",
    "                  resource_type=\"SPOT\",\n",
    "                  bid_percentage=100,\n",
    "                  memory=64000)"
   ]
  },
  {
   "cell_type": "code",
   "execution_count": null,
   "metadata": {},
   "outputs": [],
   "source": [
    "inputs = [1110,\n",
    "          1112,\n",
    "          1113]"
   ]
  },
  {
   "cell_type": "code",
   "execution_count": null,
   "metadata": {},
   "outputs": [],
   "source": [
    "ft = afq_knot.map(inputs)"
   ]
  },
  {
   "cell_type": "code",
   "execution_count": null,
   "metadata": {},
   "outputs": [],
   "source": [
    "afq_knot.view_jobs()"
   ]
  },
  {
   "cell_type": "code",
   "execution_count": 10,
   "metadata": {},
   "outputs": [],
   "source": [
    "j0 = afq_knot.jobs[0]"
   ]
  },
  {
   "cell_type": "code",
   "execution_count": 13,
   "metadata": {},
   "outputs": [
    {
     "data": {
      "text/plain": [
       "{'status': 'PENDING',\n",
       " 'statusReason': None,\n",
       " 'attempts': [],\n",
       " 'arrayProperties': {'statusSummary': {'STARTING': 1,\n",
       "   'FAILED': 0,\n",
       "   'RUNNING': 18,\n",
       "   'SUCCEEDED': 0,\n",
       "   'RUNNABLE': 2,\n",
       "   'SUBMITTED': 0,\n",
       "   'PENDING': 0},\n",
       "  'size': 21}}"
      ]
     },
     "execution_count": 13,
     "metadata": {},
     "output_type": "execute_result"
    }
   ],
   "source": [
    "j0.status"
   ]
  },
  {
   "cell_type": "code",
   "execution_count": 15,
   "metadata": {},
   "outputs": [],
   "source": [
    "afq_knot.clobber()"
   ]
  },
  {
   "cell_type": "code",
   "execution_count": 16,
   "metadata": {},
   "outputs": [],
   "source": [
    "import s3fs\n",
    "s3 = s3fs.S3FileSystem(anon=False)\n",
    "\n",
    "try:\n",
    "    s3.get(f'prek-diffusion/derivatives/AFQ_allvols_rt_ses-pre_19-Nov-2019.mat', 'source.mat')\n",
    "except FileNotFoundError:\n",
    "    print(f'mAFQ streamlines not found')\n",
    "    \n",
    "# use AFQ browser to process this"
   ]
  },
  {
   "cell_type": "code",
   "execution_count": 28,
   "metadata": {},
   "outputs": [],
   "source": [
    "for subject in inputs:\n",
    "    try:\n",
    "        s3.get(f'prek-diffusion/derivatives_fa/afq/sub{subject}/sess/dwi_aligned_trilin_profiles.csv', f'sub-{subject}_pyAFQ_profiles.csv')\n",
    "    except FileNotFoundError:\n",
    "        print(f'subject {subject} streamlines not found')"
   ]
  },
  {
   "cell_type": "code",
   "execution_count": 29,
   "metadata": {},
   "outputs": [],
   "source": [
    "import pandas as pd\n",
    "import numpy as np\n",
    "profiles_matlab = pd.read_csv('./AFQ-browser/client/data/nodes.csv')"
   ]
  },
  {
   "cell_type": "code",
   "execution_count": null,
   "metadata": {},
   "outputs": [],
   "source": []
  },
  {
   "cell_type": "code",
   "execution_count": 30,
   "metadata": {},
   "outputs": [],
   "source": [
    "def tract_map(name):\n",
    "    if name == 'Right Corticospinal':\n",
    "        return 'CST_R'\n",
    "    elif name == 'Left Corticospinal':\n",
    "        return 'CST_L'\n",
    "    elif name == 'Right Uncinate':\n",
    "        return 'UNC_R'\n",
    "    elif name == 'Left Uncinate':\n",
    "        return 'UNC_L'\n",
    "    elif name == 'Left IFOF':\n",
    "        return 'IFO_L'\n",
    "    elif name == 'Right IFOF':\n",
    "        return 'IFO_R'\n",
    "    elif name == 'Right Arcuate':\n",
    "        return 'ARC_R'\n",
    "    elif name == 'Left Arcuate':\n",
    "        return 'ARC_L'\n",
    "    elif name == 'Right Thalamic Radiation':\n",
    "        return 'ATR_R'\n",
    "    elif name == 'Left Thalamic Radiation':\n",
    "        return 'ATR_L'\n",
    "    elif name == 'Right Cingulum Cingulate':\n",
    "        return 'CGC_R'\n",
    "    elif name == 'Left Cingulum Cingulate':\n",
    "        return 'CGC_L'\n",
    "    elif name == 'Right Cingulum Hippocampus':\n",
    "        return 'HCC_R'\n",
    "    elif name == 'Left Cingulum Hippocampus':\n",
    "        return 'HCC_L'\n",
    "    elif name == 'Callosum Forceps Major':\n",
    "        return 'FP'\n",
    "    elif name == 'Callosum Forceps Minor':\n",
    "        return 'FA'\n",
    "    elif name == 'Right ILF':\n",
    "        return 'ILF_R'\n",
    "    elif name == 'Left ILF':\n",
    "        return 'ILF_L'\n",
    "    elif name == 'Right SLF':\n",
    "        return 'SLF_R'\n",
    "    elif name == 'Left SLF':\n",
    "        return 'SLF_L'\n",
    "    else:\n",
    "        return name\n",
    "        \n",
    "#profiles_matlab['tractID'].unique()\n",
    "profiles_matlab['subjectID'] = profiles_matlab['subjectID'].apply(lambda x: pd.to_numeric(x[-4:]))\n",
    "profiles_matlab['tractID'] = profiles_matlab['tractID'].apply(tract_map)"
   ]
  },
  {
   "cell_type": "code",
   "execution_count": 31,
   "metadata": {},
   "outputs": [
    {
     "name": "stdout",
     "output_type": "stream",
     "text": [
      "['ATR_L' 'ATR_R' 'CST_L' 'CST_R' 'CGC_L' 'CGC_R' 'HCC_L' 'HCC_R' 'FP' 'FA'\n",
      " 'IFO_L' 'IFO_R' 'ILF_L' 'ILF_R' 'SLF_L' 'SLF_R' 'UNC_L' 'UNC_R' 'ARC_L'\n",
      " 'ARC_R']\n"
     ]
    }
   ],
   "source": [
    "print(profiles_matlab['tractID'].unique())\n"
   ]
  },
  {
   "cell_type": "code",
   "execution_count": 1,
   "metadata": {},
   "outputs": [
    {
     "ename": "NameError",
     "evalue": "name 'pd' is not defined",
     "output_type": "error",
     "traceback": [
      "\u001b[0;31m---------------------------------------------------------------------------\u001b[0m",
      "\u001b[0;31mNameError\u001b[0m                                 Traceback (most recent call last)",
      "\u001b[0;32m<ipython-input-1-bace9f57e3d9>\u001b[0m in \u001b[0;36m<module>\u001b[0;34m\u001b[0m\n\u001b[1;32m      8\u001b[0m \u001b[0msubjects\u001b[0m \u001b[0;34m=\u001b[0m \u001b[0;34m[\u001b[0m\u001b[0;36m1110\u001b[0m\u001b[0;34m,\u001b[0m \u001b[0;36m1112\u001b[0m\u001b[0;34m,\u001b[0m \u001b[0;36m1113\u001b[0m\u001b[0;34m]\u001b[0m\u001b[0;34m\u001b[0m\u001b[0m\n\u001b[1;32m      9\u001b[0m \u001b[0;34m\u001b[0m\u001b[0m\n\u001b[0;32m---> 10\u001b[0;31m \u001b[0mpercent_diffs\u001b[0m \u001b[0;34m=\u001b[0m \u001b[0mpd\u001b[0m\u001b[0;34m.\u001b[0m\u001b[0mDataFrame\u001b[0m\u001b[0;34m(\u001b[0m\u001b[0mindex\u001b[0m\u001b[0;34m=\u001b[0m\u001b[0mbundles\u001b[0m\u001b[0;34m,\u001b[0m \u001b[0mcolumns\u001b[0m\u001b[0;34m=\u001b[0m\u001b[0msubjects\u001b[0m\u001b[0;34m)\u001b[0m\u001b[0;34m\u001b[0m\u001b[0m\n\u001b[0m\u001b[1;32m     11\u001b[0m \u001b[0;32mfor\u001b[0m \u001b[0msubject\u001b[0m \u001b[0;32min\u001b[0m \u001b[0msubjects\u001b[0m\u001b[0;34m:\u001b[0m\u001b[0;34m\u001b[0m\u001b[0m\n\u001b[1;32m     12\u001b[0m     \u001b[0;32mfor\u001b[0m \u001b[0mbundle\u001b[0m \u001b[0;32min\u001b[0m \u001b[0mbundles\u001b[0m\u001b[0;34m:\u001b[0m\u001b[0;34m\u001b[0m\u001b[0m\n",
      "\u001b[0;31mNameError\u001b[0m: name 'pd' is not defined"
     ]
    }
   ],
   "source": [
    "from matplotlib import pyplot as plt\n",
    "from sklearn.metrics import f1_score\n",
    "bundles = ['CST_R', 'CST_L', 'UNC_R', 'UNC_L',\n",
    "           'IFO_L', 'IFO_R', 'ARC_R', 'ARC_L',\n",
    "           'ATR_R', 'ATR_L', 'CGC_R', 'CGC_L',\n",
    "           'HCC_R', 'HCC_L', 'FP', 'FA',\n",
    "           'ILF_R', 'ILF_L', 'SLF_R', 'SLF_L']\n",
    "subjects = [1110, 1112, 1113]\n",
    "\n",
    "percent_diffs = pd.DataFrame(index=bundles, columns=subjects)\n",
    "for subject in subjects:\n",
    "    for bundle in bundles:\n",
    "        profiles_afq = pd.read_csv(f'sub-{subject}_pyAFQ_profiles.csv')\n",
    "\n",
    "        ml_test = profiles_matlab[(profiles_matlab['subjectID'] == subject) & (profiles_matlab['tractID'] == bundle)]['fa']\n",
    "        afq_test = profiles_afq[(profiles_afq['scalar'] == 'dti_fa') & (profiles_afq['bundle'] == bundle)]['profiles']\n",
    "        ml_test = ml_test.to_numpy()[1:]\n",
    "        afq_test = afq_test.to_numpy()[1:]\n",
    "        if (len(afq_test) > 0):\n",
    "            plt.plot(ml_test)\n",
    "            plt.plot(afq_test)\n",
    "            plt.title('Subject ' + str(subject) + ': ' + bundle)\n",
    "            plt.legend(['mAFQ', 'pyAFQ'])\n",
    "            plt.show()\n",
    "            \n",
    "            percent_diffs.at[bundle, subject] = np.mean((afq_test - ml_test)/ml_test)\n",
    "        else:\n",
    "            print('No streamlines found for subject ' + str(subject) + ' for bundle ' + bundle)\n",
    "\n",
    "print('Mean Percent Differences')\n",
    "print(percent_diffs) "
   ]
  },
  {
   "cell_type": "code",
   "execution_count": 10,
   "metadata": {},
   "outputs": [
    {
     "name": "stdout",
     "output_type": "stream",
     "text": [
      "['Left Thalamic Radiation' 'Right Thalamic Radiation' 'CST_L' 'CST_R'\n",
      " 'Left Cingulum Cingulate' 'Right Cingulum Cingulate'\n",
      " 'Left Cingulum Hippocampus' 'Right Cingulum Hippocampus'\n",
      " 'Callosum Forceps Major' 'Callosum Forceps Minor' 'IFO_L' 'IFO_R'\n",
      " 'Left ILF' 'Right ILF' 'Left SLF' 'Right SLF' 'UNC_L' 'UNC_R' 'ARC_L'\n",
      " 'ARC_R']\n"
     ]
    }
   ],
   "source": [
    "print(profiles_matlab['tractID'].unique())\n",
    "#print(profiles_afq['bundle'].unique())"
   ]
  },
  {
   "cell_type": "code",
   "execution_count": 9,
   "metadata": {},
   "outputs": [],
   "source": [
    "ml_test = profiles_matlab[(profiles_matlab['subjectID'] == subject) & (profiles_matlab['tractID'] == bundle)]['fa']"
   ]
  },
  {
   "cell_type": "code",
   "execution_count": 10,
   "metadata": {},
   "outputs": [
    {
     "data": {
      "text/plain": [
       "2300         NaN\n",
       "2301    0.406386\n",
       "2302    0.441796\n",
       "2303    0.471499\n",
       "2304    0.495186\n",
       "2305    0.499440\n",
       "2306    0.489918\n",
       "2307    0.498059\n",
       "2308    0.522706\n",
       "2309    0.547670\n",
       "2310    0.563576\n",
       "2311    0.574271\n",
       "2312    0.584724\n",
       "2313    0.585748\n",
       "2314    0.587670\n",
       "2315    0.582646\n",
       "2316    0.573634\n",
       "2317    0.557216\n",
       "2318    0.545585\n",
       "2319    0.541261\n",
       "2320    0.538737\n",
       "2321    0.534491\n",
       "2322    0.530308\n",
       "2323    0.527696\n",
       "2324    0.537302\n",
       "2325    0.553245\n",
       "2326    0.561763\n",
       "2327    0.564556\n",
       "2328    0.560319\n",
       "2329    0.555659\n",
       "          ...   \n",
       "2370    0.444613\n",
       "2371    0.462196\n",
       "2372    0.481694\n",
       "2373    0.503084\n",
       "2374    0.521198\n",
       "2375    0.534033\n",
       "2376    0.540955\n",
       "2377    0.541374\n",
       "2378    0.536686\n",
       "2379    0.531270\n",
       "2380    0.526245\n",
       "2381    0.523545\n",
       "2382    0.524835\n",
       "2383    0.525163\n",
       "2384    0.523869\n",
       "2385    0.514359\n",
       "2386    0.496446\n",
       "2387    0.477612\n",
       "2388    0.462474\n",
       "2389    0.450136\n",
       "2390    0.435730\n",
       "2391    0.420324\n",
       "2392    0.403386\n",
       "2393    0.385146\n",
       "2394    0.362250\n",
       "2395    0.334135\n",
       "2396    0.301894\n",
       "2397    0.264276\n",
       "2398    0.222628\n",
       "2399    0.181183\n",
       "Name: fa, Length: 100, dtype: float64"
      ]
     },
     "execution_count": 10,
     "metadata": {},
     "output_type": "execute_result"
    }
   ],
   "source": [
    "ml_test"
   ]
  },
  {
   "cell_type": "code",
   "execution_count": null,
   "metadata": {},
   "outputs": [],
   "source": []
  }
 ],
 "metadata": {
  "kernelspec": {
   "display_name": "Python 3",
   "language": "python",
   "name": "python3"
  },
  "language_info": {
   "codemirror_mode": {
    "name": "ipython",
    "version": 3
   },
   "file_extension": ".py",
   "mimetype": "text/x-python",
   "name": "python",
   "nbconvert_exporter": "python",
   "pygments_lexer": "ipython3",
   "version": "3.7.0"
  }
 },
 "nbformat": 4,
 "nbformat_minor": 2
}
